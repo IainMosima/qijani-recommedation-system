{
 "cells": [
  {
   "cell_type": "code",
   "metadata": {
    "ExecuteTime": {
     "end_time": "2025-04-19T17:44:52.218777Z",
     "start_time": "2025-04-19T17:44:52.213184Z"
    }
   },
   "source": [
    "\n",
    "import operator\n",
    "# Importing necessary libraries and modules for the script\n",
    "# Explicitly specifying Pydantic version V2 to ensure consistent functionality with the models used.\n",
    "import os\n",
    "from enum import Enum\n",
    "from typing import List, Optional, Literal, Dict\n",
    "\n",
    "\n",
    "from IPython.display import display, Image\n",
    "from dotenv import load_dotenv\n",
    "from langchain.prompts import PromptTemplate\n",
    "from langchain_community.document_loaders import WikipediaLoader\n",
    "from langchain_community.tools.tavily_search import TavilySearchResults\n",
    "from langchain_core.messages import HumanMessage, SystemMessage, AIMessage\n",
    "from langchain_core.output_parsers import JsonOutputParser\n",
    "from langchain_ollama import ChatOllama\n",
    "from langgraph.graph import START, END, StateGraph, MessagesState\n",
    "from typing_extensions import TypedDict, Annotated\n",
    "\n",
    "os.environ.clear()\n",
    "load_dotenv()\n",
    "import json\n"
   ],
   "outputs": [],
   "execution_count": 11
  },
  {
   "cell_type": "markdown",
   "metadata": {},
   "source": [
    "# LLM"
   ]
  },
  {
   "cell_type": "code",
   "metadata": {
    "ExecuteTime": {
     "end_time": "2025-04-19T17:44:52.875568Z",
     "start_time": "2025-04-19T17:44:52.873112Z"
    }
   },
   "source": [
    "local_llm = \"llama3.2:latest\"\n",
    "model_tested = \"llama3.2:latest\"\n",
    "metadata = f\"CRAG, {model_tested}\""
   ],
   "outputs": [],
   "execution_count": 12
  },
  {
   "cell_type": "markdown",
   "metadata": {},
   "source": [
    "# Create Index\n",
    "Let's index 3 blog posts"
   ]
  },
  {
   "cell_type": "code",
   "metadata": {
    "ExecuteTime": {
     "end_time": "2025-04-19T17:44:53.172581Z",
     "start_time": "2025-04-19T17:44:53.169744Z"
    }
   },
   "source": [
    "# urls = [\n",
    "#     \"https://lpi.oregonstate.edu/sites/lpi.oregonstate.edu/files/pdf/mic/micronutrients_for_health.pdf\",\n",
    "#     # \"https://www.accessdata.fda.gov/scripts/InteractiveNutritionFactsLabel/assets/InteractiveNFL_Vitamins%26MineralsChart_October2021.pdf\",\n",
    "#\n",
    "#     \"https://www.hilarispublisher.com/open-access/essential-nutrients-in-human-body.pdf\",\n",
    "# ]\n",
    "#\n",
    "# # Load documents from the URLs\n",
    "# docs = [PyPDFLoader(url).load() for url in urls]\n",
    "# docs_list = [item for sublist in docs for item in sublist]\n",
    "#\n",
    "# # Initialize a text splitter with specified chunk size and overlap\n",
    "# text_splitter = RecursiveCharacterTextSplitter.from_tiktoken_encoder(\n",
    "#     chunk_size=600, chunk_overlap=100\n",
    "# )\n",
    "#\n",
    "# # Create a retrival Engine\n",
    "# retrival_engine = RetrivalEngine()\n",
    "#\n",
    "# # Split the documents into chunks\n",
    "# doc_splits = text_splitter.split_documents(docs_list)\n",
    "#\n",
    "# contents = [doc.page_content for doc in doc_splits]\n",
    "# metadatas = []\n",
    "#\n",
    "# for doc in doc_splits:\n",
    "#     metadata = dict(doc.metadata)\n",
    "#     metadata[\"content\"] = \"nutrition_article\"\n",
    "#     metadatas.append(metadata)\n",
    "#\n",
    "# # Add items to retrival engine in smaller batches\n",
    "# batch_size = 10\n",
    "# for i in range(0, len(contents), batch_size):\n",
    "#     batch_contents = contents[i:i + batch_size]\n",
    "#     batch_metadatas = metadatas[i:i + batch_size]\n",
    "#\n",
    "#     # This will use the cache for any existing embeddings\n",
    "#     ids = retrival_engine.bulk_add_items(\n",
    "#         contents=batch_contents,\n",
    "#         metadatas=batch_metadatas,\n",
    "#         item_types=[\"nutrition_document\"] * len(batch_contents)\n",
    "#     )\n",
    "#\n",
    "# print(\"All documents stored in Pinecone!\")\n"
   ],
   "outputs": [],
   "execution_count": 13
  },
  {
   "cell_type": "markdown",
   "metadata": {},
   "source": [
    "# Building the graph"
   ]
  },
  {
   "cell_type": "markdown",
   "metadata": {},
   "source": [
    "## Document retriver"
   ]
  },
  {
   "cell_type": "code",
   "metadata": {
    "ExecuteTime": {
     "end_time": "2025-04-19T17:45:25.552747Z",
     "start_time": "2025-04-19T17:45:25.544796Z"
    }
   },
   "source": [
    "from pydantic import Field, BaseModel\n",
    "\n",
    "\n",
    "class UserProfile(BaseModel):\n",
    "    name: Optional[str] = Field(None, description=\"User's full name\")\n",
    "    age: int = Field(..., ge=0, le=120, description=\"User's age\")\n",
    "    gender: str = Field(..., description=\"Male, Female, or Other\")\n",
    "    height_cm: int = Field(..., gt=50, lt=250, description=\"Height in cm\")\n",
    "    weight_kg: float = Field(..., gt=20, lt=300, description=\"Weight in kg\")\n",
    "    activity_level: str = Field(...,\n",
    "                                description=\"Sedentary, Lightly active, Moderately active, Very active, Super active\")\n",
    "    dietary_preferences: List[Literal[\n",
    "        \"Vegetarian\", \"Vegan\", \"Pescatarian\", \"Keto\", \"Paleo\",\n",
    "        \"Gluten-Free\", \"Dairy-Free\", \"Nut-Free\", \"Halal\", \"Kosher\",\n",
    "        \"Low-Carb\", \"Low-Fat\", \"High-Protein\", \"Mediterranean\", \"FODMAP\", \"Sugar-Free\"\n",
    "    ]] = Field(default=[], description=\"User's dietary preferences, can be one or more.\")\n",
    "    allergies: List[str] = Field(default=[], description=\"User's allergies\")\n",
    "    health_conditions: List[str] = Field(default=[], description=\"Any medical conditions\")\n",
    "    weight_goal: str = Field(..., description=\"Lose weight, Maintain weight, Gain muscle\")\n",
    "    past_meals: List[str] = Field(default=[], description=\"Past meals\")\n",
    "\n",
    "\n",
    "user_profile = {\n",
    "    \"name\": \"Space Cadet\",\n",
    "    \"age\": 23,\n",
    "    \"gender\": \"Male\",\n",
    "    \"height_cm\": 183,\n",
    "    \"weight_kg\": 65,\n",
    "    \"activity_level\": \"Lightly active\",\n",
    "    \"dietary_preferences\": [\"Dairy-Free\", \"Low-Carb\"],\n",
    "    \"allergies\": [\"Peanuts\"],\n",
    "    \"health_conditions\": [\"None\"],\n",
    "    \"weight_goal\": \"Maintain weight\"\n",
    "}\n",
    "\n",
    "user = UserProfile(**user_profile)\n",
    "past_meals = []\n",
    "print(user.model_dump_json(indent=4))"
   ],
   "outputs": [
    {
     "name": "stdout",
     "output_type": "stream",
     "text": [
      "{\n",
      "    \"name\": \"Space Cadet\",\n",
      "    \"age\": 23,\n",
      "    \"gender\": \"Male\",\n",
      "    \"height_cm\": 183,\n",
      "    \"weight_kg\": 65.0,\n",
      "    \"activity_level\": \"Lightly active\",\n",
      "    \"dietary_preferences\": [\n",
      "        \"Dairy-Free\",\n",
      "        \"Low-Carb\"\n",
      "    ],\n",
      "    \"allergies\": [\n",
      "        \"Peanuts\"\n",
      "    ],\n",
      "    \"health_conditions\": [\n",
      "        \"None\"\n",
      "    ],\n",
      "    \"weight_goal\": \"Maintain weight\",\n",
      "    \"past_meals\": []\n",
      "}\n"
     ]
    }
   ],
   "execution_count": 23
  },
  {
   "cell_type": "code",
   "metadata": {
    "ExecuteTime": {
     "end_time": "2025-04-19T17:45:25.803317Z",
     "start_time": "2025-04-19T17:45:25.738793Z"
    }
   },
   "source": [
    "llm = ChatOllama(model=local_llm, format=\"json\", temperature=0)\n",
    "llm_json_mode = ChatOllama(model=local_llm, format=\"json\", temperature=0)\n",
    "\n",
    "# Retrieval Prompt Template for Multiple Meal Plans\n",
    "retriever_prompt = PromptTemplate(\n",
    "    template=\"\"\"\n",
    "    You are a nutritionist AI assistant that helps users generate **personalized meal recommendations** based on their profile.\n",
    "\n",
    "    The user profile is as follows:\n",
    "\n",
    "    - Age: {age}\n",
    "    - Gender: {gender}\n",
    "    - Height: {height_cm} cm\n",
    "    - Weight: {weight_kg} kg\n",
    "    - Activity Level: {activity_level}\n",
    "    - Dietary Preferences: {dietary_preferences}\n",
    "    - Allergies: {allergies}\n",
    "    - Health Conditions: {health_conditions}\n",
    "    - Weight Goal: {weight_goal}\n",
    "    - Past Meal History (if available): {past_meals}\n",
    "\n",
    "    ### Task:\n",
    "    Generate a structured JSON response with **multiple queries** for retrieving meal plans.\n",
    "    Each query should focus on **one meal category**:\n",
    "    - Breakfast\n",
    "    - Lunch\n",
    "    - Dinner\n",
    "    - Snacks\n",
    "\n",
    "    Ensure that meals align with **dietary preferences, allergies, and weight goals** while maintaining **nutritional balance**.\n",
    "\n",
    "    Rules:\n",
    "\t•\tIf any field is an empty array `[]`, or unspecified, substitute it with a realistic, healthy default (e.g., “Mediterranean diet”, “moderately active”, “no known allergies”, etc.).\n",
    "\t•\tIf dietary preference is missing, randomly choose a healthy eating pattern such as Mediterranean, Plant-based, Paleo, or Flexitarian.\n",
    "\t•\tEnsure that meals align with all available preferences, allergies, and weight goals while maintaining nutritional balance.\n",
    "\n",
    "\n",
    "    Your output must be a valid JSON object structured as follows:\n",
    "    ```json\n",
    "    {{\n",
    "        \"queries\": [\n",
    "            {{\n",
    "                \"meal_type\": \"BREAKFAST\",\n",
    "                \"query\": \"Retrieve high-protein breakfast meals suitable for {gender}, {age} years old, {activity_level} activity, avoiding {allergies}.\"\n",
    "            }},\n",
    "            {{\n",
    "                \"meal_type\": \"LUNCH\",\n",
    "                \"query\": \"Retrieve balanced lunch options with {dietary_preferences} for a {weight_goal} goal, avoiding {allergies}.\"\n",
    "            }},\n",
    "            {{\n",
    "                \"meal_type\": \"DINNER\",\n",
    "                \"query\": \"Find nutritious dinners for {age}-year-old {gender} aiming to {weight_goal}.\"\n",
    "            }},\n",
    "            {{\n",
    "                \"meal_type\": \"SNACKS\",\n",
    "                \"query\": \"Suggest healthy snack options that fit within a {dietary_preferences} diet while avoiding {allergies}.\"\n",
    "            }}\n",
    "        ]\n",
    "    }}\n",
    "    ```\n",
    "    \"\"\",\n",
    "    input_variables=[\n",
    "        \"age\",\n",
    "        \"gender\",\n",
    "        \"height_cm\",\n",
    "        \"weight_kg\",\n",
    "        \"activity_level\",\n",
    "        \"dietary_preferences\",\n",
    "        \"allergies\",\n",
    "        \"health_conditions\",\n",
    "        \"weight_goal\",\n",
    "        \"past_meals\"\n",
    "    ],\n",
    ")\n",
    "\n",
    "# Output Parser\n",
    "output_parser = JsonOutputParser()\n",
    "\n",
    "\n",
    "class MealQuery(TypedDict):\n",
    "    meal_type: Literal[\"BREAKFAST\", \"LUNCH\", \"DINNER\", \"SNACKS\"]\n",
    "    query: str\n",
    "\n",
    "\n",
    "# Function to Generate Multiple Queries\n",
    "def generate_retrieval_queries(user_profile, llm) -> List[MealQuery]:\n",
    "    formatted_prompt = retriever_prompt.format(**user_profile)\n",
    "    response = llm.invoke(formatted_prompt)\n",
    "    return output_parser.parse(response.content).get(\"queries\", [])\n",
    "\n",
    "\n",
    "# Example User Profile\n",
    "# user_profile = {\n",
    "#     \"age\": 28,\n",
    "#     \"gender\": \"Male\",\n",
    "#     \"height_cm\": 183,\n",
    "#     \"weight_kg\": 65,\n",
    "#     \"activity_level\": \"Moderately active\",\n",
    "#     \"dietary_preferences\": [],\n",
    "#     \"allergies\": [],\n",
    "#     \"health_conditions\": [],\n",
    "#     \"weight_goal\": \"Maintain weight\",\n",
    "#     \"past_meals\": [\"Oatmeal with fruits\", \"Grilled chicken with rice\", \"Salmon with vegetables\"],\n",
    "# }\n",
    "\n",
    "user_profile = {\n",
    "    \"name\": \"Space Cadet\",\n",
    "    \"age\": 23,\n",
    "    \"gender\": \"Male\",\n",
    "    \"height_cm\": 183,\n",
    "    \"weight_kg\": 65,\n",
    "    \"activity_level\": \"Lightly active\",\n",
    "    \"dietary_preferences\": [\"Dairy-Free\", \"Low-Carb\"],\n",
    "    \"allergies\": [\"Peanuts\"],\n",
    "    \"health_conditions\": [\"None\"],\n",
    "    \"weight_goal\": \"Maintain weight\",\n",
    "    \"past_meals\": [\"Oatmeal with fruits\", \"Grilled chicken with rice\", \"Salmon with vegetables\"],\n",
    "}\n",
    "# Generate queries\n",
    "# queries_info = generate_retrieval_queries(user_profile, llm_json_mode)\n",
    "# print(queries_info)"
   ],
   "outputs": [],
   "execution_count": 24
  },
  {
   "cell_type": "code",
   "metadata": {
    "ExecuteTime": {
     "end_time": "2025-04-19T17:45:25.857604Z",
     "start_time": "2025-04-19T17:45:25.852635Z"
    }
   },
   "source": [
    "# # Function to get retrival docs\n",
    "# # Create a retrival Engine\n",
    "# retrival_engine = RetrivalEngine()\n",
    "# class RetrievedDocuments(BaseModel):\n",
    "#     meal_type: str\n",
    "#     query: str\n",
    "#     docs: List[str]\n",
    "#\n",
    "#\n",
    "# def retrieve_docs(queries_info, retriver):\n",
    "#     all_results = []\n",
    "#     for query_info in queries_info:\n",
    "#         query = query_info[\"query\"]\n",
    "#         meal_type = query_info[\"meal_type\"]\n",
    "#         retreived_docs = retriver.get_retrivals(query, top_k=2)\n",
    "#         all_results.append(RetrievedDocuments(meal_type=meal_type, query=query,\n",
    "#                                               docs=list(map(lambda x: x[\"metadata\"][\"content\"], retreived_docs))))\n",
    "#\n",
    "#     return all_results\n",
    "#\n",
    "#\n",
    "# queries_info = generate_retrieval_queries(user_profile, llm_json_mode)\n",
    "# results = retrieve_docs(queries_info, retrival_engine)\n",
    "# results"
   ],
   "outputs": [],
   "execution_count": 25
  },
  {
   "cell_type": "code",
   "metadata": {
    "ExecuteTime": {
     "end_time": "2025-04-19T17:45:26.040724Z",
     "start_time": "2025-04-19T17:45:26.037884Z"
    }
   },
   "source": "# len(results)",
   "outputs": [],
   "execution_count": 26
  },
  {
   "cell_type": "markdown",
   "metadata": {},
   "source": "## Router"
  },
  {
   "cell_type": "code",
   "metadata": {
    "ExecuteTime": {
     "end_time": "2025-04-19T17:45:28.609094Z",
     "start_time": "2025-04-19T17:45:26.309459Z"
    }
   },
   "source": [
    "router_instructions = \"\"\"\n",
    "You are an expert in routing user health profiles to the most relevant data source. Your task is to determine whether a query should be answered using a vectorstore or a web search.\n",
    "\t•\tThe vectorstore contains documents related to nutrition and food for health. Use this for queries specifically about diet, nutrition, or health-related food topics.\n",
    "\t•\tFor all other topics, especially current events, use web search as the data source.\n",
    "\t•\tYour response must be a JSON object with a single key, datasource, whose value is either 'vectorstore' or 'websearch'. example: {\"datasource\": \"vectorstore\"} or {\"datasource\": \"websearch\"}\n",
    "\n",
    "Ensure your decision-making is clear, accurate, and follows these rules strictly.\n",
    "\"\"\"\n",
    "\n",
    "# Testing\n",
    "test_web_search = llm_json_mode.invoke(\n",
    "    [SystemMessage(router_instructions), HumanMessage(\"What are the benefits of turmeric?\")]\n",
    ")\n",
    "test_web_search2 = llm_json_mode.invoke(\n",
    "    [SystemMessage(router_instructions), HumanMessage(\"Who is the president of the United States?\")]\n",
    ")\n",
    "print(\n",
    "    json.loads(test_web_search.content),\n",
    "    json.loads(test_web_search2.content)\n",
    ")"
   ],
   "outputs": [
    {
     "name": "stdout",
     "output_type": "stream",
     "text": [
      "{'datasource': 'vectorstore'} {'datasource': 'websearch'}\n"
     ]
    }
   ],
   "execution_count": 27
  },
  {
   "cell_type": "markdown",
   "metadata": {},
   "source": [
    "## Retrival Grader"
   ]
  },
  {
   "metadata": {},
   "cell_type": "markdown",
   "source": "## Intializing Chat Gpt"
  },
  {
   "metadata": {
    "ExecuteTime": {
     "end_time": "2025-04-19T17:45:28.655375Z",
     "start_time": "2025-04-19T17:45:28.624186Z"
    }
   },
   "cell_type": "code",
   "source": [
    "from typing import Any, Union\n",
    "\n",
    "load_dotenv()\n",
    "\n",
    "from langchain_openai import ChatOpenAI\n",
    "\n",
    "llm_chat = ChatOpenAI(\n",
    "    model=\"gpt-4o\",\n",
    "    temperature=0,\n",
    "    max_tokens=None,\n",
    "    timeout=None,\n",
    "    max_retries=2,\n",
    ")\n",
    "\n",
    "llm_chat_json = llm_chat.with_structured_output(method=\"json_mode\")"
   ],
   "outputs": [],
   "execution_count": 28
  },
  {
   "cell_type": "code",
   "metadata": {
    "ExecuteTime": {
     "end_time": "2025-04-19T17:45:39.958278Z",
     "start_time": "2025-04-19T17:45:39.949704Z"
    }
   },
   "source": [
    "\n",
    "# doc_grader_instructions = \"\"\"\n",
    "# You are a grader assessing the quality and relevance of a retrieved nutrition document to a user's profile and a specified meal type.\n",
    "#\n",
    "# Evaluate whether the document provides useful, accurate, and practical nutritional information that aligns with health and dietary topics, as well as the specified meal type.\n",
    "#\n",
    "# If the document contains scientifically valid and actionable insights on nutrition and is relevant to the given meal type, grade it as relevant.\n",
    "# \"\"\"\n",
    "\n",
    "doc_grader_prompt = \"\"\"\n",
    "You are a grader assessing the quality and relevance of a retrieved nutrition document to a user's profile and a specified meal type.\n",
    "\n",
    "Evaluate whether the document provides useful, accurate, and practical nutritional information that aligns with health and dietary topics, as well as the specified meal type.\n",
    "\n",
    "If the document contains scientifically valid and actionable insights on nutrition and is relevant to the given meal type, grade it as relevant.\n",
    "\n",
    "\n",
    "Here is the retrieved nutrition document: \\n\\n {document} \\n\\n\n",
    "Here is the user's profile: \\n\\n {user_profile} \\n\\n if the users profile\n",
    "Meal type: {meal_type} \\n\\n\n",
    "Here is the grading criteria:\n",
    "- The document should be scientifically accurate and credible.\n",
    "- It should be relevant to nutrition and health-related topics.\n",
    "- It should provide clear, actionable, and practical guidance.\n",
    "- It should align with the specified meal type ({meal_type}).\n",
    "\n",
    "Carefully and objectively assess whether the document meets these criteria.\n",
    "\n",
    "Your answer should include:\n",
    "1. A binary score of 'yes' or 'no'.\n",
    "2. A reason of why you gave that score, based on the criteria.\n",
    "\n",
    "Return JSON with a 2 keys, binary_score and reason as to why it reached that criteria\n",
    "\"\"\"\n",
    "\n",
    "\n",
    "class MealTypes(Enum):\n",
    "    BREAKFAST = \"Breakfast\"\n",
    "    LUNCH = \"Lunch\"\n",
    "    DINNER = \"Dinner\"\n",
    "    SNACKS = \"Snacks\"\n",
    "\n",
    "\n",
    "# class DocumentMetadata(BaseModel):\n",
    "#     content: str\n",
    "#     creationdate: Optional[str]\n",
    "#     creator: Optional[str]\n",
    "#     item_type: str\n",
    "#     moddate: Optional[str]\n",
    "#     page: Optional[float]\n",
    "#     page_label: Optional[str]\n",
    "#     producer: Optional[str]\n",
    "#     source: Optional[str]\n",
    "#     total_pages: Optional[float]\n",
    "#     trapped: Optional[str]\n",
    "\n",
    "#\n",
    "# class RetrievedDocumentsMetadata(BaseModel):\n",
    "#     id: str\n",
    "#     score: float\n",
    "#     metadata: DocumentMetadata\n",
    "\n",
    "\n",
    "# def grade_documents(user_profile, retrieve_docs, meal_type:MealTypes) -> GradedDocuments:\n",
    "#     grade_documents:List[GradedDocuments] = []\n",
    "#\n",
    "#     for doc in retrieve_docs:\n",
    "#         doc_content = doc[\"metadata\"][\"content\"]\n",
    "#         formatted_prompt = doc_grader_prompt.format(document=doc_content, user_profile=user_profile, meal_type=meal_type.value)\n",
    "#         graded_response = llm_chat_json.invoke(formatted_prompt)\n",
    "#\n",
    "#\n",
    "#     return grade_documents\n",
    "#\n",
    "# grade_documents = grade_documents(user_profile, results[\"BREAKFAST\"], MealTypes.BREAKFAST)\n",
    "class ValidatedDocument(BaseModel):\n",
    "    valid: bool\n",
    "    doc: Union[Optional[Dict[str, str]], Any]\n",
    "    reaseon: Optional[str]\n",
    "\n",
    "\n",
    "class GradedMealTypes(BaseModel):\n",
    "    meal_type: str\n",
    "    query: str\n",
    "    validated_docs: List[ValidatedDocument]\n",
    "\n",
    "\n",
    "class GraderResponse(BaseModel):\n",
    "    binary_score: Literal[\"yes\", \"no\"]\n",
    "    reason: str\n",
    "\n",
    "# function to grade the documents\n",
    "# def grade_documents(profile: UserProfile, retrieved_docs: List[RetrievedDocuments]) -> List[GradedMealTypes]:\n",
    "#     print(f\"User profile: \\n {profile}\")\n",
    "#     result: List[GradedMealTypes] = []\n",
    "#     for retrieved_documents in retrieved_docs:\n",
    "#         meal_type = retrieved_documents.meal_type\n",
    "#         query = retrieved_documents.query\n",
    "#         to_input = GradedMealTypes(meal_type=meal_type, query=query, validated_docs=[])\n",
    "#         valid_docs: List[ValidatedDocument] = []\n",
    "#\n",
    "#         print(f\"===== checking for meal_type: {meal_type} =====\")\n",
    "#         for index, doc_content in enumerate(retrieved_documents.docs):\n",
    "#             formatted_prompt = doc_grader_prompt.format(document=doc_content, meal_type=meal_type,\n",
    "#                                                         user_profile=json.dumps(profile, indent=4))\n",
    "#\n",
    "#             graded_response = llm_chat_json.invoke(formatted_prompt)\n",
    "#\n",
    "#             print(f\"\\tgraded_response for document {index + 1}: {graded_response[\"binary_score\"]}\")\n",
    "#             if graded_response[\"binary_score\"] == \"yes\":\n",
    "#                 print(\"\\tThe document is:\")\n",
    "#                 print(f\"\\n\\t\\t{doc_content}\")\n",
    "#                 valid_docs.append(ValidatedDocument(valid=True, doc=doc_content, reaseon=graded_response[\"reason\"]))\n",
    "#             else:\n",
    "#                 print(f\"\\t\\tThe document is: \\n\\t\\t{doc_content}\")\n",
    "#                 valid_docs.append(ValidatedDocument(valid=False, doc=doc_content, reaseon=graded_response[\"reason\"]))\n",
    "#\n",
    "#         to_input.validated_docs = valid_docs\n",
    "#\n",
    "#         result.append(to_input)\n",
    "#\n",
    "#     return result\n",
    "#\n",
    "#\n",
    "# grade_meal_documents = grade_documents(user_profile, results)\n",
    "# grade_meal_documents\n"
   ],
   "outputs": [],
   "execution_count": 35
  },
  {
   "metadata": {},
   "cell_type": "markdown",
   "source": [
    "# Reaseach Agent to help refined retrieved documents\n",
    "![Screenshot 2024-08-26 at 7.26.33 PM.png](https://cdn.prod.website-files.com/65b8cd72835ceeacd4449a53/66dbb164d61c93d48e604091_research-assistant1.png)"
   ]
  },
  {
   "metadata": {
    "ExecuteTime": {
     "end_time": "2025-04-19T17:45:45.199825Z",
     "start_time": "2025-04-19T17:45:45.193250Z"
    }
   },
   "cell_type": "code",
   "source": [
    "\n",
    "\n",
    "\n",
    "# class Analyst(BaseModel):\n",
    "#     affiliation: str = Field(\n",
    "#         description=\"Primary affiliation of the analyst\",\n",
    "#     )\n",
    "#     name: str = Field(\n",
    "#         description=\"Name of the analyst\",\n",
    "#     )\n",
    "#     role: str = Field(\n",
    "#         description=\"Role of the analyst in the context of the topic\",\n",
    "#     )\n",
    "#     description: str = Field(\n",
    "#         description=\"Description of the analyst focus, concerns, and motives.\",\n",
    "#     )\n",
    "#\n",
    "#     @property\n",
    "#     def person(self) -> str:\n",
    "#         return f\"Name: {self.name}\\nRole: {self.role}\\nAffiliation: {self.affiliation}\\nDescription: {self.description}\\n\"\n",
    "\n",
    "\n",
    "# class Perspectives(BaseModel):\n",
    "#     analysts: List[Analyst] = Field(\n",
    "#         description=\"Comprehensive list of analysts with their roles and affiliations.\"\n",
    "#     )\n",
    "class Analyst(BaseModel):\n",
    "    name: str\n",
    "    tone: str\n",
    "    theme: str\n",
    "    description: str\n",
    "\n",
    "\n",
    "class MealTypeAnalysts(BaseModel):\n",
    "    meal_type: str\n",
    "    analysts: List[Analyst]\n",
    "\n",
    "\n",
    "class AnalystMessages(MessagesState):\n",
    "    analyst: Analyst\n",
    "\n",
    "\n",
    "class GenerateAnalystsState(TypedDict):\n",
    "    user_profile: UserProfile  # The user's profile\n",
    "    meal_queries: List[MealQuery]\n",
    "    # topic: str  # Research topic\n",
    "    max_analysts: int  # Number of analysts\n",
    "    analysts: List[MealTypeAnalysts]  # Analyst asking questions\n",
    "    graded_meal_documents: List[GradedMealTypes]  # List of the graded meal types\n"
   ],
   "outputs": [],
   "execution_count": 38
  },
  {
   "metadata": {},
   "cell_type": "markdown",
   "source": [
    "### Old prompt\n",
    "\n",
    "meal_assistant_prompt = \"\"\"\n",
    "You are an AI tasked with generating a set of meal assistant personas based on user-specific dietary context. Follow these instructions carefully and respond in valid JSON format.\n",
    "\n",
    "1. Review the user's profile to understand their dietary habits, preferences, restrictions, and goals:\n",
    "{user_profile}\n",
    "\n",
    "2. Examine the retrieved document provided below. This document has been evaluated by another AI reviewer.\n",
    "\n",
    "Document:\n",
    "{retrieved_document}\n",
    "\n",
    "AI Review Summary:\n",
    "- Query used to retrieve the document: {query_topic}\n",
    "- Document validity: {document_validity}\n",
    "- Feedback: {document_feedback}\n",
    "\n",
    "3. Consider the type of meal for which these assistants are being created:\n",
    "{meal_type}\n",
    "\n",
    "4. Based on the document content, its validity, and the user profile, identify the most important themes. Themes may relate to dietary needs, health goals, preparation time, cultural relevance, food variety, or lifestyle factors.\n",
    "\n",
    "5. Select the top {max_assistants} relevant themes for the current meal context.\n",
    "\n",
    "6. For each selected theme, create one unique AI assistant persona. Each assistant must:\n",
    "    - Have a distinct name and tone (e.g., cheerful, nurturing, analytical).\n",
    "    - Focus on one specific theme informed by the query, the document, and the AI feedback.\n",
    "    - Be customized to assist the user specifically for {meal_type} planning or decisions.\n",
    "    - Offer suggestions or support that reflect both the user's goals and the information from the document.\n",
    "\n",
    "Return your output as a valid JSON object matching this structure:\n",
    "{{\n",
    "  \"analysts\": [\n",
    "    {{\n",
    "      \"name\": \"<assistant_name>\",\n",
    "      \"tone\": \"<tone_description>\",\n",
    "      \"theme\": \"<core_theme>\",\n",
    "      \"description\": \"<brief description of this persona and how it helps the user for this meal>\"\n",
    "    }}\n",
    "  ]\n",
    "}}\n",
    "Ensure the top-level key is \"analysts\".\n",
    "\"\"\"\n",
    "\n",
    "### Old analyst function\n",
    "def create_analysts(state: GenerateAnalystsState):\n",
    "    llm_chat_json = llm_chat.with_structured_output(method=\"json_mode\")\n",
    "    max_assistants = state[\"max_analysts\"]\n",
    "    graded_meal_documents = state[\"graded_meal_documents\"]\n",
    "    user_profile = state[\"user_profile\"]\n",
    "    result: List[MealTypeAnalysts] = []\n",
    "\n",
    "    for graded_meal in graded_meal_documents:\n",
    "        meal_type = graded_meal.meal_type\n",
    "        query = graded_meal.query\n",
    "        validated_docs = graded_meal.validated_docs\n",
    "\n",
    "        for validated_doc in validated_docs:\n",
    "            system_message = meal_assistant_prompt.format(\n",
    "                user_profile=json.dumps(user_profile),\n",
    "                retrieved_document=validated_doc.doc,\n",
    "                document_validity=False,\n",
    "                document_feedback=validated_doc.reaseon,\n",
    "                meal_type=meal_type,\n",
    "                max_assistants=max_assistants,\n",
    "                query_topic=query\n",
    "            )\n",
    "            analysts = llm_chat_json.invoke(\n",
    "                [SystemMessage(content=system_message)] + [HumanMessage(content=\"Generate the set of analysts.\")])\n",
    "\n",
    "            generated_analyst = MealTypeAnalysts(\n",
    "                meal_type=meal_type,\n",
    "                analysts=analysts[\"analysts\"],\n",
    "            )\n",
    "\n",
    "            result.append(generated_analyst)\n",
    "\n",
    "    # Write to state\n",
    "    return {\"analysts\": result}"
   ]
  },
  {
   "metadata": {
    "ExecuteTime": {
     "end_time": "2025-04-19T17:45:45.527840Z",
     "start_time": "2025-04-19T17:45:45.507304Z"
    }
   },
   "cell_type": "code",
   "source": "queries_info",
   "outputs": [
    {
     "ename": "NameError",
     "evalue": "name 'queries_info' is not defined",
     "output_type": "error",
     "traceback": [
      "\u001B[31m---------------------------------------------------------------------------\u001B[39m",
      "\u001B[31mNameError\u001B[39m                                 Traceback (most recent call last)",
      "\u001B[36mCell\u001B[39m\u001B[36m \u001B[39m\u001B[32mIn[39]\u001B[39m\u001B[32m, line 1\u001B[39m\n\u001B[32m----> \u001B[39m\u001B[32m1\u001B[39m \u001B[43mqueries_info\u001B[49m\n",
      "\u001B[31mNameError\u001B[39m: name 'queries_info' is not defined"
     ]
    }
   ],
   "execution_count": 39
  },
  {
   "metadata": {
    "ExecuteTime": {
     "end_time": "2025-04-19T17:45:50.676847Z",
     "start_time": "2025-04-19T17:45:50.648853Z"
    }
   },
   "cell_type": "code",
   "source": [
    "meal_assistant_prompt = \"\"\"\n",
    "You are an AI tasked with generating a set of meal assistant personas based solely on a user's dietary context. Follow these instructions carefully and respond in valid JSON format.\n",
    "\n",
    "1. Review the user's profile to understand their dietary habits, preferences, restrictions, and goals:\n",
    "{user_profile}\n",
    "\n",
    "2. Consider the type of meal for which these assistants are being created:\n",
    "{meal_type} and the following instruction: {query}\n",
    "\n",
    "3. Identify the most important themes from the user's profile. Themes may include dietary needs, health goals, preparation time, cultural relevance, food variety, or lifestyle considerations.\n",
    "\n",
    "4. Select the top {max_assistants} relevant themes for the current meal context.\n",
    "\n",
    "5. For each selected theme, create one unique AI assistant persona. Each assistant must:\n",
    "    - Have a distinct name and tone (e.g., cheerful, nurturing, analytical).\n",
    "    - Focus on one specific theme derived from the user profile.\n",
    "    - Be customized to assist the user specifically for {meal_type} planning or decisions.\n",
    "    - Offer helpful suggestions or support that reflect the user’s goals and context.\n",
    "\n",
    "Return your output as a valid JSON object matching this structure:\n",
    "[\n",
    "    {{\n",
    "      \"name\": \"<assistant_name>\",\n",
    "      \"tone\": \"<tone_description>\",\n",
    "      \"theme\": \"<core_theme>\",\n",
    "      \"description\": \"<brief description of this persona and how it helps the user for this meal>\"\n",
    "    }}\n",
    "    ,.....\n",
    "  ]\n",
    "Ensure the top-level key is \"analysts\".\n",
    "\"\"\"\n",
    "\n",
    "llm_chat = ChatOpenAI(\n",
    "    model=\"gpt-4o\",\n",
    "    temperature=0,\n",
    "    max_tokens=None,\n",
    "    timeout=None,\n",
    "    max_retries=2,\n",
    ")\n",
    "\n",
    "\n",
    "def create_analysts(state: GenerateAnalystsState):\n",
    "    llm_chat = ChatOpenAI(\n",
    "        model=\"gpt-4o\",\n",
    "        temperature=0,\n",
    "        max_tokens=None,\n",
    "        timeout=None,\n",
    "        max_retries=2,\n",
    "    )\n",
    "\n",
    "    llm_chat_json = llm_chat.with_structured_output(method=\"json_mode\")\n",
    "    max_assistants = state[\"max_analysts\"]\n",
    "    meal_queries = state[\"meal_queries\"]\n",
    "    user_profile = state[\"user_profile\"]\n",
    "\n",
    "    result: List[MealTypeAnalysts] = []\n",
    "\n",
    "    for meal in meal_queries:\n",
    "        meal_type = meal[\"meal_type\"]\n",
    "        query = meal[\"query\"]\n",
    "\n",
    "        system_message = meal_assistant_prompt.format(\n",
    "            user_profile=json.dumps(user_profile),\n",
    "            meal_type=meal_type,\n",
    "            query=query,\n",
    "            max_assistants=max_assistants,\n",
    "        )\n",
    "\n",
    "        analysts = llm_chat_json.invoke(\n",
    "            [SystemMessage(content=system_message)] + [HumanMessage(content=\"Generate the set of analysts.\")])\n",
    "\n",
    "        generated_analyst = MealTypeAnalysts(\n",
    "            meal_type=meal_type,\n",
    "            analysts=analysts[\"analysts\"],\n",
    "        )\n",
    "\n",
    "        result.append(generated_analyst)\n",
    "\n",
    "    # Write to state\n",
    "    return {\"analysts\": result}\n",
    "\n",
    "\n",
    "builder = StateGraph(GenerateAnalystsState)\n",
    "builder.add_node(\"create_analyst\", create_analysts)\n",
    "builder.add_edge(START, \"create_analyst\")\n",
    "builder.add_edge(\"create_analyst\", END)\n",
    "\n",
    "create_analyst_graph = builder.compile()"
   ],
   "outputs": [],
   "execution_count": 40
  },
  {
   "metadata": {
    "ExecuteTime": {
     "end_time": "2025-04-19T17:45:54.677817Z",
     "start_time": "2025-04-19T17:45:53.603879Z"
    }
   },
   "cell_type": "code",
   "source": "display(Image(create_analyst_graph.get_graph(xray=1).draw_mermaid_png()))",
   "outputs": [
    {
     "data": {
      "image/png": "[encoded data removed]",
      "text/plain": [
       "<IPython.core.display.Image object>"
      ]
     },
     "metadata": {},
     "output_type": "display_data"
    }
   ],
   "execution_count": 41
  },
  {
   "metadata": {
    "ExecuteTime": {
     "end_time": "2025-04-19T17:45:56.461478Z",
     "start_time": "2025-04-19T17:45:56.439832Z"
    }
   },
   "cell_type": "code",
   "source": "queries_info",
   "outputs": [
    {
     "ename": "NameError",
     "evalue": "name 'queries_info' is not defined",
     "output_type": "error",
     "traceback": [
      "\u001B[31m---------------------------------------------------------------------------\u001B[39m",
      "\u001B[31mNameError\u001B[39m                                 Traceback (most recent call last)",
      "\u001B[36mCell\u001B[39m\u001B[36m \u001B[39m\u001B[32mIn[42]\u001B[39m\u001B[32m, line 1\u001B[39m\n\u001B[32m----> \u001B[39m\u001B[32m1\u001B[39m \u001B[43mqueries_info\u001B[49m\n",
      "\u001B[31mNameError\u001B[39m: name 'queries_info' is not defined"
     ]
    }
   ],
   "execution_count": 42
  },
  {
   "metadata": {
    "ExecuteTime": {
     "end_time": "2025-04-19T17:45:37.589916Z",
     "start_time": "2025-04-19T06:22:57.477584Z"
    }
   },
   "cell_type": "code",
   "source": [
    "# Input\n",
    "max_analysts = 1\n",
    "# topic = grade_meal_documents[0].query\n",
    "# graded_meal_documents = grade_meal_documents\n",
    "# thread = {\"configurable\": {\"thread_id\": \"1\"}}\n",
    "\n",
    "# Run the graph until the first interruption\n",
    "for event in create_analyst_graph.stream({\"max_analysts\": max_analysts,\n",
    "                                          \"meal_queries\": queries_info, \"user_profile\": user_profile},\n",
    "                                         stream_mode=\"values\"):\n",
    "    # Review\n",
    "    meal_type_analysts_event: List[MealTypeAnalysts] = event\n",
    "\n",
    "    meal_type_analysts: MealTypeAnalysts = meal_type_analysts_event.get(\"analysts\", \"\")\n",
    "\n",
    "    if meal_type_analysts:\n",
    "        for analysts in meal_type_analysts:\n",
    "            meal_type_analysts = analysts.analysts\n",
    "            for analyst_meta in meal_type_analysts:\n",
    "                print(f\"Name: {analyst_meta.name}\")\n",
    "                print(f\"Tone: {analyst_meta.tone}\")\n",
    "                print(f\"Theme: {analyst_meta.theme}\")\n",
    "                print(f\"Description: {analyst_meta.description}\")\n",
    "                print(\"-\" * 50)"
   ],
   "outputs": [
    {
     "name": "stderr",
     "output_type": "stream",
     "text": [
      "DEBUG:openai._base_client:Request options: {'method': 'post', 'url': '/chat/completions', 'headers': {'X-Stainless-Helper-Method': 'beta.chat.completions.parse'}, 'files': None, 'post_parser': <function Completions.parse.<locals>.parser at 0x14c6c7740>, 'json_data': {'messages': [{'content': '\\nYou are an AI tasked with generating a set of meal assistant personas based solely on a user\\'s dietary context. Follow these instructions carefully and respond in valid JSON format.\\n\\n1. Review the user\\'s profile to understand their dietary habits, preferences, restrictions, and goals:\\n{\"name\": \"Space Cadet\", \"age\": 23, \"gender\": \"Male\", \"height_cm\": 183, \"weight_kg\": 65, \"activity_level\": \"Lightly active\", \"dietary_preferences\": [\"Dairy-Free\", \"Low-Carb\"], \"allergies\": [\"Peanuts\"], \"health_conditions\": [\"None\"], \"weight_goal\": \"Maintain weight\", \"past_meals\": [\"Oatmeal with fruits\", \"Grilled chicken with rice\", \"Salmon with vegetables\"]}\\n\\n2. Consider the type of meal for which these assistants are being created:\\nBREAKFAST and the following instruction: Retrieve high-protein breakfast meals suitable for Male, 23 years old, Lightly active activity, avoiding [\\'Peanuts\\'].\\n\\n3. Identify the most important themes from the user\\'s profile. Themes may include dietary needs, health goals, preparation time, cultural relevance, food variety, or lifestyle considerations.\\n\\n4. Select the top 1 relevant themes for the current meal context.\\n\\n5. For each selected theme, create one unique AI assistant persona. Each assistant must:\\n    - Have a distinct name and tone (e.g., cheerful, nurturing, analytical).\\n    - Focus on one specific theme derived from the user profile.\\n    - Be customized to assist the user specifically for BREAKFAST planning or decisions.\\n    - Offer helpful suggestions or support that reflect the user’s goals and context.\\n\\nReturn your output as a valid JSON object matching this structure:\\n[\\n    {\\n      \"name\": \"<assistant_name>\",\\n      \"tone\": \"<tone_description>\",\\n      \"theme\": \"<core_theme>\",\\n      \"description\": \"<brief description of this persona and how it helps the user for this meal>\"\\n    }\\n    ,.....\\n  ]\\nEnsure the top-level key is \"analysts\".\\n', 'role': 'system'}, {'content': 'Generate the set of analysts.', 'role': 'user'}], 'model': 'gpt-4o', 'response_format': {'type': 'json_object'}, 'stream': False, 'temperature': 0.0}}\n",
      "DEBUG:openai._base_client:Sending HTTP Request: POST https://api.openai.com/v1/chat/completions\n",
      "DEBUG:httpcore.connection:connect_tcp.started host='api.openai.com' port=443 local_address=None timeout=None socket_options=None\n",
      "DEBUG:httpcore.connection:connect_tcp.complete return_value=<httpcore._backends.sync.SyncStream object at 0x14ce11770>\n",
      "DEBUG:httpcore.connection:start_tls.started ssl_context=<ssl.SSLContext object at 0x14d37f260> server_hostname='api.openai.com' timeout=None\n",
      "DEBUG:httpcore.connection:start_tls.complete return_value=<httpcore._backends.sync.SyncStream object at 0x1196550e0>\n",
      "DEBUG:httpcore.http11:send_request_headers.started request=<Request [b'POST']>\n",
      "DEBUG:httpcore.http11:send_request_headers.complete\n",
      "DEBUG:httpcore.http11:send_request_body.started request=<Request [b'POST']>\n",
      "DEBUG:httpcore.http11:send_request_body.complete\n",
      "DEBUG:httpcore.http11:receive_response_headers.started request=<Request [b'POST']>\n",
      "DEBUG:httpcore.http11:receive_response_headers.complete return_value=(b'HTTP/1.1', 200, b'OK', [(b'Date', b'Sat, 19 Apr 2025 06:22:59 GMT'), (b'Content-Type', b'application/json'), (b'Transfer-Encoding', b'chunked'), (b'Connection', b'keep-alive'), (b'access-control-expose-headers', b'X-Request-ID'), (b'openai-organization', b'user-jtnny41eqie6zxkwrgewu2kd'), (b'openai-processing-ms', b'1209'), (b'openai-version', b'2020-10-01'), (b'x-ratelimit-limit-requests', b'500'), (b'x-ratelimit-limit-tokens', b'30000'), (b'x-ratelimit-remaining-requests', b'499'), (b'x-ratelimit-remaining-tokens', b'29517'), (b'x-ratelimit-reset-requests', b'120ms'), (b'x-ratelimit-reset-tokens', b'966ms'), (b'x-request-id', b'req_457a02f8954e3bb41abe7048d1d267ad'), (b'strict-transport-security', b'max-age=31536000; includeSubDomains; preload'), (b'cf-cache-status', b'DYNAMIC'), (b'Set-Cookie', b'__cf_bm=uH3RJq2RIDFbmNxDOCCvBc.vKyzgVAr3TPRIYcmblK0-1745043779-1.0.1.1-EGYnl3nWiAHQS4cATwLSV5h4A.mpN.tKDBFJfJpYKhhV791rZhEKdgD6OG3X58tYMsuz2lNLlwGdg9vF03W4bKrkXTRrihdeGwSvgQxti.8; path=/; expires=Sat, 19-Apr-25 06:52:59 GMT; domain=.api.openai.com; HttpOnly; Secure; SameSite=None'), (b'X-Content-Type-Options', b'nosniff'), (b'Set-Cookie', b'_cfuvid=Deng94PMo373l_G8HWFw0ZbPa7xCjRvv_dZ562eC7wk-1745043779723-0.0.1.1-604800000; path=/; domain=.api.openai.com; HttpOnly; Secure; SameSite=None'), (b'Server', b'cloudflare'), (b'CF-RAY', b'932a4f7a9a7965ed-MBA'), (b'Content-Encoding', b'gzip'), (b'alt-svc', b'h3=\":443\"; ma=86400')])\n",
      "INFO:httpx:HTTP Request: POST https://api.openai.com/v1/chat/completions \"HTTP/1.1 200 OK\"\n",
      "DEBUG:httpcore.http11:receive_response_body.started request=<Request [b'POST']>\n",
      "DEBUG:httpcore.http11:receive_response_body.complete\n",
      "DEBUG:httpcore.http11:response_closed.started\n",
      "DEBUG:httpcore.http11:response_closed.complete\n",
      "DEBUG:openai._base_client:HTTP Response: POST https://api.openai.com/v1/chat/completions \"200 OK\" Headers([('date', 'Sat, 19 Apr 2025 06:22:59 GMT'), ('content-type', 'application/json'), ('transfer-encoding', 'chunked'), ('connection', 'keep-alive'), ('access-control-expose-headers', 'X-Request-ID'), ('openai-organization', 'user-jtnny41eqie6zxkwrgewu2kd'), ('openai-processing-ms', '1209'), ('openai-version', '2020-10-01'), ('x-ratelimit-limit-requests', '500'), ('x-ratelimit-limit-tokens', '30000'), ('x-ratelimit-remaining-requests', '499'), ('x-ratelimit-remaining-tokens', '29517'), ('x-ratelimit-reset-requests', '120ms'), ('x-ratelimit-reset-tokens', '966ms'), ('x-request-id', 'req_457a02f8954e3bb41abe7048d1d267ad'), ('strict-transport-security', 'max-age=31536000; includeSubDomains; preload'), ('cf-cache-status', 'DYNAMIC'), ('set-cookie', '__cf_bm=uH3RJq2RIDFbmNxDOCCvBc.vKyzgVAr3TPRIYcmblK0-1745043779-1.0.1.1-EGYnl3nWiAHQS4cATwLSV5h4A.mpN.tKDBFJfJpYKhhV791rZhEKdgD6OG3X58tYMsuz2lNLlwGdg9vF03W4bKrkXTRrihdeGwSvgQxti.8; path=/; expires=Sat, 19-Apr-25 06:52:59 GMT; domain=.api.openai.com; HttpOnly; Secure; SameSite=None'), ('x-content-type-options', 'nosniff'), ('set-cookie', '_cfuvid=Deng94PMo373l_G8HWFw0ZbPa7xCjRvv_dZ562eC7wk-1745043779723-0.0.1.1-604800000; path=/; domain=.api.openai.com; HttpOnly; Secure; SameSite=None'), ('server', 'cloudflare'), ('cf-ray', '932a4f7a9a7965ed-MBA'), ('content-encoding', 'gzip'), ('alt-svc', 'h3=\":443\"; ma=86400')])\n",
      "DEBUG:openai._base_client:request_id: req_457a02f8954e3bb41abe7048d1d267ad\n",
      "DEBUG:openai._base_client:Request options: {'method': 'post', 'url': '/chat/completions', 'headers': {'X-Stainless-Helper-Method': 'beta.chat.completions.parse'}, 'files': None, 'post_parser': <function Completions.parse.<locals>.parser at 0x14c6c7740>, 'json_data': {'messages': [{'content': '\\nYou are an AI tasked with generating a set of meal assistant personas based solely on a user\\'s dietary context. Follow these instructions carefully and respond in valid JSON format.\\n\\n1. Review the user\\'s profile to understand their dietary habits, preferences, restrictions, and goals:\\n{\"name\": \"Space Cadet\", \"age\": 23, \"gender\": \"Male\", \"height_cm\": 183, \"weight_kg\": 65, \"activity_level\": \"Lightly active\", \"dietary_preferences\": [\"Dairy-Free\", \"Low-Carb\"], \"allergies\": [\"Peanuts\"], \"health_conditions\": [\"None\"], \"weight_goal\": \"Maintain weight\", \"past_meals\": [\"Oatmeal with fruits\", \"Grilled chicken with rice\", \"Salmon with vegetables\"]}\\n\\n2. Consider the type of meal for which these assistants are being created:\\nLUNCH and the following instruction: Retrieve balanced lunch options with [\\'Dairy-Free\\', \\'Low-Carb\\'] for a Maintain weight goal, avoiding [\\'Peanuts\\'].\\n\\n3. Identify the most important themes from the user\\'s profile. Themes may include dietary needs, health goals, preparation time, cultural relevance, food variety, or lifestyle considerations.\\n\\n4. Select the top 1 relevant themes for the current meal context.\\n\\n5. For each selected theme, create one unique AI assistant persona. Each assistant must:\\n    - Have a distinct name and tone (e.g., cheerful, nurturing, analytical).\\n    - Focus on one specific theme derived from the user profile.\\n    - Be customized to assist the user specifically for LUNCH planning or decisions.\\n    - Offer helpful suggestions or support that reflect the user’s goals and context.\\n\\nReturn your output as a valid JSON object matching this structure:\\n[\\n    {\\n      \"name\": \"<assistant_name>\",\\n      \"tone\": \"<tone_description>\",\\n      \"theme\": \"<core_theme>\",\\n      \"description\": \"<brief description of this persona and how it helps the user for this meal>\"\\n    }\\n    ,.....\\n  ]\\nEnsure the top-level key is \"analysts\".\\n', 'role': 'system'}, {'content': 'Generate the set of analysts.', 'role': 'user'}], 'model': 'gpt-4o', 'response_format': {'type': 'json_object'}, 'stream': False, 'temperature': 0.0}}\n",
      "DEBUG:openai._base_client:Sending HTTP Request: POST https://api.openai.com/v1/chat/completions\n",
      "DEBUG:httpcore.http11:send_request_headers.started request=<Request [b'POST']>\n",
      "DEBUG:httpcore.http11:send_request_headers.complete\n",
      "DEBUG:httpcore.http11:send_request_body.started request=<Request [b'POST']>\n",
      "DEBUG:httpcore.http11:send_request_body.complete\n",
      "DEBUG:httpcore.http11:receive_response_headers.started request=<Request [b'POST']>\n",
      "DEBUG:httpcore.http11:receive_response_headers.complete return_value=(b'HTTP/1.1', 200, b'OK', [(b'Date', b'Sat, 19 Apr 2025 06:23:02 GMT'), (b'Content-Type', b'application/json'), (b'Transfer-Encoding', b'chunked'), (b'Connection', b'keep-alive'), (b'access-control-expose-headers', b'X-Request-ID'), (b'openai-organization', b'user-jtnny41eqie6zxkwrgewu2kd'), (b'openai-processing-ms', b'1918'), (b'openai-version', b'2020-10-01'), (b'x-ratelimit-limit-requests', b'500'), (b'x-ratelimit-limit-tokens', b'30000'), (b'x-ratelimit-remaining-requests', b'499'), (b'x-ratelimit-remaining-tokens', b'29520'), (b'x-ratelimit-reset-requests', b'120ms'), (b'x-ratelimit-reset-tokens', b'960ms'), (b'x-request-id', b'req_f0e51bd89a1064714b2a28104d0c123a'), (b'strict-transport-security', b'max-age=31536000; includeSubDomains; preload'), (b'cf-cache-status', b'DYNAMIC'), (b'X-Content-Type-Options', b'nosniff'), (b'Server', b'cloudflare'), (b'CF-RAY', b'932a4f888bdf65ed-MBA'), (b'Content-Encoding', b'gzip'), (b'alt-svc', b'h3=\":443\"; ma=86400')])\n",
      "INFO:httpx:HTTP Request: POST https://api.openai.com/v1/chat/completions \"HTTP/1.1 200 OK\"\n",
      "DEBUG:httpcore.http11:receive_response_body.started request=<Request [b'POST']>\n",
      "DEBUG:httpcore.http11:receive_response_body.complete\n",
      "DEBUG:httpcore.http11:response_closed.started\n",
      "DEBUG:httpcore.http11:response_closed.complete\n",
      "DEBUG:openai._base_client:HTTP Response: POST https://api.openai.com/v1/chat/completions \"200 OK\" Headers({'date': 'Sat, 19 Apr 2025 06:23:02 GMT', 'content-type': 'application/json', 'transfer-encoding': 'chunked', 'connection': 'keep-alive', 'access-control-expose-headers': 'X-Request-ID', 'openai-organization': 'user-jtnny41eqie6zxkwrgewu2kd', 'openai-processing-ms': '1918', 'openai-version': '2020-10-01', 'x-ratelimit-limit-requests': '500', 'x-ratelimit-limit-tokens': '30000', 'x-ratelimit-remaining-requests': '499', 'x-ratelimit-remaining-tokens': '29520', 'x-ratelimit-reset-requests': '120ms', 'x-ratelimit-reset-tokens': '960ms', 'x-request-id': 'req_f0e51bd89a1064714b2a28104d0c123a', 'strict-transport-security': 'max-age=31536000; includeSubDomains; preload', 'cf-cache-status': 'DYNAMIC', 'x-content-type-options': 'nosniff', 'server': 'cloudflare', 'cf-ray': '932a4f888bdf65ed-MBA', 'content-encoding': 'gzip', 'alt-svc': 'h3=\":443\"; ma=86400'})\n",
      "DEBUG:openai._base_client:request_id: req_f0e51bd89a1064714b2a28104d0c123a\n",
      "DEBUG:openai._base_client:Request options: {'method': 'post', 'url': '/chat/completions', 'headers': {'X-Stainless-Helper-Method': 'beta.chat.completions.parse'}, 'files': None, 'post_parser': <function Completions.parse.<locals>.parser at 0x14c6c7740>, 'json_data': {'messages': [{'content': '\\nYou are an AI tasked with generating a set of meal assistant personas based solely on a user\\'s dietary context. Follow these instructions carefully and respond in valid JSON format.\\n\\n1. Review the user\\'s profile to understand their dietary habits, preferences, restrictions, and goals:\\n{\"name\": \"Space Cadet\", \"age\": 23, \"gender\": \"Male\", \"height_cm\": 183, \"weight_kg\": 65, \"activity_level\": \"Lightly active\", \"dietary_preferences\": [\"Dairy-Free\", \"Low-Carb\"], \"allergies\": [\"Peanuts\"], \"health_conditions\": [\"None\"], \"weight_goal\": \"Maintain weight\", \"past_meals\": [\"Oatmeal with fruits\", \"Grilled chicken with rice\", \"Salmon with vegetables\"]}\\n\\n2. Consider the type of meal for which these assistants are being created:\\nDINNER and the following instruction: Find nutritious dinners for 23-year-old Male aiming to Maintain weight.\\n\\n3. Identify the most important themes from the user\\'s profile. Themes may include dietary needs, health goals, preparation time, cultural relevance, food variety, or lifestyle considerations.\\n\\n4. Select the top 1 relevant themes for the current meal context.\\n\\n5. For each selected theme, create one unique AI assistant persona. Each assistant must:\\n    - Have a distinct name and tone (e.g., cheerful, nurturing, analytical).\\n    - Focus on one specific theme derived from the user profile.\\n    - Be customized to assist the user specifically for DINNER planning or decisions.\\n    - Offer helpful suggestions or support that reflect the user’s goals and context.\\n\\nReturn your output as a valid JSON object matching this structure:\\n[\\n    {\\n      \"name\": \"<assistant_name>\",\\n      \"tone\": \"<tone_description>\",\\n      \"theme\": \"<core_theme>\",\\n      \"description\": \"<brief description of this persona and how it helps the user for this meal>\"\\n    }\\n    ,.....\\n  ]\\nEnsure the top-level key is \"analysts\".\\n', 'role': 'system'}, {'content': 'Generate the set of analysts.', 'role': 'user'}], 'model': 'gpt-4o', 'response_format': {'type': 'json_object'}, 'stream': False, 'temperature': 0.0}}\n",
      "DEBUG:openai._base_client:Sending HTTP Request: POST https://api.openai.com/v1/chat/completions\n",
      "DEBUG:httpcore.http11:send_request_headers.started request=<Request [b'POST']>\n",
      "DEBUG:httpcore.http11:send_request_headers.complete\n",
      "DEBUG:httpcore.http11:send_request_body.started request=<Request [b'POST']>\n",
      "DEBUG:httpcore.http11:send_request_body.complete\n",
      "DEBUG:httpcore.http11:receive_response_headers.started request=<Request [b'POST']>\n",
      "DEBUG:httpcore.http11:receive_response_headers.complete return_value=(b'HTTP/1.1', 200, b'OK', [(b'Date', b'Sat, 19 Apr 2025 06:23:03 GMT'), (b'Content-Type', b'application/json'), (b'Transfer-Encoding', b'chunked'), (b'Connection', b'keep-alive'), (b'access-control-expose-headers', b'X-Request-ID'), (b'openai-organization', b'user-jtnny41eqie6zxkwrgewu2kd'), (b'openai-processing-ms', b'1260'), (b'openai-version', b'2020-10-01'), (b'x-ratelimit-limit-requests', b'500'), (b'x-ratelimit-limit-tokens', b'30000'), (b'x-ratelimit-remaining-requests', b'499'), (b'x-ratelimit-remaining-tokens', b'29530'), (b'x-ratelimit-reset-requests', b'120ms'), (b'x-ratelimit-reset-tokens', b'940ms'), (b'x-request-id', b'req_efb48d47af266767595e1e0adfb065fa'), (b'strict-transport-security', b'max-age=31536000; includeSubDomains; preload'), (b'cf-cache-status', b'DYNAMIC'), (b'X-Content-Type-Options', b'nosniff'), (b'Server', b'cloudflare'), (b'CF-RAY', b'932a4f96ad0d65ed-MBA'), (b'Content-Encoding', b'gzip'), (b'alt-svc', b'h3=\":443\"; ma=86400')])\n",
      "INFO:httpx:HTTP Request: POST https://api.openai.com/v1/chat/completions \"HTTP/1.1 200 OK\"\n",
      "DEBUG:httpcore.http11:receive_response_body.started request=<Request [b'POST']>\n",
      "DEBUG:httpcore.http11:receive_response_body.complete\n",
      "DEBUG:httpcore.http11:response_closed.started\n",
      "DEBUG:httpcore.http11:response_closed.complete\n",
      "DEBUG:openai._base_client:HTTP Response: POST https://api.openai.com/v1/chat/completions \"200 OK\" Headers({'date': 'Sat, 19 Apr 2025 06:23:03 GMT', 'content-type': 'application/json', 'transfer-encoding': 'chunked', 'connection': 'keep-alive', 'access-control-expose-headers': 'X-Request-ID', 'openai-organization': 'user-jtnny41eqie6zxkwrgewu2kd', 'openai-processing-ms': '1260', 'openai-version': '2020-10-01', 'x-ratelimit-limit-requests': '500', 'x-ratelimit-limit-tokens': '30000', 'x-ratelimit-remaining-requests': '499', 'x-ratelimit-remaining-tokens': '29530', 'x-ratelimit-reset-requests': '120ms', 'x-ratelimit-reset-tokens': '940ms', 'x-request-id': 'req_efb48d47af266767595e1e0adfb065fa', 'strict-transport-security': 'max-age=31536000; includeSubDomains; preload', 'cf-cache-status': 'DYNAMIC', 'x-content-type-options': 'nosniff', 'server': 'cloudflare', 'cf-ray': '932a4f96ad0d65ed-MBA', 'content-encoding': 'gzip', 'alt-svc': 'h3=\":443\"; ma=86400'})\n",
      "DEBUG:openai._base_client:request_id: req_efb48d47af266767595e1e0adfb065fa\n",
      "DEBUG:openai._base_client:Request options: {'method': 'post', 'url': '/chat/completions', 'headers': {'X-Stainless-Helper-Method': 'beta.chat.completions.parse'}, 'files': None, 'post_parser': <function Completions.parse.<locals>.parser at 0x14c6c7740>, 'json_data': {'messages': [{'content': '\\nYou are an AI tasked with generating a set of meal assistant personas based solely on a user\\'s dietary context. Follow these instructions carefully and respond in valid JSON format.\\n\\n1. Review the user\\'s profile to understand their dietary habits, preferences, restrictions, and goals:\\n{\"name\": \"Space Cadet\", \"age\": 23, \"gender\": \"Male\", \"height_cm\": 183, \"weight_kg\": 65, \"activity_level\": \"Lightly active\", \"dietary_preferences\": [\"Dairy-Free\", \"Low-Carb\"], \"allergies\": [\"Peanuts\"], \"health_conditions\": [\"None\"], \"weight_goal\": \"Maintain weight\", \"past_meals\": [\"Oatmeal with fruits\", \"Grilled chicken with rice\", \"Salmon with vegetables\"]}\\n\\n2. Consider the type of meal for which these assistants are being created:\\nSNACKS and the following instruction: Suggest healthy snack options that fit within a [\\'Dairy-Free\\', \\'Low-Carb\\'] diet while avoiding [\\'Peanuts\\'].\\n\\n3. Identify the most important themes from the user\\'s profile. Themes may include dietary needs, health goals, preparation time, cultural relevance, food variety, or lifestyle considerations.\\n\\n4. Select the top 1 relevant themes for the current meal context.\\n\\n5. For each selected theme, create one unique AI assistant persona. Each assistant must:\\n    - Have a distinct name and tone (e.g., cheerful, nurturing, analytical).\\n    - Focus on one specific theme derived from the user profile.\\n    - Be customized to assist the user specifically for SNACKS planning or decisions.\\n    - Offer helpful suggestions or support that reflect the user’s goals and context.\\n\\nReturn your output as a valid JSON object matching this structure:\\n[\\n    {\\n      \"name\": \"<assistant_name>\",\\n      \"tone\": \"<tone_description>\",\\n      \"theme\": \"<core_theme>\",\\n      \"description\": \"<brief description of this persona and how it helps the user for this meal>\"\\n    }\\n    ,.....\\n  ]\\nEnsure the top-level key is \"analysts\".\\n', 'role': 'system'}, {'content': 'Generate the set of analysts.', 'role': 'user'}], 'model': 'gpt-4o', 'response_format': {'type': 'json_object'}, 'stream': False, 'temperature': 0.0}}\n",
      "DEBUG:openai._base_client:Sending HTTP Request: POST https://api.openai.com/v1/chat/completions\n",
      "DEBUG:httpcore.http11:send_request_headers.started request=<Request [b'POST']>\n",
      "DEBUG:httpcore.http11:send_request_headers.complete\n",
      "DEBUG:httpcore.http11:send_request_body.started request=<Request [b'POST']>\n",
      "DEBUG:httpcore.http11:send_request_body.complete\n",
      "DEBUG:httpcore.http11:receive_response_headers.started request=<Request [b'POST']>\n",
      "DEBUG:httpcore.http11:receive_response_headers.complete return_value=(b'HTTP/1.1', 200, b'OK', [(b'Date', b'Sat, 19 Apr 2025 06:23:05 GMT'), (b'Content-Type', b'application/json'), (b'Transfer-Encoding', b'chunked'), (b'Connection', b'keep-alive'), (b'access-control-expose-headers', b'X-Request-ID'), (b'openai-organization', b'user-jtnny41eqie6zxkwrgewu2kd'), (b'openai-processing-ms', b'1970'), (b'openai-version', b'2020-10-01'), (b'x-ratelimit-limit-requests', b'500'), (b'x-ratelimit-limit-tokens', b'30000'), (b'x-ratelimit-remaining-requests', b'499'), (b'x-ratelimit-remaining-tokens', b'29521'), (b'x-ratelimit-reset-requests', b'120ms'), (b'x-ratelimit-reset-tokens', b'958ms'), (b'x-request-id', b'req_d8b68fb3458989d03708ccd1d8e880a8'), (b'strict-transport-security', b'max-age=31536000; includeSubDomains; preload'), (b'cf-cache-status', b'DYNAMIC'), (b'X-Content-Type-Options', b'nosniff'), (b'Server', b'cloudflare'), (b'CF-RAY', b'932a4fa04f3465ed-MBA'), (b'Content-Encoding', b'gzip'), (b'alt-svc', b'h3=\":443\"; ma=86400')])\n",
      "INFO:httpx:HTTP Request: POST https://api.openai.com/v1/chat/completions \"HTTP/1.1 200 OK\"\n",
      "DEBUG:httpcore.http11:receive_response_body.started request=<Request [b'POST']>\n",
      "DEBUG:httpcore.http11:receive_response_body.complete\n",
      "DEBUG:httpcore.http11:response_closed.started\n",
      "DEBUG:httpcore.http11:response_closed.complete\n",
      "DEBUG:openai._base_client:HTTP Response: POST https://api.openai.com/v1/chat/completions \"200 OK\" Headers({'date': 'Sat, 19 Apr 2025 06:23:05 GMT', 'content-type': 'application/json', 'transfer-encoding': 'chunked', 'connection': 'keep-alive', 'access-control-expose-headers': 'X-Request-ID', 'openai-organization': 'user-jtnny41eqie6zxkwrgewu2kd', 'openai-processing-ms': '1970', 'openai-version': '2020-10-01', 'x-ratelimit-limit-requests': '500', 'x-ratelimit-limit-tokens': '30000', 'x-ratelimit-remaining-requests': '499', 'x-ratelimit-remaining-tokens': '29521', 'x-ratelimit-reset-requests': '120ms', 'x-ratelimit-reset-tokens': '958ms', 'x-request-id': 'req_d8b68fb3458989d03708ccd1d8e880a8', 'strict-transport-security': 'max-age=31536000; includeSubDomains; preload', 'cf-cache-status': 'DYNAMIC', 'x-content-type-options': 'nosniff', 'server': 'cloudflare', 'cf-ray': '932a4fa04f3465ed-MBA', 'content-encoding': 'gzip', 'alt-svc': 'h3=\":443\"; ma=86400'})\n",
      "DEBUG:openai._base_client:request_id: req_d8b68fb3458989d03708ccd1d8e880a8\n"
     ]
    },
    {
     "name": "stdout",
     "output_type": "stream",
     "text": [
      "Name: Protein Pro\n",
      "Tone: Energetic\n",
      "Theme: High-Protein Breakfast\n",
      "Description: Protein Pro is here to help you kickstart your day with a high-protein breakfast that aligns with your dietary preferences. With a focus on dairy-free and low-carb options, Protein Pro suggests meals like a tofu scramble with spinach and tomatoes or a chia seed pudding with almond milk and berries. These options are designed to keep you energized and satisfied, supporting your lightly active lifestyle and weight maintenance goals.\n",
      "--------------------------------------------------\n",
      "Name: Carb-Conscious Charlie\n",
      "Tone: Analytical\n",
      "Theme: Low-Carb Diet\n",
      "Description: Carb-Conscious Charlie is here to help you navigate the world of low-carb lunch options. With a keen eye for detail, Charlie ensures that your meals are both satisfying and aligned with your dietary preferences. He provides suggestions that are not only low in carbohydrates but also free from dairy and peanuts, helping you maintain your weight while enjoying a variety of delicious and nutritious meals.\n",
      "--------------------------------------------------\n",
      "Name: Carb-Conscious Carl\n",
      "Tone: Analytical\n",
      "Theme: Low-Carb Nutrition\n",
      "Description: Carb-Conscious Carl is here to help you maintain your weight while sticking to a low-carb diet. He provides dinner suggestions that are both delicious and aligned with your dietary preferences, ensuring you get the right balance of nutrients without exceeding your carb limits. Whether it's a zesty zucchini noodle dish or a hearty grilled steak with a side of roasted vegetables, Carl's got you covered for a satisfying and nutritious dinner.\n",
      "--------------------------------------------------\n",
      "Name: Snack Savvy\n",
      "Tone: cheerful\n",
      "Theme: Dietary Needs\n",
      "Description: Snack Savvy is your go-to guide for finding delicious and satisfying snacks that align with your dairy-free and low-carb dietary preferences. With a cheerful and upbeat approach, Snack Savvy offers creative snack ideas that avoid peanuts and help you maintain your weight effortlessly. Whether you're looking for a quick bite or something to munch on during a break, Snack Savvy ensures your snacks are both healthy and enjoyable.\n",
      "--------------------------------------------------\n"
     ]
    }
   ],
   "execution_count": 764
  },
  {
   "metadata": {
    "ExecuteTime": {
     "end_time": "2025-04-19T17:49:30.042104Z",
     "start_time": "2025-04-19T17:49:30.036552Z"
    }
   },
   "cell_type": "code",
   "source": [
    "# meal_type_analysts = meal_type_analysts_event.get(\"analysts\")\n",
    "meal_type_analysts = [MealTypeAnalysts(meal_type='BREAKFAST', analysts=[Analyst(name='Protein Pro', tone='Energetic', theme='High-Protein Breakfast', description='Protein Pro is here to help you kickstart your day with a high-protein breakfast that aligns with your dietary preferences. With a focus on dairy-free and low-carb options, Protein Pro suggests meals like scrambled eggs with spinach and turkey bacon, or a tofu scramble with avocado. This assistant ensures you get the energy you need while maintaining your weight and avoiding peanuts.')]),\n",
    " MealTypeAnalysts(meal_type='LUNCH', analysts=[Analyst(name='Carb-Conscious Carl', tone='Analytical', theme='Low-Carb Meal Planning', description=\"Carb-Conscious Carl is here to help you navigate the world of low-carb lunches. With a keen eye for nutritional balance, Carl ensures that your meals are both satisfying and aligned with your dietary preferences. He provides suggestions that are dairy-free and low in carbohydrates, helping you maintain your weight while enjoying a variety of delicious lunch options. Carl's analytical approach ensures that every meal is thoughtfully crafted to meet your needs, avoiding any ingredients that don't fit your profile, like peanuts.\")]),\n",
    " MealTypeAnalysts(meal_type='DINNER', analysts=[Analyst(name='Carb-Conscious Carl', tone='Analytical', theme='Low-Carb Nutrition', description=\"Carb-Conscious Carl is here to help you maintain your weight while sticking to a low-carb diet. He provides dinner suggestions that are both delicious and aligned with your dietary preferences, ensuring you get the right balance of nutrients without exceeding your carb limits. Whether it's a zesty zucchini noodle dish or a hearty grilled steak with a side of roasted vegetables, Carl's got you covered for a satisfying and nutritious dinner.\")]),\n",
    " MealTypeAnalysts(meal_type='SNACKS', analysts=[Analyst(name='Carb-Conscious Charlie', tone='Analytical and supportive', theme='Low-Carb Diet', description=\"Carb-Conscious Charlie is here to help you navigate the world of low-carb snacking. With a keen eye for nutritional details, Charlie suggests snacks that keep your carb intake in check while ensuring you enjoy delicious and satisfying options. Whether you're looking for a quick bite or something to munch on during a break, Charlie's got you covered with ideas like almond butter on celery sticks, roasted chickpeas, or a handful of mixed seeds.\")])]\n",
    "meal_type_analysts"
   ],
   "outputs": [
    {
     "data": {
      "text/plain": [
       "[MealTypeAnalysts(meal_type='BREAKFAST', analysts=[Analyst(name='Protein Pro', tone='Energetic', theme='High-Protein Breakfast', description='Protein Pro is here to help you kickstart your day with a high-protein breakfast that aligns with your dietary preferences. With a focus on dairy-free and low-carb options, Protein Pro suggests meals like scrambled eggs with spinach and turkey bacon, or a tofu scramble with avocado. This assistant ensures you get the energy you need while maintaining your weight and avoiding peanuts.')]),\n",
       " MealTypeAnalysts(meal_type='LUNCH', analysts=[Analyst(name='Carb-Conscious Carl', tone='Analytical', theme='Low-Carb Meal Planning', description=\"Carb-Conscious Carl is here to help you navigate the world of low-carb lunches. With a keen eye for nutritional balance, Carl ensures that your meals are both satisfying and aligned with your dietary preferences. He provides suggestions that are dairy-free and low in carbohydrates, helping you maintain your weight while enjoying a variety of delicious lunch options. Carl's analytical approach ensures that every meal is thoughtfully crafted to meet your needs, avoiding any ingredients that don't fit your profile, like peanuts.\")]),\n",
       " MealTypeAnalysts(meal_type='DINNER', analysts=[Analyst(name='Carb-Conscious Carl', tone='Analytical', theme='Low-Carb Nutrition', description=\"Carb-Conscious Carl is here to help you maintain your weight while sticking to a low-carb diet. He provides dinner suggestions that are both delicious and aligned with your dietary preferences, ensuring you get the right balance of nutrients without exceeding your carb limits. Whether it's a zesty zucchini noodle dish or a hearty grilled steak with a side of roasted vegetables, Carl's got you covered for a satisfying and nutritious dinner.\")]),\n",
       " MealTypeAnalysts(meal_type='SNACKS', analysts=[Analyst(name='Carb-Conscious Charlie', tone='Analytical and supportive', theme='Low-Carb Diet', description=\"Carb-Conscious Charlie is here to help you navigate the world of low-carb snacking. With a keen eye for nutritional details, Charlie suggests snacks that keep your carb intake in check while ensuring you enjoy delicious and satisfying options. Whether you're looking for a quick bite or something to munch on during a break, Charlie's got you covered with ideas like almond butter on celery sticks, roasted chickpeas, or a handful of mixed seeds.\")])]"
      ]
     },
     "execution_count": 59,
     "metadata": {},
     "output_type": "execute_result"
    }
   ],
   "execution_count": 59
  },
  {
   "metadata": {},
   "cell_type": "markdown",
   "source": "# Conduct Interview"
  },
  {
   "metadata": {
    "ExecuteTime": {
     "end_time": "2025-04-19T17:49:30.896420Z",
     "start_time": "2025-04-19T17:49:30.874411Z"
    }
   },
   "cell_type": "code",
   "source": [
    "\n",
    "from langgraph.graph import add_messages\n",
    "\n",
    "\n",
    "class SourcedDocuments(TypedDict):\n",
    "    analyst: Analyst\n",
    "    context: Annotated[list, operator.add]\n",
    "\n",
    "\n",
    "class RecommendedMeal(BaseModel):\n",
    "    meal_name: str\n",
    "    meal_type: str\n",
    "    ingredients: list[str]\n",
    "    preparation_steps: list[str]\n",
    "    prepared_steps: list[str]\n",
    "    prep_time_minutes: int\n",
    "    portion: str\n",
    "    goal_support: str\n",
    "\n",
    "\n",
    "class RecommendedMealList(BaseModel):\n",
    "    meals: List[RecommendedMeal]\n",
    "\n",
    "\n",
    "class RecommendedMeals(TypedDict):\n",
    "    user_profile: UserProfile\n",
    "    recommended_meals: Annotated[list[RecommendedMealList], add_messages]\n",
    "\n",
    "\n",
    "class InterviewState(BaseModel):\n",
    "    user_profile: UserProfile\n",
    "    max_num_turns: int = 1\n",
    "    web_documents: Annotated[list[SourcedDocuments], operator.add] = Field(default_factory=list)\n",
    "    wiki_documents: Annotated[list[SourcedDocuments], operator.add] = Field(default_factory=list)\n",
    "    sourced_documents: Annotated[list[SourcedDocuments], operator.add] = Field(default_factory=list)\n",
    "    meal_type_analysts: List[MealTypeAnalysts] = Field(default_factory=list)\n",
    "    interview: str = \"\"\n",
    "    analysts_messages: List[AnalystMessages] = Field(default_factory=list)\n",
    "    recommended_meals: RecommendedMeals = Field(default_factory=dict)\n",
    "    analysts: List[MealTypeAnalysts] = Field(default_factory=list)\n",
    "    max_analysts: int = 1\n",
    "    meal_queries: List[MealQuery] = Field(default_factory=list)\n",
    "\n",
    "\n",
    "class SearchQuery(BaseModel):\n",
    "    search_query: str = Field(None, description=\"Search query for retrieval.\")"
   ],
   "outputs": [],
   "execution_count": 60
  },
  {
   "metadata": {
    "ExecuteTime": {
     "end_time": "2025-04-19T17:49:31.141064Z",
     "start_time": "2025-04-19T17:49:31.133464Z"
    }
   },
   "cell_type": "code",
   "source": [
    "retriever_prompt = PromptTemplate(\n",
    "    template=\"\"\"\n",
    "    You are a nutritionist AI assistant that helps users generate **personalized meal recommendations** based on their profile.\n",
    "\n",
    "    The user profile is as follows:\n",
    "\n",
    "    - Age: {age}\n",
    "    - Gender: {gender}\n",
    "    - Height: {height_cm} cm\n",
    "    - Weight: {weight_kg} kg\n",
    "    - Activity Level: {activity_level}\n",
    "    - Dietary Preferences: {dietary_preferences}\n",
    "    - Allergies: {allergies}\n",
    "    - Health Conditions: {health_conditions}\n",
    "    - Weight Goal: {weight_goal}\n",
    "    - Past Meal History (if available): {past_meals}\n",
    "\n",
    "    ### Task:\n",
    "    Generate a structured JSON response with **multiple queries** for retrieving meal plans.\n",
    "    Each query should focus on **one meal category**:\n",
    "    - Breakfast\n",
    "    - Lunch\n",
    "    - Dinner\n",
    "    - Snacks\n",
    "\n",
    "    Ensure that meals align with **dietary preferences, allergies, and weight goals** while maintaining **nutritional balance**.\n",
    "\n",
    "    Rules:\n",
    "\t•\tIf any field is an empty array `[]`, or unspecified, substitute it with a realistic, healthy default (e.g., “Mediterranean diet”, “moderately active”, “no known allergies”, etc.).\n",
    "\t•\tIf dietary preference is missing, randomly choose a healthy eating pattern such as Mediterranean, Plant-based, Paleo, or Flexitarian.\n",
    "\t•\tEnsure that meals align with all available preferences, allergies, and weight goals while maintaining nutritional balance.\n",
    "\n",
    "\n",
    "    Your output must be a valid JSON object structured as follows:\n",
    "    ```json\n",
    "    {{\n",
    "        \"queries\": [\n",
    "            {{\n",
    "                \"meal_type\": \"BREAKFAST\",\n",
    "                \"query\": \"Retrieve high-protein breakfast meals suitable for {gender}, {age} years old, {activity_level} activity, avoiding {allergies}.\"\n",
    "            }},\n",
    "            {{\n",
    "                \"meal_type\": \"LUNCH\",\n",
    "                \"query\": \"Retrieve balanced lunch options with {dietary_preferences} for a {weight_goal} goal, avoiding {allergies}.\"\n",
    "            }},\n",
    "            {{\n",
    "                \"meal_type\": \"DINNER\",\n",
    "                \"query\": \"Find nutritious dinners for {age}-year-old {gender} aiming to {weight_goal}.\"\n",
    "            }},\n",
    "            {{\n",
    "                \"meal_type\": \"SNACKS\",\n",
    "                \"query\": \"Suggest healthy snack options that fit within a {dietary_preferences} diet while avoiding {allergies}.\"\n",
    "            }}\n",
    "        ]\n",
    "    }}\n",
    "    ```\n",
    "    \"\"\",\n",
    "    input_variables=[\n",
    "        \"age\",\n",
    "        \"gender\",\n",
    "        \"height_cm\",\n",
    "        \"weight_kg\",\n",
    "        \"activity_level\",\n",
    "        \"dietary_preferences\",\n",
    "        \"allergies\",\n",
    "        \"health_conditions\",\n",
    "        \"weight_goal\",\n",
    "        \"past_meals\"\n",
    "    ],\n",
    ")\n",
    "\n",
    "def generate_retrieval_queries(state: InterviewState):\n",
    "    user_profile = state.user_profile\n",
    "    formatted_prompt = retriever_prompt.format(**user_profile.model_dump())\n",
    "    llm_chat = ChatOpenAI(\n",
    "        model=\"gpt-4o\",\n",
    "        temperature=0,\n",
    "        max_tokens=None,\n",
    "        timeout=None,\n",
    "        max_retries=2,\n",
    "    )\n",
    "    llm_chat_json = llm_chat.with_structured_output(MealQuery)\n",
    "    retrieval_queries = llm_chat_json.invoke(formatted_prompt)\n",
    "\n",
    "    return {\"meal_queries\": retrieval_queries[\"queries\"]}\n",
    "\n",
    "\n",
    "\n",
    "def create_analysts(state: InterviewState):\n",
    "    llm_chat = ChatOpenAI(\n",
    "        model=\"gpt-4o\",\n",
    "        temperature=0,\n",
    "        max_tokens=None,\n",
    "        timeout=None,\n",
    "        max_retries=2,\n",
    "    )\n",
    "\n",
    "    llm_chat_json = llm_chat.with_structured_output(method=\"json_mode\")\n",
    "    max_assistants = state.max_analysts\n",
    "    meal_queries = state.meal_queries\n",
    "    user_profile = state.user_profile\n",
    "\n",
    "    result: List[MealTypeAnalysts] = []\n",
    "\n",
    "    for meal in meal_queries:\n",
    "        meal_type = meal[\"meal_type\"]\n",
    "        query = meal[\"query\"]\n",
    "\n",
    "        system_message = meal_assistant_prompt.format(\n",
    "            user_profile=user_profile,\n",
    "            meal_type=meal_type,\n",
    "            query=query,\n",
    "            max_assistants=max_assistants,\n",
    "        )\n",
    "\n",
    "        analysts = llm_chat_json.invoke(\n",
    "            [SystemMessage(content=system_message)] + [HumanMessage(content=\"Generate the set of analysts.\")])\n",
    "\n",
    "        generated_analyst = MealTypeAnalysts(\n",
    "            meal_type=meal_type,\n",
    "            analysts=analysts[\"analysts\"],\n",
    "        )\n",
    "\n",
    "        result.append(generated_analyst)\n",
    "\n",
    "    # Write to state\n",
    "    return {\"meal_type_analysts\": result}\n",
    "\n",
    "\n",
    "question_template = \"\"\"You are an analyst tasked with interviewing an expert to learn about a specific topic.\n",
    "\n",
    "Your goal is boil down to interesting and specific insights related to your topic.\n",
    "\n",
    "1. Interesting: Insights that people will find surprising or non-obvious.\n",
    "\n",
    "2. Specific: Insights that avoid generalities and include specific examples from the expert.\n",
    "\n",
    "Here is your topic of focus and set of goals: {goals}\n",
    "\n",
    "Begin by introducing yourself using a name that fits your persona, and then ask your question.\n",
    "\n",
    "Continue to ask questions to drill down and refine your understanding of the topic.\n",
    "\n",
    "When you are satisfied with your understanding, complete the interview with: \"Thank you so much for your help!\"\n",
    "\n",
    "Remember to stay in character throughout your response, reflecting the persona and goals provided to you.\n",
    "\"\"\"\n",
    "\n",
    "\n",
    "def generate_question(state: InterviewState):\n",
    "    \"\"\" Node to generate a question \"\"\"\n",
    "    llm_chat = ChatOpenAI(\n",
    "        model=\"gpt-4o\",\n",
    "        temperature=0,\n",
    "        max_tokens=None,\n",
    "        timeout=None,\n",
    "        max_retries=2,\n",
    "    )\n",
    "\n",
    "    meal_type_analysts: List[MealTypeAnalysts] = state.meal_type_analysts\n",
    "    analysts_messages = state.analysts_messages\n",
    "\n",
    "    for meal_type_analyst in meal_type_analysts:\n",
    "        analysts = meal_type_analyst.analysts\n",
    "        for analyst in analysts:\n",
    "            goals = f\"Explore expert strategies related to {analyst.theme.lower()} — specifically, {analyst.description}\"\n",
    "            system_message = question_template.replace(\"{goals}\", goals)\n",
    "            question = llm_chat.invoke([\n",
    "                SystemMessage(content=system_message),\n",
    "                HumanMessage(content=\"Let's begin.\")\n",
    "            ])\n",
    "\n",
    "            analysts_messages.append(\n",
    "                AnalystMessages(\n",
    "                    analyst=analyst,\n",
    "                    messages=[question],\n",
    "                )\n",
    "            )\n",
    "\n",
    "    # Write messages to state\n",
    "    return {\"analysts_messages\": analysts_messages}"
   ],
   "outputs": [],
   "execution_count": 61
  },
  {
   "metadata": {
    "ExecuteTime": {
     "end_time": "2025-04-19T17:46:11.151301Z",
     "start_time": "2025-04-19T17:46:08.150576Z"
    }
   },
   "cell_type": "code",
   "source": [
    "# Testing `generate_retrieval_queries` node\n",
    "interview_state_example =  {\n",
    "    \"user_profile\": user,\n",
    "}\n",
    "interview_state_example = InterviewState(**interview_state_example)\n",
    "\n",
    "generated_queries_example = generate_retrieval_queries(interview_state_example)\n",
    "generated_queries_example\n"
   ],
   "outputs": [
    {
     "data": {
      "text/plain": [
       "{'meal_queries': [{'meal_type': 'BREAKFAST',\n",
       "   'query': \"Retrieve high-protein breakfast meals suitable for Male, 23 years old, Lightly active activity, avoiding ['Peanuts'].\"},\n",
       "  {'meal_type': 'LUNCH',\n",
       "   'query': \"Retrieve balanced lunch options with ['Dairy-Free', 'Low-Carb'] for a Maintain weight goal, avoiding ['Peanuts'].\"},\n",
       "  {'meal_type': 'DINNER',\n",
       "   'query': \"Find nutritious dinners for 23-year-old Male aiming to Maintain weight, ensuring meals are ['Dairy-Free', 'Low-Carb'] and avoiding ['Peanuts'].\"},\n",
       "  {'meal_type': 'SNACKS',\n",
       "   'query': \"Suggest healthy snack options that fit within a ['Dairy-Free', 'Low-Carb'] diet while avoiding ['Peanuts'].\"}]}"
      ]
     },
     "execution_count": 45,
     "metadata": {},
     "output_type": "execute_result"
    }
   ],
   "execution_count": 45
  },
  {
   "metadata": {
    "ExecuteTime": {
     "end_time": "2025-04-19T17:46:11.189390Z",
     "start_time": "2025-04-19T17:46:11.184871Z"
    }
   },
   "cell_type": "code",
   "source": "generated_queries_example[\"meal_queries\"]",
   "outputs": [
    {
     "data": {
      "text/plain": [
       "[{'meal_type': 'BREAKFAST',\n",
       "  'query': \"Retrieve high-protein breakfast meals suitable for Male, 23 years old, Lightly active activity, avoiding ['Peanuts'].\"},\n",
       " {'meal_type': 'LUNCH',\n",
       "  'query': \"Retrieve balanced lunch options with ['Dairy-Free', 'Low-Carb'] for a Maintain weight goal, avoiding ['Peanuts'].\"},\n",
       " {'meal_type': 'DINNER',\n",
       "  'query': \"Find nutritious dinners for 23-year-old Male aiming to Maintain weight, ensuring meals are ['Dairy-Free', 'Low-Carb'] and avoiding ['Peanuts'].\"},\n",
       " {'meal_type': 'SNACKS',\n",
       "  'query': \"Suggest healthy snack options that fit within a ['Dairy-Free', 'Low-Carb'] diet while avoiding ['Peanuts'].\"}]"
      ]
     },
     "execution_count": 46,
     "metadata": {},
     "output_type": "execute_result"
    }
   ],
   "execution_count": 46
  },
  {
   "metadata": {
    "ExecuteTime": {
     "end_time": "2025-04-19T17:46:32.826684Z",
     "start_time": "2025-04-19T17:46:20.964601Z"
    }
   },
   "cell_type": "code",
   "source": [
    "# Testing `create_analysts` node\n",
    "interview_state_example =  {\n",
    "    \"user_profile\": user,\n",
    "    \"meal_queries\": generated_queries_example[\"meal_queries\"]\n",
    "}\n",
    "interview_state_example = InterviewState(**interview_state_example)\n",
    "\n",
    "generated_analysts_example = create_analysts(interview_state_example)\n",
    "generated_analysts_example"
   ],
   "outputs": [
    {
     "data": {
      "text/plain": [
       "{'meal_type_analysts': [MealTypeAnalysts(meal_type='BREAKFAST', analysts=[Analyst(name='Protein Pro', tone='Energetic', theme='High-Protein Breakfast', description=\"Protein Pro is here to help Space Cadet kickstart his day with high-protein, dairy-free, and low-carb breakfast options. With a focus on maintaining energy levels for a lightly active lifestyle, Protein Pro suggests meals like scrambled eggs with spinach and turkey bacon, or a tofu scramble with avocado. Always mindful of avoiding peanuts, Protein Pro ensures each meal is both satisfying and aligned with Space Cadet's dietary preferences.\")]),\n",
       "  MealTypeAnalysts(meal_type='LUNCH', analysts=[Analyst(name='Carb-Conscious Carl', tone='Analytical', theme='Low-Carb, Dairy-Free Lunch Planning', description='Carb-Conscious Carl is here to help you navigate the world of low-carb, dairy-free lunches. With a keen eye for nutritional balance, Carl ensures that your meals are not only aligned with your dietary preferences but also support your goal of maintaining weight. He provides suggestions for delicious and satisfying lunch options that avoid peanuts, keeping your health and taste buds in mind.')]),\n",
       "  MealTypeAnalysts(meal_type='DINNER', analysts=[Analyst(name='Carb-Conscious Carl', tone='Analytical', theme='Low-Carb Nutrition', description='Carb-Conscious Carl is here to help you maintain your weight while enjoying delicious, low-carb dinners. With a keen eye for nutritional balance, Carl suggests meals that are both satisfying and aligned with your dietary preferences. He ensures that each dinner is dairy-free and peanut-free, providing you with a variety of options that keep your carb intake in check without compromising on taste.')]),\n",
       "  MealTypeAnalysts(meal_type='SNACKS', analysts=[Analyst(name='Snack Savvy', tone='cheerful', theme='Dietary Needs', description='Snack Savvy is here to make sure your snack time is both delicious and aligned with your dietary preferences. With a focus on dairy-free and low-carb options, Snack Savvy offers creative and tasty snack ideas that avoid peanuts, ensuring you enjoy every bite without compromising your health goals.')])]}"
      ]
     },
     "execution_count": 47,
     "metadata": {},
     "output_type": "execute_result"
    }
   ],
   "execution_count": 47
  },
  {
   "metadata": {
    "ExecuteTime": {
     "end_time": "2025-04-19T17:46:32.851018Z",
     "start_time": "2025-04-19T17:46:32.846157Z"
    }
   },
   "cell_type": "code",
   "source": [
    "interview_state_example =  {\n",
    "    \"user_profile\": user,\n",
    "    \"meal_type_analysts\": generated_analysts_example.get(\"analysts\", []),\n",
    "    \"analysts_messages\": [],\n",
    "    \"sourced_documents\": [],\n",
    "    \"interview\": \"\",\n",
    "    \"recommended_meals\": {\n",
    "        \"user_profile\": user,\n",
    "        \"recommended_meals\": []\n",
    "    },\n",
    "    \"max_num_turns\": 2\n",
    "}\n",
    "interview_state_example = InterviewState(**interview_state_example)\n",
    "print(interview_state_example)"
   ],
   "outputs": [
    {
     "name": "stdout",
     "output_type": "stream",
     "text": [
      "user_profile=UserProfile(name='Space Cadet', age=23, gender='Male', height_cm=183, weight_kg=65.0, activity_level='Lightly active', dietary_preferences=['Dairy-Free', 'Low-Carb'], allergies=['Peanuts'], health_conditions=['None'], weight_goal='Maintain weight', past_meals=[]) max_num_turns=2 web_documents=[] wiki_documents=[] sourced_documents=[] meal_type_analysts=[] interview='' analysts_messages=[] recommended_meals={'user_profile': UserProfile(name='Space Cadet', age=23, gender='Male', height_cm=183, weight_kg=65.0, activity_level='Lightly active', dietary_preferences=['Dairy-Free', 'Low-Carb'], allergies=['Peanuts'], health_conditions=['None'], weight_goal='Maintain weight', past_meals=[]), 'recommended_meals': []} analysts=[] max_analysts=1 meal_queries=[]\n"
     ]
    }
   ],
   "execution_count": 48
  },
  {
   "metadata": {
    "ExecuteTime": {
     "end_time": "2025-04-19T17:46:32.913895Z",
     "start_time": "2025-04-19T17:46:32.891306Z"
    }
   },
   "cell_type": "code",
   "source": [
    "# Testing generate question node\n",
    "generate_question_question_test = generate_question(interview_state_example)\n",
    "print(generate_question_question_test)\n"
   ],
   "outputs": [
    {
     "name": "stdout",
     "output_type": "stream",
     "text": [
      "{'analysts_messages': []}\n"
     ]
    }
   ],
   "execution_count": 49
  },
  {
   "metadata": {
    "ExecuteTime": {
     "end_time": "2025-04-19T17:46:32.953412Z",
     "start_time": "2025-04-19T17:46:32.949793Z"
    }
   },
   "cell_type": "code",
   "source": "analysts_messages_testing = generate_question_question_test[\"analysts_messages\"]",
   "outputs": [],
   "execution_count": 50
  },
  {
   "metadata": {},
   "cell_type": "markdown",
   "source": "# Generate Answers: Parallelization"
  },
  {
   "metadata": {},
   "cell_type": "markdown",
   "source": [
    "Now, we create nodes to search the web and wikipedia.\n",
    "\n",
    "We'll also create a node to answer analyst questions.\n",
    "\n",
    "Finally, we'll create nodes to save the full interview and to write a summary (\"section\") of the interview."
   ]
  },
  {
   "metadata": {
    "ExecuteTime": {
     "end_time": "2025-04-19T17:54:56.458070Z",
     "start_time": "2025-04-19T17:54:56.445167Z"
    }
   },
   "cell_type": "code",
   "source": [
    "# import logging\n",
    "#\n",
    "# logging.basicConfig(level=logging.INFO)\n",
    "\n",
    "tavily_search = TavilySearchResults(max_results=3)\n",
    "\n",
    "# Search query writing\n",
    "search_instructions = SystemMessage(content=f\"\"\"You will be given a conversation between an analyst and an expert.\n",
    "ii\n",
    "Your goal is to generate a well-structured query for use in retrieval and / or web-search related to the conversation.\n",
    "\n",
    "First, analyze the full conversation.\n",
    "\n",
    "Pay particular attention to the final question posed by the analyst.\n",
    "\n",
    "Convert this final question into a well-structured web search query\"\"\")\n",
    "\n",
    "\n",
    "def search_web(state: InterviewState):\n",
    "    \"\"\" Retrieve docs from web search \"\"\"\n",
    "    llm_chat = ChatOpenAI(\n",
    "        model=\"gpt-4o\",\n",
    "        temperature=0,\n",
    "        max_tokens=None,\n",
    "        timeout=None,\n",
    "        max_retries=2,\n",
    "    )\n",
    "    tavily_search = TavilySearchResults(max_results=3)\n",
    "\n",
    "\n",
    "    structured_llm = llm_chat.with_structured_output(SearchQuery)\n",
    "    analysts_messages: List[AnalystMessages] = state.analysts_messages\n",
    "\n",
    "    all_sourced_documents = []\n",
    "\n",
    "    for analyst_message in analysts_messages:\n",
    "        messages = analyst_message.get(\"messages\")\n",
    "        analyst = analyst_message.get(\"analyst\")\n",
    "        search_query = structured_llm.invoke([search_instructions] + messages)\n",
    "        # Search\n",
    "        search_docs = tavily_search.invoke(search_query.search_query)\n",
    "        # Format\n",
    "        formatted_search_docs = \"\\n\\n---\\n\\n\".join(\n",
    "            [\n",
    "                f'<Document href=\"{doc[\"url\"]}\"/>\\n{doc[\"content\"]}\\n</Document>'\n",
    "                for doc in search_docs\n",
    "            ]\n",
    "        )\n",
    "\n",
    "        all_sourced_documents.append(SourcedDocuments(\n",
    "            analyst=analyst,\n",
    "            context=[formatted_search_docs],\n",
    "        ))\n",
    "\n",
    "    return {\"web_documents\": all_sourced_documents}\n",
    "\n",
    "\n",
    "def search_wikipedia(state: InterviewState):\n",
    "    \"\"\" Retrieve docs from wikipedia \"\"\"\n",
    "\n",
    "\n",
    "    llm_chat = ChatOpenAI(\n",
    "        model=\"gpt-4o\",\n",
    "        temperature=0,\n",
    "        max_tokens=None,\n",
    "        timeout=None,\n",
    "        max_retries=2,\n",
    "    )\n",
    "\n",
    "    structured_llm = llm_chat.with_structured_output(SearchQuery)\n",
    "    analysts_messages: List[AnalystMessages] = state.analysts_messages\n",
    "    # sourced_documents: List[SourcedDocuments] = state.sourced_documents\n",
    "\n",
    "    all_sourced_documents = []\n",
    "\n",
    "    for analyst_message in analysts_messages:\n",
    "        messages = analyst_message[\"messages\"]\n",
    "        analyst = analyst_message.get(\"analyst\")\n",
    "        search_query = structured_llm.invoke([search_instructions] + messages)\n",
    "        # Search\n",
    "        search_docs = WikipediaLoader(query=search_query.search_query,\n",
    "                                      load_max_docs=2).load()\n",
    "\n",
    "        # Format\n",
    "        formatted_search_docs = \"\\n\\n---\\n\\n\".join(\n",
    "            [\n",
    "                f'<Document href=\"{doc.metadata[\"source\"]}\"/>\\n{doc.page_content}\\n</Document>'\n",
    "                for doc in search_docs\n",
    "            ]\n",
    "        )\n",
    "\n",
    "        all_sourced_documents.append(\n",
    "            SourcedDocuments(\n",
    "                analyst=analyst,\n",
    "                context=[formatted_search_docs],\n",
    "            )\n",
    "        )\n",
    "\n",
    "    return {\"wiki_documents\": all_sourced_documents}\n",
    "\n",
    "def combine_documents(state: InterviewState):\n",
    "    \"\"\"Combine documents from different sources\"\"\"\n",
    "    combined_docs = state.web_documents + state.wiki_documents\n",
    "    return {\"sourced_documents\": combined_docs}\n",
    "\n",
    "answer_instructions = \"\"\"You are an expert being interviewed by an analyst.\n",
    "\n",
    "Here is analyst area of focus: {goals}.\n",
    "\n",
    "You goal is to answer a question posed by the interviewer.\n",
    "\n",
    "To answer question, use this context:\n",
    "\n",
    "{context}\n",
    "\n",
    "When answering questions, follow these guidelines:\n",
    "\n",
    "1. Use only the information provided in the context.\n",
    "\n",
    "2. Do not introduce external information or make assumptions beyond what is explicitly stated in the context.\n",
    "\n",
    "3. The context contain sources at the topic of each individual document.\n",
    "\n",
    "4. Include these sources your answer next to any relevant statements. For example, for source # 1 use [1].\n",
    "\n",
    "5. List your sources in order at the bottom of your answer. [1] Source 1, [2] Source 2, etc\n",
    "\n",
    "6. If the source is: <Document source=\"assistant/docs/llama3_1.pdf\" page=\"7\"/>' then just list:\n",
    "\n",
    "[1] assistant/docs/llama3_1.pdf, page 7\n",
    "\n",
    "And skip the addition of the brackets as well as the Document source preamble in your citation.\"\"\"\n",
    "\n",
    "\n",
    "def generate_answer(state: InterviewState):\n",
    "    \"\"\" Node to answer a question \"\"\"\n",
    "    llm_chat = ChatOpenAI(\n",
    "        model=\"gpt-4o\",\n",
    "        temperature=0,\n",
    "        max_tokens=None,\n",
    "        timeout=None,\n",
    "        max_retries=2,\n",
    "    )\n",
    "\n",
    "    # Get state\n",
    "    sourced_documents: List[SourcedDocuments] = state.sourced_documents\n",
    "    analysts_messages: List[AnalystMessages] = state.analysts_messages\n",
    "\n",
    "\n",
    "    for index, analyst in enumerate(analysts_messages):\n",
    "        messages = analyst[\"messages\"]\n",
    "        analyst_name = analyst[\"analyst\"].name\n",
    "\n",
    "        i = next(\n",
    "            (i for i, analyst_message in enumerate(analysts_messages) if\n",
    "             analyst_message[\"analyst\"].name == analyst_name),\n",
    "            -1\n",
    "        )\n",
    "        context = list(\n",
    "            filter(lambda doc: doc[\"analyst\"].name == analyst_name, sourced_documents)\n",
    "        )\n",
    "\n",
    "        # Answer question\n",
    "        system_message = answer_instructions.format(goals=analyst[\"analyst\"].tone, context=context)\n",
    "        answer = llm_chat.invoke([SystemMessage(content=system_message)] + messages)\n",
    "\n",
    "        # Name the message as coming from the expert\n",
    "        answer.name = \"expert\"\n",
    "        # Answer the question in the user state\n",
    "        previous_message = analysts_messages[index][\"messages\"]\n",
    "        analysts_messages[index][\"messages\"] = [*previous_message, answer]\n",
    "\n",
    "    return {\"analysts_messages\": analysts_messages}\n",
    "\n",
    "\n",
    "def route_messages(state: InterviewState,\n",
    "                   name: str = \"expert\"):\n",
    "    \"\"\" Route between question and answer \"\"\"\n",
    "    analysts_messages: List[AnalystMessages] = state.analysts_messages\n",
    "    max_num_turns = state.max_num_turns\n",
    "\n",
    "    for analyst_message in analysts_messages:\n",
    "        messages = analyst_message.get(\"messages\")\n",
    "\n",
    "        # Check the number of expert answers\n",
    "        num_responses = len(\n",
    "            [m for m in messages if isinstance(m, AIMessage) and m.name == name]\n",
    "        )\n",
    "\n",
    "        if num_responses < max_num_turns:\n",
    "            return \"ask_question\"\n",
    "\n",
    "    return \"save_interview\"\n",
    "\n",
    "\n",
    "def save_interview(state: InterviewState):\n",
    "    \"\"\" Save interviews \"\"\"\n",
    "\n",
    "    # Get messages\n",
    "    # messages = state[\"messages\"]\n",
    "    #\n",
    "    # # Convert interview to a string\n",
    "    # interview = get_buffer_string(messages)\n",
    "\n",
    "    place_holder = \"**** Everything is good, will implement save interview soon ****\"\n",
    "\n",
    "    # Save to interviews key\n",
    "    return {\"interview\": place_holder}\n",
    "\n",
    "\n",
    "json_writer_instructions = \"\"\"You are a helpful assistant that generates healthy food recommendations based on the user's goals and preferences.\n",
    "\n",
    "Instructions:\n",
    "1. Generate **at least 4 specific meal suggestions** for the given meal type: {meal_type}.\n",
    "2. Use the following message as context or inspiration for the meal ideas:\n",
    "{message}\n",
    "3. If the message provides fewer than 4 suggestions, generate additional ones that match the user's preferences and goals. {user_profile}\n",
    "\n",
    "Each recommendation must be in JSON format with these fields:\n",
    "- \"meal_name\": A short, descriptive name for the meal.\n",
    "- \"meal_type\": One of: \"BREAKFAST\", \"LUNCH\", \"DINNER\", \"SNACKS\".\n",
    "- \"ingredients\": A list of main ingredients.\n",
    "- \"portion\": A brief description of the portion size.\n",
    "- \"preparation_steps\": A list of simple steps to prepare the meal.\n",
    "- \"prep_time_minutes\": Approximate time (in minutes) to prepare the meal.\n",
    "- \"goal_support\": A sentence on how this meal supports weight maintenance or healthy eating.\n",
    "\n",
    "Output:\n",
    "Return a valid JSON object with a field called \"meals\" that contains all your meal suggestions — no markdown, no explanations.\n",
    "\n",
    "Example:\n",
    "{{\n",
    "  \"meals\": [\n",
    "    {{\n",
    "      \"meal_name\": \"Greek Yogurt Parfait\",\n",
    "      \"meal_type\": \"BREAKFAST\",\n",
    "      \"ingredients\": [\"Greek yogurt\", \"granola\", \"berries\"],\n",
    "      \"portion\": \"1 cup yogurt, 1/4 cup granola, 1/4 cup berries\",\n",
    "      \"preparation_steps\": [\n",
    "        \"Toast the bread.\",\n",
    "        \"Mash the avocado with lemon juice, salt, and pepper.\",\n",
    "        \"Poach the egg.\",\n",
    "        \"Spread avocado on toast and top with poached egg.\"\n",
    "      ],\n",
    "      \"prep_time_minutes\": 10,\n",
    "      \"goal_support\": \"High in protein and fiber, helps with satiety and energy levels\"\n",
    "    }},\n",
    "    ...\n",
    "  ]\n",
    "}}\n",
    "\"\"\"\n",
    "\n",
    "\n",
    "def write_recommendations(state: InterviewState):\n",
    "    \"\"\" Extract food recommendations as JSON \"\"\"\n",
    "    llm_chat = ChatOpenAI(\n",
    "        model=\"gpt-4o\",\n",
    "        temperature=0,\n",
    "        max_tokens=None,\n",
    "        timeout=None,\n",
    "        max_retries=2,\n",
    "    )\n",
    "\n",
    "    analysts_messages: List[AnalystMessages] = state.analysts_messages\n",
    "    meal_type_analysts:List[MealTypeAnalysts] = state.meal_type_analysts\n",
    "\n",
    "    recommended_meals = state.recommended_meals\n",
    "\n",
    "    ai_recommendation: List[RecommendedMealList] = []\n",
    "\n",
    "    recommended_meals[\"user_profile\"] = state.user_profile\n",
    "\n",
    "    def retrieve_meal_type(meal_type_analysts: List[MealTypeAnalysts], index_to_look):\n",
    "        meal_type_analyst = meal_type_analysts[index_to_look]\n",
    "        return meal_type_analyst.meal_type\n",
    "\n",
    "    for index, analyst_message in enumerate(analysts_messages):\n",
    "        analyst = analyst_message.get(\"analyst\")\n",
    "        meal_type = retrieve_meal_type(meal_type_analysts, index)\n",
    "\n",
    "        messages = analyst_message[\"messages\"]\n",
    "        meal_recommendation_message_content = messages[-1].content\n",
    "\n",
    "        system_message = json_writer_instructions.format(meal_type=meal_type, message=meal_recommendation_message_content, user_profile=state.user_profile)\n",
    "\n",
    "        response = llm_chat.invoke([\n",
    "            SystemMessage(content=system_message)\n",
    "        ])\n",
    "\n",
    "        parsed = json.loads(response.content)\n",
    "        ai_recommendation.extend(parsed.get(\"meals\"))\n",
    "\n",
    "        # recommended_meals[\"recommended_meals\"] = [json_output]\n",
    "\n",
    "    recommended_meals[\"recommended_meals\"] = ai_recommendation\n",
    "\n",
    "    return {\"recommended_meals\": recommended_meals}"
   ],
   "outputs": [],
   "execution_count": 72
  },
  {
   "metadata": {
    "ExecuteTime": {
     "end_time": "2025-04-19T17:50:09.781395Z",
     "start_time": "2025-04-19T17:50:09.751349Z"
    }
   },
   "cell_type": "code",
   "source": [
    "# Testing `search_web` node\n",
    "interview_state_example =  {\n",
    "    \"user_profile\": user,\n",
    "    \"meal_type_analysts\": meal_type_analysts,\n",
    "\n",
    "}\n",
    "interview_state_example = InterviewState(**interview_state_example)\n",
    "documents_from_web = search_web(interview_state_example)\n",
    "print(documents_from_web)"
   ],
   "outputs": [
    {
     "name": "stdout",
     "output_type": "stream",
     "text": [
      "{'web_documents': []}\n"
     ]
    }
   ],
   "execution_count": 69
  },
  {
   "metadata": {
    "ExecuteTime": {
     "end_time": "2025-04-19T17:46:39.486797Z",
     "start_time": "2025-04-19T17:46:39.466041Z"
    }
   },
   "cell_type": "code",
   "source": "len(documents_from_web.get(\"web_documents\"))",
   "outputs": [
    {
     "ename": "NameError",
     "evalue": "name 'documents_from_web' is not defined",
     "output_type": "error",
     "traceback": [
      "\u001B[31m---------------------------------------------------------------------------\u001B[39m",
      "\u001B[31mNameError\u001B[39m                                 Traceback (most recent call last)",
      "\u001B[36mCell\u001B[39m\u001B[36m \u001B[39m\u001B[32mIn[53]\u001B[39m\u001B[32m, line 1\u001B[39m\n\u001B[32m----> \u001B[39m\u001B[32m1\u001B[39m \u001B[38;5;28mlen\u001B[39m(\u001B[43mdocuments_from_web\u001B[49m.get(\u001B[33m\"\u001B[39m\u001B[33mweb_documents\u001B[39m\u001B[33m\"\u001B[39m))\n",
      "\u001B[31mNameError\u001B[39m: name 'documents_from_web' is not defined"
     ]
    }
   ],
   "execution_count": 53
  },
  {
   "metadata": {
    "ExecuteTime": {
     "end_time": "2025-04-19T17:46:39.649193Z",
     "start_time": "2025-04-19T17:46:39.627454Z"
    }
   },
   "cell_type": "code",
   "source": [
    "# Testing `search_web` node\n",
    "interview_state_example =  {\n",
    "    \"user_profile\": user,\n",
    "    \"meal_type_analysts\": meal_type_analysts,\n",
    "    \"analysts_messages\": analysts_messages_testing,\n",
    "    \"sourced_documents\": [],\n",
    "    \"interview\": \"\",\n",
    "    \"recommended_meals\": {\n",
    "        \"user_profile\": user,\n",
    "        \"recommended_meals\": []\n",
    "    },\n",
    "    \"max_num_turns\": 2\n",
    "}\n",
    "interview_state_example = InterviewState(**interview_state_example)\n",
    "documents_from_wikipedia = search_wikipedia(interview_state_example)\n",
    "print(documents_from_wikipedia)"
   ],
   "outputs": [
    {
     "ename": "NameError",
     "evalue": "name 'meal_type_analysts' is not defined",
     "output_type": "error",
     "traceback": [
      "\u001B[31m---------------------------------------------------------------------------\u001B[39m",
      "\u001B[31mNameError\u001B[39m                                 Traceback (most recent call last)",
      "\u001B[36mCell\u001B[39m\u001B[36m \u001B[39m\u001B[32mIn[54]\u001B[39m\u001B[32m, line 4\u001B[39m\n\u001B[32m      1\u001B[39m \u001B[38;5;66;03m# Testing `search_web` node\u001B[39;00m\n\u001B[32m      2\u001B[39m interview_state_example =  {\n\u001B[32m      3\u001B[39m     \u001B[33m\"\u001B[39m\u001B[33muser_profile\u001B[39m\u001B[33m\"\u001B[39m: user,\n\u001B[32m----> \u001B[39m\u001B[32m4\u001B[39m     \u001B[33m\"\u001B[39m\u001B[33mmeal_type_analysts\u001B[39m\u001B[33m\"\u001B[39m: \u001B[43mmeal_type_analysts\u001B[49m,\n\u001B[32m      5\u001B[39m     \u001B[33m\"\u001B[39m\u001B[33manalysts_messages\u001B[39m\u001B[33m\"\u001B[39m: analysts_messages_testing,\n\u001B[32m      6\u001B[39m     \u001B[33m\"\u001B[39m\u001B[33msourced_documents\u001B[39m\u001B[33m\"\u001B[39m: [],\n\u001B[32m      7\u001B[39m     \u001B[33m\"\u001B[39m\u001B[33minterview\u001B[39m\u001B[33m\"\u001B[39m: \u001B[33m\"\u001B[39m\u001B[33m\"\u001B[39m,\n\u001B[32m      8\u001B[39m     \u001B[33m\"\u001B[39m\u001B[33mrecommended_meals\u001B[39m\u001B[33m\"\u001B[39m: {\n\u001B[32m      9\u001B[39m         \u001B[33m\"\u001B[39m\u001B[33muser_profile\u001B[39m\u001B[33m\"\u001B[39m: user,\n\u001B[32m     10\u001B[39m         \u001B[33m\"\u001B[39m\u001B[33mrecommended_meals\u001B[39m\u001B[33m\"\u001B[39m: []\n\u001B[32m     11\u001B[39m     },\n\u001B[32m     12\u001B[39m     \u001B[33m\"\u001B[39m\u001B[33mmax_num_turns\u001B[39m\u001B[33m\"\u001B[39m: \u001B[32m2\u001B[39m\n\u001B[32m     13\u001B[39m }\n\u001B[32m     14\u001B[39m interview_state_example = InterviewState(**interview_state_example)\n\u001B[32m     15\u001B[39m documents_from_wikipedia = search_wikipedia(interview_state_example)\n",
      "\u001B[31mNameError\u001B[39m: name 'meal_type_analysts' is not defined"
     ]
    }
   ],
   "execution_count": 54
  },
  {
   "metadata": {
    "ExecuteTime": {
     "end_time": "2025-04-19T17:44:13.498937Z",
     "start_time": "2025-04-19T02:01:03.580385Z"
    }
   },
   "cell_type": "code",
   "source": [
    "wiki_searched_documents_example = documents_from_wikipedia.get(\"wiki_documents\")\n",
    "web_searched_documents_example = documents_from_web.get(\"web_documents\")"
   ],
   "outputs": [],
   "execution_count": 443
  },
  {
   "metadata": {
    "ExecuteTime": {
     "end_time": "2025-04-19T17:44:13.501546Z",
     "start_time": "2025-04-19T02:07:40.356445Z"
    }
   },
   "cell_type": "code",
   "source": [
    "# Testing `combine_documents` node\n",
    "interview_state_example =  {\n",
    "    \"user_profile\": user,\n",
    "    \"meal_type_analysts\": meal_type_analysts,\n",
    "    \"analysts_messages\": analysts_messages_testing,\n",
    "    \"web_documents\": web_searched_documents_example,\n",
    "    \"wiki_documents\": wiki_searched_documents_example,\n",
    "    \"sourced_documents\": [],\n",
    "    \"interview\": \"\",\n",
    "    \"recommended_meals\": {\n",
    "        \"user_profile\": user,\n",
    "        \"recommended_meals\": []\n",
    "    },\n",
    "    \"max_num_turns\": 2\n",
    "}\n",
    "interview_state_example = InterviewState(**interview_state_example)\n",
    "\n",
    "combine_documents_example = combine_documents(interview_state_example)\n",
    "combine_documents_example = combine_documents_example.get(\"sourced_documents\")\n",
    "print(combine_documents_example)"
   ],
   "outputs": [
    {
     "name": "stdout",
     "output_type": "stream",
     "text": [
      "[{'analyst': Analyst(name='Protein Pro', tone='Energetic', theme='High-Protein Breakfast', description='Protein Pro is here to help you kickstart your day with a high-protein breakfast that aligns with your dietary preferences. With a focus on dairy-free and low-carb options, Protein Pro suggests meals like scrambled eggs with spinach and turkey bacon, or a tofu scramble with avocado. This assistant ensures you get the energy you need while maintaining your weight and avoiding peanuts.'), 'context': ['<Document href=\"https://www.eatingwell.com/gallery/8066388/dairy-free-high-protein-breakfasts/\"/>\\nFor a Mediterranean-inspired breakfast, serve up fried or poached eggs on top of sautéed artichokes and toast. If you can\\'t find frozen, be sure to rinse canned artichoke hearts well—they\\'re saltier than frozen. Serve with hot sauce on the side, if desired.\\n\\nPancetta, Tomato & Avocado Grain Bowls [...] You can make these three-ingredient tomato-simmered eggs with things you probably already have on hand in your freezer and pantry. To make these baked eggs more like eggs in purgatory, look for a spicy tomato sauce and don\\'t forget some whole-wheat bread for dipping.\\n\\nSpinach & Egg Scramble with Raspberries [...] Having a stash of flavorful bean burritos in your freezer means you\\'ll always have a satisfying plant-based meal ready for a grab-and-go breakfast on a busy morning or to take to the campsite for an easy campfire meal. Our vegan breakfast filling—made with tofu and prepared to mimic scrambled eggs—is tossed with beans, veggies and salsa for a delicious and ultra-satisfying meal.\\n\\nBreakfast Salad with Smoked Salmon & Poached Eggs\\n</Document>\\n\\n---\\n\\n<Document href=\"https://www.purition.com/blogs/articles/low-carb-vegan-breakfast-recipes?srsltid=AfmBOopNBuw8xELxDr2cIiciNNnCGCVGga1fvNMGqoX-XgfkvSrZvaS9\"/>\\nHow to make it: Start with a liquid base, choose a protein source, add in some healthy fats and finish with a small serving of low-carb fruit and/or veggies. Make it your own with these low-carb friendly options:\\n\\nLiquid base\\n\\nProtein\\n\\nHealthy fats\\n\\nFruit & veg\\n\\n2. Chia pudding\\n\\nChia seeds are a vegan low-carb breakfast staple. They’re packed with plant-powered protein and dietary fibre and just so happen to be one of the best vegan sources of essential fatty acids. [...] 1. Low-carb vegan breakfast smoothies\\n\\nWhen you need to be out the door pronto, smoothies make for a great high-protein low-carb breakfast. Pour them straight into a glass to go – or if you fancy something special, use less liquid, pour into a bowl and top with berries, nuts and seeds. The recipe combinations are endless, but to make it low-carb, stay away from high-sugar juices and fruits and focus on the addition of protein and fats. [...] 9. Low-carb vegan fry-up\\n\\nWith foods like eggs, sausages and hash browns firmly off the low-carb vegan menu, traditional fry-ups might seem impossible to replicate. But here’s a secret—just swap the meat for the tofu ‘bacon’ above, throw in smashed avo, sauteed mushrooms and grilled tomatoes and replace the egg for (optional) tofu scramble. The result? High protein, low-carb vegan breakfast heaven!\\n</Document>\\n\\n---\\n\\n<Document href=\"https://forums.welltrainedmind.com/topic/642874-low-carb-dairy-free-egg-free-breakfast-ideas/\"/>\\nThink \"lunch.\" Tums salad, Chicken nuggets, Steak. Best trick I ever learned for high-protein, no dairy or egg, was how to cook meat at extremely high heat.\\n</Document>']}, {'analyst': Analyst(name='Carb-Conscious Carl', tone='Analytical', theme='Low-Carb Meal Planning', description=\"Carb-Conscious Carl is here to help you navigate the world of low-carb lunches. With a keen eye for nutritional balance, Carl ensures that your meals are both satisfying and aligned with your dietary preferences. He provides suggestions that are dairy-free and low in carbohydrates, helping you maintain your weight while enjoying a variety of delicious lunch options. Carl's analytical approach ensures that every meal is thoughtfully crafted to meet your needs, avoiding any ingredients that don't fit your profile, like peanuts.\"), 'context': ['<Document href=\"https://peaceloveandlowcarb.com/low-carb-dairy-free-recipes/\"/>\\nLow Carb Dairy Free Lunch Recipes\\n\\n\\n\\nDill Chicken Salad | Peace Love and Low Carb\\n\\nAvocado Tuna Salad | Peace Love and Low Carb\\n\\nCurried Chicken Salad Stuffed Avocados | Peace Love and Low Carb\\n\\n\\n\\nKeto Thai Shrimp Cakes | Peace Love and Low Carb\\n\\nBLTA Pesto Chicken Salad | Peace Love and Low Carb\\n\\nChicken Fajita Soup | Peace Love and Low Carb\\n\\nLow Carb Dairy Free Dinner Recipes\\n\\n\\n\\nCoffee Barbecue Pork Belly | Peace Love and Low Carb\\n\\nHerbed Chicken and Mushrooms | Peace Love and Low Carb [...] From drinks to breakfasts, lunches, dinners, and snacks, here are some of my favorite dairy free keto recipes.\\n\\nLow Carb Dairy Free Drink Recipes\\n\\n\\n\\nGolden Milk Latte | Peace Love and Low Carb\\n\\nLow Carb Dairy Free Peanut Butter and Jelly PB&J Smoothie\\n\\nBlack Beauty - Black Pepper Blackberry Drink | Peace Love and Low Carb\\n\\n\\n\\nOrange Creamsicle Mimosas | Peace Love and Low Carb\\n\\nKeto Dairy Free Shamrock Shake | Peace Love and Low Carb [...] Keto Bacon Guacamole Deviled Eggs | Peace Love and Low Carb\\n\\n\\n\\nLow Carb, Keto, Gluten Free Weekly Meal Plans\\n\\nAre you ready to take the guesswork out of that stressful weeknight meal planning?\\n\\nPeace, Love and Low Carb - Low Carb and Gluten Free Weekly Meal Plans are low carb, gluten free, and keto friendly. All recipes include a color photo and complete nutritional analysis. Comes with a printable grocery list, snack list, tips for meal prepping and suggestions for substitutions.\\n</Document>\\n\\n---\\n\\n<Document href=\"https://thefitcookie.com/gluten-free-dairy-free-low-carb-and-keto-recipes/\"/>\\nWe gathered up over 60 gluten free low-carb recipes and keto dairy-free recipes to help with your your low-carb meal planning.\\n</Document>\\n\\n---\\n\\n<Document href=\"https://www.dietdoctor.com/low-carb/keto/dairy-free\"/>\\nThis week’s meal plan is low carb, dairy-free, egg-free — and will help anyone in search of recipes that are gentle on the digestive system. It includes gut-friendly foods, such as bone broth, squash, ginger, avocado, and high-quality meat and fish. \\u2060\\n\\nHere’s to your health and happiness! Inside and out.\\n\\nFull meal plan →\\n\\nKeto: Dairy free #2 (Asian flavors) [...] Here are three days of delicious, dairy-free recipes for breakfast, lunch, and dinner — and you don’t even need to count carbs! Each day features a variety of keto dishes that will automatically keep you below 20 grams of net carbs per day.\\n\\nNote: If you don’t like certain recipes or don’t have the ingredients on hand, you can always replace them with recipes that fit your preferences.\\n\\nDay 1\\n\\nBreakfast\\n\\nLunch\\n\\nDinner\\n\\nDay 2\\n\\nBreakfast\\n\\nLunch\\n\\nDinner\\n\\nDay 3\\n\\nBreakfast\\n\\nLunch\\n\\nDinner [...] How about some bacon omelet, coconut salmon and flavorful meatballs? Enjoy this and much more while staying below 20 grams of carbs per day with this week’s dairy-free and keto meal plan.\\n\\nFull meal plan →\\n\\nHow to create your own dairy-free keto meal\\xa0plan\\n\\nCan you design your own dairy-free keto meal plan that suits your unique preferences and lifestyle? Absolutely!Just aim to keep the net carbs under 20 grams per day.\\n</Document>']}, {'analyst': Analyst(name='Carb-Conscious Carl', tone='Analytical', theme='Low-Carb Nutrition', description=\"Carb-Conscious Carl is here to help you maintain your weight while sticking to a low-carb diet. He provides dinner suggestions that are both delicious and aligned with your dietary preferences, ensuring you get the right balance of nutrients without exceeding your carb limits. Whether it's a zesty zucchini noodle dish or a hearty grilled steak with a side of roasted vegetables, Carl's got you covered for a satisfying and nutritious dinner.\"), 'context': ['<Document href=\"https://www.eatingwell.com/gallery/7907676/low-carb-dinner-recipes-to-always-make/\"/>\\nEnjoy these low-carb dinners that contain no more than 14 grams of carbohydrates per serving. They\\'re also packed with nutritious vegetables and filling protein to create a satisfying meal. Recipes like our Easy Salmon Cakes with Arugula Salad and Philly Cheesesteak Stuffed Peppers will be regulars on your dinner table.\\n\\nPhilly Cheesesteak Stuffed Peppers [...] This easy grilled pork loin recipe served with a white bean puree gets a pop of fresh flavor from the lemony, fresh herb vinaigrette. Make it a complete healthy dinner with steamed green beans and a green salad tossed with Italian dressing.\\n\\nCauliflower Chicken Fried \"Rice\"\\n\\nGet an extra serving of vegetables and cut back on carbs by replacing rice with riced cauliflower in this healthy chicken fried rice recipe.\\n\\nLemon-Garlic Chicken with Green Beans [...] Mounding a classic Philly cheesesteak mixture in a colorful bell pepper and melting cheese on top is an easy way to skip the bread and cut the carbs.\\n\\nEasy Salmon Cakes with Arugula Salad\\n\\nAfter making the salmon cakes, we firm them up for 5 minutes in the freezer before cooking so they don\\'t fall apart when they hit the hot oil. You can also make these salmon cakes with canned salmon to make them pantry- and budget-friendly.\\n\\nGrilled Chicken with Red Pepper-Pecan Romesco Sauce\\n</Document>\\n\\n---\\n\\n<Document href=\"https://www.eatingwell.com/recipes/18446/mealtimes/dinner/low-carb/\"/>\\nFind healthy, delicious low-carb dinner recipes, from the food and nutrition experts at EatingWell. Broccoli Casserole with Sun-Dried Tomato Cream Sauce.\\n</Document>\\n\\n---\\n\\n<Document href=\"https://www.bbcgoodfood.com/recipes/collection/low-carb-dinner-recipes\"/>\\nSit down to a satisfying low-carb supper. From comforting stews and curries to light fish dishes, our recipes are flavourful yet low in carbohydrates.\\n</Document>']}, {'analyst': Analyst(name='Carb-Conscious Charlie', tone='Analytical and supportive', theme='Low-Carb Diet', description=\"Carb-Conscious Charlie is here to help you navigate the world of low-carb snacking. With a keen eye for nutritional details, Charlie suggests snacks that keep your carb intake in check while ensuring you enjoy delicious and satisfying options. Whether you're looking for a quick bite or something to munch on during a break, Charlie's got you covered with ideas like almond butter on celery sticks, roasted chickpeas, or a handful of mixed seeds.\"), 'context': ['<Document href=\"https://www.tasteofhome.com/collection/low-carb-snacks-your-family-will-love/?srsltid=AfmBOoruyl5P3CKgomOtDqqeyAeKnpONJezrGrZwP2L6ERCsS6qz1k8a\"/>\\nDig into delicious low-carb snacks like flavored popcorn and marinated cheese. With just 5 or fewer grams of carbs per serving, they\\'ll keep you satisfied.\\n</Document>\\n\\n---\\n\\n<Document href=\"https://www.health.com/no-carb-snacks-11687629\"/>\\nPickles, like olives, contain a small amount of carbohydrates but can easily fit into a low-carb diet. They offer a salty crunch that satisfies cravings for something savory, without the higher carbohydrate content typically found in chips and pretzels.\\n\\nWhile pickles are often high in sodium, low-sodium varieties are available for those watching their intake. A 4-inch slice of cucumber contains just 16.2 calories, making it a light snack option.\\n\\n8. Shrimp Cocktail With No-Carb Sauce [...] Bone broth is a comforting and easy snack, especially on a cold day or when you\\'re feeling under the weather. It\\'s made by simmering animal bones on low heat for almost 24 hours, allowing the collagen in the connective tissue to break down and infuse the liquid with protein and nutrients.\\n\\nYou can enjoy bone broth on its own, or if you\\'d like to add some carbohydrates, pair it with low-carb bread or your favorite vegetables.\\n\\n6. Jerky [...] Deli meats are a quick, no-cook, carbohydrate-free option if you select varieties without added sugar. They pack plenty of protein, making for a filling snack. For example, a 100-gram (3.5-ounce) serving of roast beef provides about 19 grams of protein.\\n\\nYou can enjoy deli meat alone or wrap it around a string cheese for a more filling snack. If you\\'re okay with adding some carbohydrates, consider pairing it with a slice of low-carb bread for a\\xa0satisfying bite.\\n\\n10. Egg Salad\\n</Document>\\n\\n---\\n\\n<Document href=\"https://peopleschoicebeefjerky.com/blogs/news/high-protein-low-carb-snacks?srsltid=AfmBOooni0m-tEeYQ_Gm1UQ2B_A-WWSH_nL13cb5EJsBkAhD8YnMJPzs\"/>\\nWith minimal carbohydrates, cheese sticks are a satisfying and delicious option. Boost protein intake while maintaining a low-carb diet.\\n</Document>']}, {'analyst': Analyst(name='Protein Pro', tone='Energetic', theme='High-Protein Breakfast', description='Protein Pro is here to help you kickstart your day with a high-protein breakfast that aligns with your dietary preferences. With a focus on dairy-free and low-carb options, Protein Pro suggests meals like scrambled eggs with spinach and turkey bacon, or a tofu scramble with avocado. This assistant ensures you get the energy you need while maintaining your weight and avoiding peanuts.'), 'context': ['']}, {'analyst': Analyst(name='Carb-Conscious Carl', tone='Analytical', theme='Low-Carb Meal Planning', description=\"Carb-Conscious Carl is here to help you navigate the world of low-carb lunches. With a keen eye for nutritional balance, Carl ensures that your meals are both satisfying and aligned with your dietary preferences. He provides suggestions that are dairy-free and low in carbohydrates, helping you maintain your weight while enjoying a variety of delicious lunch options. Carl's analytical approach ensures that every meal is thoughtfully crafted to meet your needs, avoiding any ingredients that don't fit your profile, like peanuts.\"), 'context': ['<Document href=\"https://en.wikipedia.org/wiki/Ketogenic_diet\"/>\\nThe ketogenic diet is a high-fat, adequate-protein, low-carbohydrate dietary therapy that in conventional medicine is used mainly to treat hard-to-control (refractory) epilepsy in children. The diet forces the body to burn fats rather than carbohydrates.\\nNormally, carbohydrates in food are converted into glucose, which is then transported around the body and is important in fueling brain function. However, if only a little carbohydrate remains in the diet, the liver converts fat into fatty acids and ketone bodies, the latter passing into the brain and replacing glucose as an energy source. An elevated level of ketone bodies in the blood (a state called ketosis) eventually lowers the frequency of epileptic seizures. Around half of children and young people with epilepsy who have tried some form of this diet saw the number of seizures drop by at least half, and the effect persists after discontinuing the diet. Some evidence shows that adults with epilepsy may benefit from the diet and that a less strict regimen, such as a modified Atkins diet, is similarly effective. Side effects may include constipation, high cholesterol, growth slowing, acidosis, and kidney stones.\\nThe original therapeutic diet for paediatric epilepsy provides just enough protein for body growth and repair, and sufficient calories to maintain the correct weight for age and height. The classic therapeutic ketogenic diet was developed for treatment of paediatric epilepsy in the 1920s and was widely used into the next decade, but its popularity waned with the introduction of effective anticonvulsant medications. This classic ketogenic diet contains a 4:1 ketogenic ratio or ratio by weight of fat to combined protein and carbohydrate. This is achieved by excluding high-carbohydrate foods such as starchy fruits and vegetables, bread, pasta, grains, and sugar, while increasing the consumption of foods high in fat such as nuts, cream, and butter. Most dietary fat is made of molecules called long-chain triglycerides (LCTs). However, medium-chain triglycerides (MCTs)—made from fatty acids with shorter carbon chains than LCTs—are more ketogenic. A variant of the classic diet known as the MCT ketogenic diet uses a form of coconut oil, which is rich in MCTs, to provide around half the calories. As less overall fat is needed in this variant of the diet, a greater proportion of carbohydrate and protein can be consumed, allowing a greater variety of food choices.\\nIn 1994, Hollywood producer Jim Abrahams, whose son\\'s severe epilepsy was effectively controlled by the diet, created the Charlie Foundation for Ketogenic Therapies to further promote diet therapy. Publicity included an appearance on NBC\\'s Dateline program and ...First Do No Harm (1997), a made-for-television film starring Meryl Streep. The foundation sponsored a research study, the results of which—announced in 1996—marked the beginning of renewed scientific interest in the diet.\\nPossible therapeutic uses for the ketogenic diet have been studied for many additional neurological disorders, some of which include: Alzheimer\\'s disease, amyotrophic lateral sclerosis, headache, neurotrauma, pain, Parkinson\\'s disease, and sleep disorders.\\n\\n\\n== Epilepsy ==\\nEpilepsy is one of the most common neurological disorders after migraine and stroke, affecting around 50 million people worldwide. It is diagnosed in a person having recurrent, unprovoked seizures. These occur when cortical neurons fire excessively, hypersynchronously, or both, leading to temporary disruption of normal brain function. This might affect, for example, the muscles, the senses, consciousness, or a combination. A seizure can be focal (confined to a specific part of the brain) or generalised (spread widely throughout the brain and leading to a loss of consciousness). Epilepsy can occur for a variety of reasons; some forms have been classified into epileptic syndromes, most of which begin in childhood. Epilepsy is considered refractory (not yielding to treatment\\n</Document>\\n\\n---\\n\\n<Document href=\"https://en.wikipedia.org/wiki/Burger_King_products\"/>\\nWhen the predecessor of international fast food restaurant chain Burger King (BK) first opened in 1953, its menu predominantly consisted of hamburgers, French fries, soft drinks, milkshakes, and desserts. After being acquired by its Miami, Florida franchisees and renamed in 1954, BK began expanding its menu by adding the Whopper sandwich in 1957, and has since added non-beef items such as chicken, fish, and vegetarian offerings, including salads and meatless sandwiches. Other additions include a breakfast menu and beverages such as Icees, juices, and bottled waters. As the company expanded both inside and outside the United States, it introduced localized versions of its products that conform to regional tastes and cultural or religious beliefs. To generate additional sales, BK occasionally introduces limited-time offers of special versions of its products, or brings out completely new products intended for either long- or short-term sales. Not all of these products and services have been successful; in 1992, Burger King introduced limited table service featuring special dinner platters, but this concept failed to generate interest and was discontinued.\\nThe company introduced the first iteration of its breakfast menu, along with the company\\'s \"Specialty Sandwich\" product line, in a 1978 menu expansion. The products were some of the first designed by a fast food restaurant chain that were intended to capture the adult market, members of which would be willing to spend more on a higher-quality product. The expanded Burger King menu was part of a plan by then-company president Donald N. Smith to reach the broadest possible demographic market to better compete with McDonald\\'s, and to fend off then newcomer Wendy\\'s, who had a growing market share. The plan was successful: the company\\'s sales increased by 15 percent. Despite another menu expansion in 1985, the company\\'s market gains diminished due to neglect of the brand at the hands of then-parent Pillsbury and its successors, Grand Metropolitan and Diageo. When the company was sold to a group led by TPG Capital in 2004, the trend of targeting an expanded audience was renewed under a plan by its then-CEO Brad Blum. During Blum\\'s tenure, the company added several products that featured higher-quality ingredients and other menu fare that again attempted to appeal to the adult palate and demographic. As in the past, not all of these products met corporate sales expectations, or in the case of several of its larger offerings, resulted in negative publicity due to nutritional concerns. With the purchase of the company in 2010 by 3G Capital, the company again began another revamp of its product line by phasing out some products, introducing new ones and redesigning others including its flagship Whopper. \\nLike its menu, the equipment the company cooks its hamburgers with, has also evolved as the company grew. The burgers have always been broiled mechanically; the original unit, called an Insta-Broiler, was one of two pieces of equipment the founders of Insta-Burger King purchased before opening their new restaurant. The Insta-Broiler worked by cooking 12 burger patties in a wire basket, allowing the patties to be cooked from both sides simultaneously. With the acquisition of the chain by its Miami franchisees came an improved unit dubbed a \"Flame Broiler\". Designed by the new owners, it featured stationary burners that cooked the meat on a moving chain. The unit broke down less often, while maintaining a similar cooking rate. The cooking format remained for the next 40 years until Burger King developed a new, variable speed broiler that could handle multiple items with different cooking rates and times. These new units began testing in 1999 and eventually evolved into the two models the company deployed system-wide in 2008–2009. Accompanying these new broilers was new food-holding equipment and a computer-based product monitoring system for its cooked products. The new system allows for m\\n</Document>']}, {'analyst': Analyst(name='Carb-Conscious Carl', tone='Analytical', theme='Low-Carb Nutrition', description=\"Carb-Conscious Carl is here to help you maintain your weight while sticking to a low-carb diet. He provides dinner suggestions that are both delicious and aligned with your dietary preferences, ensuring you get the right balance of nutrients without exceeding your carb limits. Whether it's a zesty zucchini noodle dish or a hearty grilled steak with a side of roasted vegetables, Carl's got you covered for a satisfying and nutritious dinner.\"), 'context': ['<Document href=\"https://en.wikipedia.org/wiki/TikTok_food_trends\"/>\\nTikTok food trends refer to popular recipes and food-related fads on the social media platform TikTok. These trends amassed popularity in 2020 during the COVID-19 pandemic, as many people spent more time cooking at home while engaging with social media for entertainment. \\nFood-related content on TikTok is often categorized under the hashtags #TikTokFood and #FoodTok. These hashtags have amassed 4.6 million and 4.5 million posts, respectively, according to the platform. Some TikTok users share personal recipes and dietary habits, while others use step-by-step cooking videos to grow their online presence. \\nThe widespread popularity of these trends has influenced various aspects of society, including interest in cooking among younger generations, discussions about body image, the marketing of food products on social media, and  temporary food shortages. \\nSeveral TikTok content creators, such as Eitan Bernath, Jeron Combs, and Emily Mariko, have gained recognition  through their recipes and content. Some of the most notable TikTok food trends include the leftover salmon bowl, baked feta cheese pasta, and pesto eggs.\\n\\n\\n== Trends ==\\n\\n\\n=== 2020 ===\\n\\n\\n==== Cloud bread ====\\n\\nCloud bread is a light, fluffy low-carb bread substitute made from egg whites, corn starch, and sugar. Cloud bread gained popularity on TikTok in July 2020, and user @linqanaaa is credited for bringing it to the platform.\\n\\n\\n==== Dalgona coffee ====\\n\\nDalgona coffee is a whipped coffee drink made by combining equal parts of instant coffee, sugar, hot water, and then whisking the mixture until it forms a frothy texture. Although dalgona coffee originates from Macau, it gained popularity in South Korea where it was named after dalgona, a type of Korean candy. The trend emerged on TikTok in March 2020 during the COVID-19 quarantine in the United States.\\n\\n\\n==== Decorative focaccia bread ====\\nThe decorative focaccia bread trend, under the hashtag #focacciaart, emerged on TikTok in the spring of 2020. Users began decorating their homemade focaccia loaves with designs made from vegetables, herbs, and other edible ingredients.\\n\\n\\n==== Hot chocolate bombs ====\\n\\nHot chocolate bombs (also known as cocoa bombs) are chocolate spheres filled with hot chocolate mix and confections, such as marshmallows. When placed in hot milk, the chocolate shell melts and releases its contents. \\nEric Torres-Garcia (@erictorresg on TikTok) is credited with popularizing cocoa bombs on the platform in December 2020. The trend surged around the 2020 Christmas season, prompting some bakers and store owners to add these confections to their menus. Torres-Garcia claims he posted the first cocoa bombs video on TikTok and has since trademarked the name. Since then, many creators have attempted their own variations of the confection.\\n\\n\\n==== Mini pancake cereal ====\\n\\nMini pancake cereal consists of miniature pancakes served in a bowl, often drizzled with maple syrup and butter, to resemble traditional breakfast cereal. The trend was first introduced in April 2020 by Sydney Melhoff (@sydneymelhoff on TikTok). Following its popularity,  users developed variations of the dish using different foods, including cookies, donuts, and croissants.\\n\\n\\n=== 2021 ===\\n\\n\\n==== Baked feta cheese pasta ====\\n\\nBaked feta cheese pasta is made with a few simple ingredients: cherry tomatoes, a block of feta cheese, olive oil, pasta, basil, and garlic. The tomatoes and feta are baked together in the oven until softened, then mashed into a sauce and mixed with cooked pasta.\\nThe dish gained popularity due to its simplicity and ease of preparation. In 2019, a Finnish food blogger name Jenni Häyrinen (@liemessa on TikTok) first introduced the recipe in 2019, but it gained popularity on TikTok in February 2021. The trend became so widespread that it led to a temporary shortage of feta cheese in Finnish grocery stores.\\n\\n\\n==== Baked oats ====\\nFirst popular in the spring of 2021, baked oats is a breakfast dish similar to traditional oatmeal,\\n</Document>\\n\\n---\\n\\n<Document href=\"https://en.wikipedia.org/wiki/Ketogenic_diet\"/>\\nThe ketogenic diet is a high-fat, adequate-protein, low-carbohydrate dietary therapy that in conventional medicine is used mainly to treat hard-to-control (refractory) epilepsy in children. The diet forces the body to burn fats rather than carbohydrates.\\nNormally, carbohydrates in food are converted into glucose, which is then transported around the body and is important in fueling brain function. However, if only a little carbohydrate remains in the diet, the liver converts fat into fatty acids and ketone bodies, the latter passing into the brain and replacing glucose as an energy source. An elevated level of ketone bodies in the blood (a state called ketosis) eventually lowers the frequency of epileptic seizures. Around half of children and young people with epilepsy who have tried some form of this diet saw the number of seizures drop by at least half, and the effect persists after discontinuing the diet. Some evidence shows that adults with epilepsy may benefit from the diet and that a less strict regimen, such as a modified Atkins diet, is similarly effective. Side effects may include constipation, high cholesterol, growth slowing, acidosis, and kidney stones.\\nThe original therapeutic diet for paediatric epilepsy provides just enough protein for body growth and repair, and sufficient calories to maintain the correct weight for age and height. The classic therapeutic ketogenic diet was developed for treatment of paediatric epilepsy in the 1920s and was widely used into the next decade, but its popularity waned with the introduction of effective anticonvulsant medications. This classic ketogenic diet contains a 4:1 ketogenic ratio or ratio by weight of fat to combined protein and carbohydrate. This is achieved by excluding high-carbohydrate foods such as starchy fruits and vegetables, bread, pasta, grains, and sugar, while increasing the consumption of foods high in fat such as nuts, cream, and butter. Most dietary fat is made of molecules called long-chain triglycerides (LCTs). However, medium-chain triglycerides (MCTs)—made from fatty acids with shorter carbon chains than LCTs—are more ketogenic. A variant of the classic diet known as the MCT ketogenic diet uses a form of coconut oil, which is rich in MCTs, to provide around half the calories. As less overall fat is needed in this variant of the diet, a greater proportion of carbohydrate and protein can be consumed, allowing a greater variety of food choices.\\nIn 1994, Hollywood producer Jim Abrahams, whose son\\'s severe epilepsy was effectively controlled by the diet, created the Charlie Foundation for Ketogenic Therapies to further promote diet therapy. Publicity included an appearance on NBC\\'s Dateline program and ...First Do No Harm (1997), a made-for-television film starring Meryl Streep. The foundation sponsored a research study, the results of which—announced in 1996—marked the beginning of renewed scientific interest in the diet.\\nPossible therapeutic uses for the ketogenic diet have been studied for many additional neurological disorders, some of which include: Alzheimer\\'s disease, amyotrophic lateral sclerosis, headache, neurotrauma, pain, Parkinson\\'s disease, and sleep disorders.\\n\\n\\n== Epilepsy ==\\nEpilepsy is one of the most common neurological disorders after migraine and stroke, affecting around 50 million people worldwide. It is diagnosed in a person having recurrent, unprovoked seizures. These occur when cortical neurons fire excessively, hypersynchronously, or both, leading to temporary disruption of normal brain function. This might affect, for example, the muscles, the senses, consciousness, or a combination. A seizure can be focal (confined to a specific part of the brain) or generalised (spread widely throughout the brain and leading to a loss of consciousness). Epilepsy can occur for a variety of reasons; some forms have been classified into epileptic syndromes, most of which begin in childhood. Epilepsy is considered refractory (not yielding to treatment\\n</Document>']}, {'analyst': Analyst(name='Carb-Conscious Charlie', tone='Analytical and supportive', theme='Low-Carb Diet', description=\"Carb-Conscious Charlie is here to help you navigate the world of low-carb snacking. With a keen eye for nutritional details, Charlie suggests snacks that keep your carb intake in check while ensuring you enjoy delicious and satisfying options. Whether you're looking for a quick bite or something to munch on during a break, Charlie's got you covered with ideas like almond butter on celery sticks, roasted chickpeas, or a handful of mixed seeds.\"), 'context': ['']}]\n"
     ]
    }
   ],
   "execution_count": 467
  },
  {
   "metadata": {
    "ExecuteTime": {
     "end_time": "2025-04-19T17:44:13.503832Z",
     "start_time": "2025-04-19T06:25:03.008258Z"
    }
   },
   "cell_type": "code",
   "source": [
    "# Testing `generate_answer` node\n",
    "interview_state_example =  {\n",
    "    \"user_profile\": user,\n",
    "    \"meal_type_analysts\": meal_type_analysts,\n",
    "    \"analysts_messages\": analysts_messages_testing,\n",
    "    \"web_documents\": web_searched_documents_example,\n",
    "    \"wiki_documents\": wiki_searched_documents_example,\n",
    "    \"sourced_documents\": combine_documents_example,\n",
    "    \"interview\": \"\",\n",
    "    \"recommended_meals\": {\n",
    "        \"user_profile\": user,\n",
    "        \"recommended_meals\": []\n",
    "    },\n",
    "    \"max_num_turns\": 2\n",
    "}\n",
    "interview_state_example = InterviewState(**interview_state_example)\n",
    "\n",
    "generated_answer_example = generate_answer(interview_state_example)\n",
    "generated_answer_example = generated_answer_example.get(\"analysts_messages\")\n",
    "print(generated_answer_example)"
   ],
   "outputs": [
    {
     "name": "stderr",
     "output_type": "stream",
     "text": [
      "DEBUG:openai._base_client:Request options: {'method': 'post', 'url': '/chat/completions', 'files': None, 'json_data': {'messages': [{'content': 'You are an expert being interviewed by an analyst.\\n\\nHere is analyst area of focus: Energetic.\\n\\nYou goal is to answer a question posed by the interviewer.\\n\\nTo answer question, use this context:\\n\\n[{\\'analyst\\': Analyst(name=\\'Protein Pro\\', tone=\\'Energetic\\', theme=\\'High-Protein Breakfast\\', description=\\'Protein Pro is here to help you kickstart your day with a high-protein breakfast that aligns with your dietary preferences. With a focus on dairy-free and low-carb options, Protein Pro suggests meals like scrambled eggs with spinach and turkey bacon, or a tofu scramble with avocado. This assistant ensures you get the energy you need while maintaining your weight and avoiding peanuts.\\'), \\'context\\': [\\'<Document href=\"https://www.eatingwell.com/gallery/8066388/dairy-free-high-protein-breakfasts/\"/>\\\\nFor a Mediterranean-inspired breakfast, serve up fried or poached eggs on top of sautéed artichokes and toast. If you can\\\\\\'t find frozen, be sure to rinse canned artichoke hearts well—they\\\\\\'re saltier than frozen. Serve with hot sauce on the side, if desired.\\\\n\\\\nPancetta, Tomato & Avocado Grain Bowls [...] You can make these three-ingredient tomato-simmered eggs with things you probably already have on hand in your freezer and pantry. To make these baked eggs more like eggs in purgatory, look for a spicy tomato sauce and don\\\\\\'t forget some whole-wheat bread for dipping.\\\\n\\\\nSpinach & Egg Scramble with Raspberries [...] Having a stash of flavorful bean burritos in your freezer means you\\\\\\'ll always have a satisfying plant-based meal ready for a grab-and-go breakfast on a busy morning or to take to the campsite for an easy campfire meal. Our vegan breakfast filling—made with tofu and prepared to mimic scrambled eggs—is tossed with beans, veggies and salsa for a delicious and ultra-satisfying meal.\\\\n\\\\nBreakfast Salad with Smoked Salmon & Poached Eggs\\\\n</Document>\\\\n\\\\n---\\\\n\\\\n<Document href=\"https://www.purition.com/blogs/articles/low-carb-vegan-breakfast-recipes?srsltid=AfmBOopNBuw8xELxDr2cIiciNNnCGCVGga1fvNMGqoX-XgfkvSrZvaS9\"/>\\\\nHow to make it: Start with a liquid base, choose a protein source, add in some healthy fats and finish with a small serving of low-carb fruit and/or veggies. Make it your own with these low-carb friendly options:\\\\n\\\\nLiquid base\\\\n\\\\nProtein\\\\n\\\\nHealthy fats\\\\n\\\\nFruit & veg\\\\n\\\\n2. Chia pudding\\\\n\\\\nChia seeds are a vegan low-carb breakfast staple. They’re packed with plant-powered protein and dietary fibre and just so happen to be one of the best vegan sources of essential fatty acids. [...] 1. Low-carb vegan breakfast smoothies\\\\n\\\\nWhen you need to be out the door pronto, smoothies make for a great high-protein low-carb breakfast. Pour them straight into a glass to go – or if you fancy something special, use less liquid, pour into a bowl and top with berries, nuts and seeds. The recipe combinations are endless, but to make it low-carb, stay away from high-sugar juices and fruits and focus on the addition of protein and fats. [...] 9. Low-carb vegan fry-up\\\\n\\\\nWith foods like eggs, sausages and hash browns firmly off the low-carb vegan menu, traditional fry-ups might seem impossible to replicate. But here’s a secret—just swap the meat for the tofu ‘bacon’ above, throw in smashed avo, sauteed mushrooms and grilled tomatoes and replace the egg for (optional) tofu scramble. The result? High protein, low-carb vegan breakfast heaven!\\\\n</Document>\\\\n\\\\n---\\\\n\\\\n<Document href=\"https://forums.welltrainedmind.com/topic/642874-low-carb-dairy-free-egg-free-breakfast-ideas/\"/>\\\\nThink \"lunch.\" Tums salad, Chicken nuggets, Steak. Best trick I ever learned for high-protein, no dairy or egg, was how to cook meat at extremely high heat.\\\\n</Document>\\']}, {\\'analyst\\': Analyst(name=\\'Protein Pro\\', tone=\\'Energetic\\', theme=\\'High-Protein Breakfast\\', description=\\'Protein Pro is here to help you kickstart your day with a high-protein breakfast that aligns with your dietary preferences. With a focus on dairy-free and low-carb options, Protein Pro suggests meals like scrambled eggs with spinach and turkey bacon, or a tofu scramble with avocado. This assistant ensures you get the energy you need while maintaining your weight and avoiding peanuts.\\'), \\'context\\': [\\'\\']}]\\n\\nWhen answering questions, follow these guidelines:\\n\\n1. Use only the information provided in the context.\\n\\n2. Do not introduce external information or make assumptions beyond what is explicitly stated in the context.\\n\\n3. The context contain sources at the topic of each individual document.\\n\\n4. Include these sources your answer next to any relevant statements. For example, for source # 1 use [1].\\n\\n5. List your sources in order at the bottom of your answer. [1] Source 1, [2] Source 2, etc\\n\\n6. If the source is: <Document source=\"assistant/docs/llama3_1.pdf\" page=\"7\"/>\\' then just list:\\n\\n[1] assistant/docs/llama3_1.pdf, page 7\\n\\nAnd skip the addition of the brackets as well as the Document source preamble in your citation.', 'role': 'system'}, {'content': \"Hello, I'm Alex, a nutrition enthusiast eager to learn more about high-protein breakfast strategies. I'm particularly interested in dairy-free and low-carb options that can help maintain energy levels and support weight management. Could you share some expert insights on how to effectively incorporate these elements into a morning meal? Specifically, what are some creative ways to prepare a high-protein breakfast that avoids peanuts?\", 'role': 'assistant'}], 'model': 'gpt-4o', 'stream': False, 'temperature': 0.0}}\n",
      "DEBUG:openai._base_client:Sending HTTP Request: POST https://api.openai.com/v1/chat/completions\n",
      "DEBUG:httpcore.connection:connect_tcp.started host='api.openai.com' port=443 local_address=None timeout=None socket_options=None\n",
      "DEBUG:httpcore.connection:connect_tcp.complete return_value=<httpcore._backends.sync.SyncStream object at 0x14cfa3a20>\n",
      "DEBUG:httpcore.connection:start_tls.started ssl_context=<ssl.SSLContext object at 0x1194f2600> server_hostname='api.openai.com' timeout=None\n",
      "DEBUG:httpcore.connection:start_tls.complete return_value=<httpcore._backends.sync.SyncStream object at 0x14cfa3c00>\n",
      "DEBUG:httpcore.http11:send_request_headers.started request=<Request [b'POST']>\n",
      "DEBUG:httpcore.http11:send_request_headers.complete\n",
      "DEBUG:httpcore.http11:send_request_body.started request=<Request [b'POST']>\n",
      "DEBUG:httpcore.http11:send_request_body.complete\n",
      "DEBUG:httpcore.http11:receive_response_headers.started request=<Request [b'POST']>\n",
      "DEBUG:httpcore.http11:receive_response_headers.complete return_value=(b'HTTP/1.1', 200, b'OK', [(b'Date', b'Sat, 19 Apr 2025 06:25:07 GMT'), (b'Content-Type', b'application/json'), (b'Transfer-Encoding', b'chunked'), (b'Connection', b'keep-alive'), (b'access-control-expose-headers', b'X-Request-ID'), (b'openai-organization', b'user-jtnny41eqie6zxkwrgewu2kd'), (b'openai-processing-ms', b'4106'), (b'openai-version', b'2020-10-01'), (b'x-ratelimit-limit-requests', b'500'), (b'x-ratelimit-limit-tokens', b'30000'), (b'x-ratelimit-remaining-requests', b'499'), (b'x-ratelimit-remaining-tokens', b'28650'), (b'x-ratelimit-reset-requests', b'120ms'), (b'x-ratelimit-reset-tokens', b'2.7s'), (b'x-request-id', b'req_1bf6064a7f655865d5dc60433c09bf13'), (b'strict-transport-security', b'max-age=31536000; includeSubDomains; preload'), (b'cf-cache-status', b'DYNAMIC'), (b'Set-Cookie', b'__cf_bm=MCX_gXYPRflBhiM_ARVuPgxI0kixtP1fF6Qd5.zaWuQ-1745043907-1.0.1.1-CNQaoc5Q2mfNa5a0LdvKt6ff.iW7_QcK.xww61Cp00HlamBbbN89KsC.dE..KAKuZIkvoB9vESRpi.wvcoSsBanDV1wvUbT6IMTM.VdDKBk; path=/; expires=Sat, 19-Apr-25 06:55:07 GMT; domain=.api.openai.com; HttpOnly; Secure; SameSite=None'), (b'X-Content-Type-Options', b'nosniff'), (b'Set-Cookie', b'_cfuvid=h9_5_4g8bZuH5q9SXdMGzRhNuPYflfLmcASykF75NgA-1745043907977-0.0.1.1-604800000; path=/; domain=.api.openai.com; HttpOnly; Secure; SameSite=None'), (b'Server', b'cloudflare'), (b'CF-RAY', b'932a528accf5feef-MBA'), (b'Content-Encoding', b'gzip'), (b'alt-svc', b'h3=\":443\"; ma=86400')])\n",
      "INFO:httpx:HTTP Request: POST https://api.openai.com/v1/chat/completions \"HTTP/1.1 200 OK\"\n",
      "DEBUG:httpcore.http11:receive_response_body.started request=<Request [b'POST']>\n",
      "DEBUG:httpcore.http11:receive_response_body.complete\n",
      "DEBUG:httpcore.http11:response_closed.started\n",
      "DEBUG:httpcore.http11:response_closed.complete\n",
      "DEBUG:openai._base_client:HTTP Response: POST https://api.openai.com/v1/chat/completions \"200 OK\" Headers([('date', 'Sat, 19 Apr 2025 06:25:07 GMT'), ('content-type', 'application/json'), ('transfer-encoding', 'chunked'), ('connection', 'keep-alive'), ('access-control-expose-headers', 'X-Request-ID'), ('openai-organization', 'user-jtnny41eqie6zxkwrgewu2kd'), ('openai-processing-ms', '4106'), ('openai-version', '2020-10-01'), ('x-ratelimit-limit-requests', '500'), ('x-ratelimit-limit-tokens', '30000'), ('x-ratelimit-remaining-requests', '499'), ('x-ratelimit-remaining-tokens', '28650'), ('x-ratelimit-reset-requests', '120ms'), ('x-ratelimit-reset-tokens', '2.7s'), ('x-request-id', 'req_1bf6064a7f655865d5dc60433c09bf13'), ('strict-transport-security', 'max-age=31536000; includeSubDomains; preload'), ('cf-cache-status', 'DYNAMIC'), ('set-cookie', '__cf_bm=MCX_gXYPRflBhiM_ARVuPgxI0kixtP1fF6Qd5.zaWuQ-1745043907-1.0.1.1-CNQaoc5Q2mfNa5a0LdvKt6ff.iW7_QcK.xww61Cp00HlamBbbN89KsC.dE..KAKuZIkvoB9vESRpi.wvcoSsBanDV1wvUbT6IMTM.VdDKBk; path=/; expires=Sat, 19-Apr-25 06:55:07 GMT; domain=.api.openai.com; HttpOnly; Secure; SameSite=None'), ('x-content-type-options', 'nosniff'), ('set-cookie', '_cfuvid=h9_5_4g8bZuH5q9SXdMGzRhNuPYflfLmcASykF75NgA-1745043907977-0.0.1.1-604800000; path=/; domain=.api.openai.com; HttpOnly; Secure; SameSite=None'), ('server', 'cloudflare'), ('cf-ray', '932a528accf5feef-MBA'), ('content-encoding', 'gzip'), ('alt-svc', 'h3=\":443\"; ma=86400')])\n",
      "DEBUG:openai._base_client:request_id: req_1bf6064a7f655865d5dc60433c09bf13\n",
      "DEBUG:openai._base_client:Request options: {'method': 'post', 'url': '/chat/completions', 'files': None, 'json_data': {'messages': [{'content': 'You are an expert being interviewed by an analyst.\\n\\nHere is analyst area of focus: Analytical.\\n\\nYou goal is to answer a question posed by the interviewer.\\n\\nTo answer question, use this context:\\n\\n[{\\'analyst\\': Analyst(name=\\'Carb-Conscious Carl\\', tone=\\'Analytical\\', theme=\\'Low-Carb Meal Planning\\', description=\"Carb-Conscious Carl is here to help you navigate the world of low-carb lunches. With a keen eye for nutritional balance, Carl ensures that your meals are both satisfying and aligned with your dietary preferences. He provides suggestions that are dairy-free and low in carbohydrates, helping you maintain your weight while enjoying a variety of delicious lunch options. Carl\\'s analytical approach ensures that every meal is thoughtfully crafted to meet your needs, avoiding any ingredients that don\\'t fit your profile, like peanuts.\"), \\'context\\': [\\'<Document href=\"https://peaceloveandlowcarb.com/low-carb-dairy-free-recipes/\"/>\\\\nLow Carb Dairy Free Lunch Recipes\\\\n\\\\n\\\\n\\\\nDill Chicken Salad | Peace Love and Low Carb\\\\n\\\\nAvocado Tuna Salad | Peace Love and Low Carb\\\\n\\\\nCurried Chicken Salad Stuffed Avocados | Peace Love and Low Carb\\\\n\\\\n\\\\n\\\\nKeto Thai Shrimp Cakes | Peace Love and Low Carb\\\\n\\\\nBLTA Pesto Chicken Salad | Peace Love and Low Carb\\\\n\\\\nChicken Fajita Soup | Peace Love and Low Carb\\\\n\\\\nLow Carb Dairy Free Dinner Recipes\\\\n\\\\n\\\\n\\\\nCoffee Barbecue Pork Belly | Peace Love and Low Carb\\\\n\\\\nHerbed Chicken and Mushrooms | Peace Love and Low Carb [...] From drinks to breakfasts, lunches, dinners, and snacks, here are some of my favorite dairy free keto recipes.\\\\n\\\\nLow Carb Dairy Free Drink Recipes\\\\n\\\\n\\\\n\\\\nGolden Milk Latte | Peace Love and Low Carb\\\\n\\\\nLow Carb Dairy Free Peanut Butter and Jelly PB&J Smoothie\\\\n\\\\nBlack Beauty - Black Pepper Blackberry Drink | Peace Love and Low Carb\\\\n\\\\n\\\\n\\\\nOrange Creamsicle Mimosas | Peace Love and Low Carb\\\\n\\\\nKeto Dairy Free Shamrock Shake | Peace Love and Low Carb [...] Keto Bacon Guacamole Deviled Eggs | Peace Love and Low Carb\\\\n\\\\n\\\\n\\\\nLow Carb, Keto, Gluten Free Weekly Meal Plans\\\\n\\\\nAre you ready to take the guesswork out of that stressful weeknight meal planning?\\\\n\\\\nPeace, Love and Low Carb - Low Carb and Gluten Free Weekly Meal Plans are low carb, gluten free, and keto friendly. All recipes include a color photo and complete nutritional analysis. Comes with a printable grocery list, snack list, tips for meal prepping and suggestions for substitutions.\\\\n</Document>\\\\n\\\\n---\\\\n\\\\n<Document href=\"https://thefitcookie.com/gluten-free-dairy-free-low-carb-and-keto-recipes/\"/>\\\\nWe gathered up over 60 gluten free low-carb recipes and keto dairy-free recipes to help with your your low-carb meal planning.\\\\n</Document>\\\\n\\\\n---\\\\n\\\\n<Document href=\"https://www.dietdoctor.com/low-carb/keto/dairy-free\"/>\\\\nThis week’s meal plan is low carb, dairy-free, egg-free — and will help anyone in search of recipes that are gentle on the digestive system. It includes gut-friendly foods, such as bone broth, squash, ginger, avocado, and high-quality meat and fish. \\\\u2060\\\\n\\\\nHere’s to your health and happiness! Inside and out.\\\\n\\\\nFull meal plan →\\\\n\\\\nKeto: Dairy free #2 (Asian flavors) [...] Here are three days of delicious, dairy-free recipes for breakfast, lunch, and dinner — and you don’t even need to count carbs! Each day features a variety of keto dishes that will automatically keep you below 20 grams of net carbs per day.\\\\n\\\\nNote: If you don’t like certain recipes or don’t have the ingredients on hand, you can always replace them with recipes that fit your preferences.\\\\n\\\\nDay 1\\\\n\\\\nBreakfast\\\\n\\\\nLunch\\\\n\\\\nDinner\\\\n\\\\nDay 2\\\\n\\\\nBreakfast\\\\n\\\\nLunch\\\\n\\\\nDinner\\\\n\\\\nDay 3\\\\n\\\\nBreakfast\\\\n\\\\nLunch\\\\n\\\\nDinner [...] How about some bacon omelet, coconut salmon and flavorful meatballs? Enjoy this and much more while staying below 20 grams of carbs per day with this week’s dairy-free and keto meal plan.\\\\n\\\\nFull meal plan →\\\\n\\\\nHow to create your own dairy-free keto meal\\\\xa0plan\\\\n\\\\nCan you design your own dairy-free keto meal plan that suits your unique preferences and lifestyle? Absolutely!Just aim to keep the net carbs under 20 grams per day.\\\\n</Document>\\']}, {\\'analyst\\': Analyst(name=\\'Carb-Conscious Carl\\', tone=\\'Analytical\\', theme=\\'Low-Carb Nutrition\\', description=\"Carb-Conscious Carl is here to help you maintain your weight while sticking to a low-carb diet. He provides dinner suggestions that are both delicious and aligned with your dietary preferences, ensuring you get the right balance of nutrients without exceeding your carb limits. Whether it\\'s a zesty zucchini noodle dish or a hearty grilled steak with a side of roasted vegetables, Carl\\'s got you covered for a satisfying and nutritious dinner.\"), \\'context\\': [\\'<Document href=\"https://www.eatingwell.com/gallery/7907676/low-carb-dinner-recipes-to-always-make/\"/>\\\\nEnjoy these low-carb dinners that contain no more than 14 grams of carbohydrates per serving. They\\\\\\'re also packed with nutritious vegetables and filling protein to create a satisfying meal. Recipes like our Easy Salmon Cakes with Arugula Salad and Philly Cheesesteak Stuffed Peppers will be regulars on your dinner table.\\\\n\\\\nPhilly Cheesesteak Stuffed Peppers [...] This easy grilled pork loin recipe served with a white bean puree gets a pop of fresh flavor from the lemony, fresh herb vinaigrette. Make it a complete healthy dinner with steamed green beans and a green salad tossed with Italian dressing.\\\\n\\\\nCauliflower Chicken Fried \"Rice\"\\\\n\\\\nGet an extra serving of vegetables and cut back on carbs by replacing rice with riced cauliflower in this healthy chicken fried rice recipe.\\\\n\\\\nLemon-Garlic Chicken with Green Beans [...] Mounding a classic Philly cheesesteak mixture in a colorful bell pepper and melting cheese on top is an easy way to skip the bread and cut the carbs.\\\\n\\\\nEasy Salmon Cakes with Arugula Salad\\\\n\\\\nAfter making the salmon cakes, we firm them up for 5 minutes in the freezer before cooking so they don\\\\\\'t fall apart when they hit the hot oil. You can also make these salmon cakes with canned salmon to make them pantry- and budget-friendly.\\\\n\\\\nGrilled Chicken with Red Pepper-Pecan Romesco Sauce\\\\n</Document>\\\\n\\\\n---\\\\n\\\\n<Document href=\"https://www.eatingwell.com/recipes/18446/mealtimes/dinner/low-carb/\"/>\\\\nFind healthy, delicious low-carb dinner recipes, from the food and nutrition experts at EatingWell. Broccoli Casserole with Sun-Dried Tomato Cream Sauce.\\\\n</Document>\\\\n\\\\n---\\\\n\\\\n<Document href=\"https://www.bbcgoodfood.com/recipes/collection/low-carb-dinner-recipes\"/>\\\\nSit down to a satisfying low-carb supper. From comforting stews and curries to light fish dishes, our recipes are flavourful yet low in carbohydrates.\\\\n</Document>\\']}, {\\'analyst\\': Analyst(name=\\'Carb-Conscious Carl\\', tone=\\'Analytical\\', theme=\\'Low-Carb Meal Planning\\', description=\"Carb-Conscious Carl is here to help you navigate the world of low-carb lunches. With a keen eye for nutritional balance, Carl ensures that your meals are both satisfying and aligned with your dietary preferences. He provides suggestions that are dairy-free and low in carbohydrates, helping you maintain your weight while enjoying a variety of delicious lunch options. Carl\\'s analytical approach ensures that every meal is thoughtfully crafted to meet your needs, avoiding any ingredients that don\\'t fit your profile, like peanuts.\"), \\'context\\': [\\'<Document href=\"https://en.wikipedia.org/wiki/Ketogenic_diet\"/>\\\\nThe ketogenic diet is a high-fat, adequate-protein, low-carbohydrate dietary therapy that in conventional medicine is used mainly to treat hard-to-control (refractory) epilepsy in children. The diet forces the body to burn fats rather than carbohydrates.\\\\nNormally, carbohydrates in food are converted into glucose, which is then transported around the body and is important in fueling brain function. However, if only a little carbohydrate remains in the diet, the liver converts fat into fatty acids and ketone bodies, the latter passing into the brain and replacing glucose as an energy source. An elevated level of ketone bodies in the blood (a state called ketosis) eventually lowers the frequency of epileptic seizures. Around half of children and young people with epilepsy who have tried some form of this diet saw the number of seizures drop by at least half, and the effect persists after discontinuing the diet. Some evidence shows that adults with epilepsy may benefit from the diet and that a less strict regimen, such as a modified Atkins diet, is similarly effective. Side effects may include constipation, high cholesterol, growth slowing, acidosis, and kidney stones.\\\\nThe original therapeutic diet for paediatric epilepsy provides just enough protein for body growth and repair, and sufficient calories to maintain the correct weight for age and height. The classic therapeutic ketogenic diet was developed for treatment of paediatric epilepsy in the 1920s and was widely used into the next decade, but its popularity waned with the introduction of effective anticonvulsant medications. This classic ketogenic diet contains a 4:1 ketogenic ratio or ratio by weight of fat to combined protein and carbohydrate. This is achieved by excluding high-carbohydrate foods such as starchy fruits and vegetables, bread, pasta, grains, and sugar, while increasing the consumption of foods high in fat such as nuts, cream, and butter. Most dietary fat is made of molecules called long-chain triglycerides (LCTs). However, medium-chain triglycerides (MCTs)—made from fatty acids with shorter carbon chains than LCTs—are more ketogenic. A variant of the classic diet known as the MCT ketogenic diet uses a form of coconut oil, which is rich in MCTs, to provide around half the calories. As less overall fat is needed in this variant of the diet, a greater proportion of carbohydrate and protein can be consumed, allowing a greater variety of food choices.\\\\nIn 1994, Hollywood producer Jim Abrahams, whose son\\\\\\'s severe epilepsy was effectively controlled by the diet, created the Charlie Foundation for Ketogenic Therapies to further promote diet therapy. Publicity included an appearance on NBC\\\\\\'s Dateline program and ...First Do No Harm (1997), a made-for-television film starring Meryl Streep. The foundation sponsored a research study, the results of which—announced in 1996—marked the beginning of renewed scientific interest in the diet.\\\\nPossible therapeutic uses for the ketogenic diet have been studied for many additional neurological disorders, some of which include: Alzheimer\\\\\\'s disease, amyotrophic lateral sclerosis, headache, neurotrauma, pain, Parkinson\\\\\\'s disease, and sleep disorders.\\\\n\\\\n\\\\n== Epilepsy ==\\\\nEpilepsy is one of the most common neurological disorders after migraine and stroke, affecting around 50 million people worldwide. It is diagnosed in a person having recurrent, unprovoked seizures. These occur when cortical neurons fire excessively, hypersynchronously, or both, leading to temporary disruption of normal brain function. This might affect, for example, the muscles, the senses, consciousness, or a combination. A seizure can be focal (confined to a specific part of the brain) or generalised (spread widely throughout the brain and leading to a loss of consciousness). Epilepsy can occur for a variety of reasons; some forms have been classified into epileptic syndromes, most of which begin in childhood. Epilepsy is considered refractory (not yielding to treatment\\\\n</Document>\\\\n\\\\n---\\\\n\\\\n<Document href=\"https://en.wikipedia.org/wiki/Burger_King_products\"/>\\\\nWhen the predecessor of international fast food restaurant chain Burger King (BK) first opened in 1953, its menu predominantly consisted of hamburgers, French fries, soft drinks, milkshakes, and desserts. After being acquired by its Miami, Florida franchisees and renamed in 1954, BK began expanding its menu by adding the Whopper sandwich in 1957, and has since added non-beef items such as chicken, fish, and vegetarian offerings, including salads and meatless sandwiches. Other additions include a breakfast menu and beverages such as Icees, juices, and bottled waters. As the company expanded both inside and outside the United States, it introduced localized versions of its products that conform to regional tastes and cultural or religious beliefs. To generate additional sales, BK occasionally introduces limited-time offers of special versions of its products, or brings out completely new products intended for either long- or short-term sales. Not all of these products and services have been successful; in 1992, Burger King introduced limited table service featuring special dinner platters, but this concept failed to generate interest and was discontinued.\\\\nThe company introduced the first iteration of its breakfast menu, along with the company\\\\\\'s \"Specialty Sandwich\" product line, in a 1978 menu expansion. The products were some of the first designed by a fast food restaurant chain that were intended to capture the adult market, members of which would be willing to spend more on a higher-quality product. The expanded Burger King menu was part of a plan by then-company president Donald N. Smith to reach the broadest possible demographic market to better compete with McDonald\\\\\\'s, and to fend off then newcomer Wendy\\\\\\'s, who had a growing market share. The plan was successful: the company\\\\\\'s sales increased by 15 percent. Despite another menu expansion in 1985, the company\\\\\\'s market gains diminished due to neglect of the brand at the hands of then-parent Pillsbury and its successors, Grand Metropolitan and Diageo. When the company was sold to a group led by TPG Capital in 2004, the trend of targeting an expanded audience was renewed under a plan by its then-CEO Brad Blum. During Blum\\\\\\'s tenure, the company added several products that featured higher-quality ingredients and other menu fare that again attempted to appeal to the adult palate and demographic. As in the past, not all of these products met corporate sales expectations, or in the case of several of its larger offerings, resulted in negative publicity due to nutritional concerns. With the purchase of the company in 2010 by 3G Capital, the company again began another revamp of its product line by phasing out some products, introducing new ones and redesigning others including its flagship Whopper. \\\\nLike its menu, the equipment the company cooks its hamburgers with, has also evolved as the company grew. The burgers have always been broiled mechanically; the original unit, called an Insta-Broiler, was one of two pieces of equipment the founders of Insta-Burger King purchased before opening their new restaurant. The Insta-Broiler worked by cooking 12 burger patties in a wire basket, allowing the patties to be cooked from both sides simultaneously. With the acquisition of the chain by its Miami franchisees came an improved unit dubbed a \"Flame Broiler\". Designed by the new owners, it featured stationary burners that cooked the meat on a moving chain. The unit broke down less often, while maintaining a similar cooking rate. The cooking format remained for the next 40 years until Burger King developed a new, variable speed broiler that could handle multiple items with different cooking rates and times. These new units began testing in 1999 and eventually evolved into the two models the company deployed system-wide in 2008–2009. Accompanying these new broilers was new food-holding equipment and a computer-based product monitoring system for its cooked products. The new system allows for m\\\\n</Document>\\']}, {\\'analyst\\': Analyst(name=\\'Carb-Conscious Carl\\', tone=\\'Analytical\\', theme=\\'Low-Carb Nutrition\\', description=\"Carb-Conscious Carl is here to help you maintain your weight while sticking to a low-carb diet. He provides dinner suggestions that are both delicious and aligned with your dietary preferences, ensuring you get the right balance of nutrients without exceeding your carb limits. Whether it\\'s a zesty zucchini noodle dish or a hearty grilled steak with a side of roasted vegetables, Carl\\'s got you covered for a satisfying and nutritious dinner.\"), \\'context\\': [\\'<Document href=\"https://en.wikipedia.org/wiki/TikTok_food_trends\"/>\\\\nTikTok food trends refer to popular recipes and food-related fads on the social media platform TikTok. These trends amassed popularity in 2020 during the COVID-19 pandemic, as many people spent more time cooking at home while engaging with social media for entertainment. \\\\nFood-related content on TikTok is often categorized under the hashtags #TikTokFood and #FoodTok. These hashtags have amassed 4.6 million and 4.5 million posts, respectively, according to the platform. Some TikTok users share personal recipes and dietary habits, while others use step-by-step cooking videos to grow their online presence. \\\\nThe widespread popularity of these trends has influenced various aspects of society, including interest in cooking among younger generations, discussions about body image, the marketing of food products on social media, and  temporary food shortages. \\\\nSeveral TikTok content creators, such as Eitan Bernath, Jeron Combs, and Emily Mariko, have gained recognition  through their recipes and content. Some of the most notable TikTok food trends include the leftover salmon bowl, baked feta cheese pasta, and pesto eggs.\\\\n\\\\n\\\\n== Trends ==\\\\n\\\\n\\\\n=== 2020 ===\\\\n\\\\n\\\\n==== Cloud bread ====\\\\n\\\\nCloud bread is a light, fluffy low-carb bread substitute made from egg whites, corn starch, and sugar. Cloud bread gained popularity on TikTok in July 2020, and user @linqanaaa is credited for bringing it to the platform.\\\\n\\\\n\\\\n==== Dalgona coffee ====\\\\n\\\\nDalgona coffee is a whipped coffee drink made by combining equal parts of instant coffee, sugar, hot water, and then whisking the mixture until it forms a frothy texture. Although dalgona coffee originates from Macau, it gained popularity in South Korea where it was named after dalgona, a type of Korean candy. The trend emerged on TikTok in March 2020 during the COVID-19 quarantine in the United States.\\\\n\\\\n\\\\n==== Decorative focaccia bread ====\\\\nThe decorative focaccia bread trend, under the hashtag #focacciaart, emerged on TikTok in the spring of 2020. Users began decorating their homemade focaccia loaves with designs made from vegetables, herbs, and other edible ingredients.\\\\n\\\\n\\\\n==== Hot chocolate bombs ====\\\\n\\\\nHot chocolate bombs (also known as cocoa bombs) are chocolate spheres filled with hot chocolate mix and confections, such as marshmallows. When placed in hot milk, the chocolate shell melts and releases its contents. \\\\nEric Torres-Garcia (@erictorresg on TikTok) is credited with popularizing cocoa bombs on the platform in December 2020. The trend surged around the 2020 Christmas season, prompting some bakers and store owners to add these confections to their menus. Torres-Garcia claims he posted the first cocoa bombs video on TikTok and has since trademarked the name. Since then, many creators have attempted their own variations of the confection.\\\\n\\\\n\\\\n==== Mini pancake cereal ====\\\\n\\\\nMini pancake cereal consists of miniature pancakes served in a bowl, often drizzled with maple syrup and butter, to resemble traditional breakfast cereal. The trend was first introduced in April 2020 by Sydney Melhoff (@sydneymelhoff on TikTok). Following its popularity,  users developed variations of the dish using different foods, including cookies, donuts, and croissants.\\\\n\\\\n\\\\n=== 2021 ===\\\\n\\\\n\\\\n==== Baked feta cheese pasta ====\\\\n\\\\nBaked feta cheese pasta is made with a few simple ingredients: cherry tomatoes, a block of feta cheese, olive oil, pasta, basil, and garlic. The tomatoes and feta are baked together in the oven until softened, then mashed into a sauce and mixed with cooked pasta.\\\\nThe dish gained popularity due to its simplicity and ease of preparation. In 2019, a Finnish food blogger name Jenni Häyrinen (@liemessa on TikTok) first introduced the recipe in 2019, but it gained popularity on TikTok in February 2021. The trend became so widespread that it led to a temporary shortage of feta cheese in Finnish grocery stores.\\\\n\\\\n\\\\n==== Baked oats ====\\\\nFirst popular in the spring of 2021, baked oats is a breakfast dish similar to traditional oatmeal,\\\\n</Document>\\\\n\\\\n---\\\\n\\\\n<Document href=\"https://en.wikipedia.org/wiki/Ketogenic_diet\"/>\\\\nThe ketogenic diet is a high-fat, adequate-protein, low-carbohydrate dietary therapy that in conventional medicine is used mainly to treat hard-to-control (refractory) epilepsy in children. The diet forces the body to burn fats rather than carbohydrates.\\\\nNormally, carbohydrates in food are converted into glucose, which is then transported around the body and is important in fueling brain function. However, if only a little carbohydrate remains in the diet, the liver converts fat into fatty acids and ketone bodies, the latter passing into the brain and replacing glucose as an energy source. An elevated level of ketone bodies in the blood (a state called ketosis) eventually lowers the frequency of epileptic seizures. Around half of children and young people with epilepsy who have tried some form of this diet saw the number of seizures drop by at least half, and the effect persists after discontinuing the diet. Some evidence shows that adults with epilepsy may benefit from the diet and that a less strict regimen, such as a modified Atkins diet, is similarly effective. Side effects may include constipation, high cholesterol, growth slowing, acidosis, and kidney stones.\\\\nThe original therapeutic diet for paediatric epilepsy provides just enough protein for body growth and repair, and sufficient calories to maintain the correct weight for age and height. The classic therapeutic ketogenic diet was developed for treatment of paediatric epilepsy in the 1920s and was widely used into the next decade, but its popularity waned with the introduction of effective anticonvulsant medications. This classic ketogenic diet contains a 4:1 ketogenic ratio or ratio by weight of fat to combined protein and carbohydrate. This is achieved by excluding high-carbohydrate foods such as starchy fruits and vegetables, bread, pasta, grains, and sugar, while increasing the consumption of foods high in fat such as nuts, cream, and butter. Most dietary fat is made of molecules called long-chain triglycerides (LCTs). However, medium-chain triglycerides (MCTs)—made from fatty acids with shorter carbon chains than LCTs—are more ketogenic. A variant of the classic diet known as the MCT ketogenic diet uses a form of coconut oil, which is rich in MCTs, to provide around half the calories. As less overall fat is needed in this variant of the diet, a greater proportion of carbohydrate and protein can be consumed, allowing a greater variety of food choices.\\\\nIn 1994, Hollywood producer Jim Abrahams, whose son\\\\\\'s severe epilepsy was effectively controlled by the diet, created the Charlie Foundation for Ketogenic Therapies to further promote diet therapy. Publicity included an appearance on NBC\\\\\\'s Dateline program and ...First Do No Harm (1997), a made-for-television film starring Meryl Streep. The foundation sponsored a research study, the results of which—announced in 1996—marked the beginning of renewed scientific interest in the diet.\\\\nPossible therapeutic uses for the ketogenic diet have been studied for many additional neurological disorders, some of which include: Alzheimer\\\\\\'s disease, amyotrophic lateral sclerosis, headache, neurotrauma, pain, Parkinson\\\\\\'s disease, and sleep disorders.\\\\n\\\\n\\\\n== Epilepsy ==\\\\nEpilepsy is one of the most common neurological disorders after migraine and stroke, affecting around 50 million people worldwide. It is diagnosed in a person having recurrent, unprovoked seizures. These occur when cortical neurons fire excessively, hypersynchronously, or both, leading to temporary disruption of normal brain function. This might affect, for example, the muscles, the senses, consciousness, or a combination. A seizure can be focal (confined to a specific part of the brain) or generalised (spread widely throughout the brain and leading to a loss of consciousness). Epilepsy can occur for a variety of reasons; some forms have been classified into epileptic syndromes, most of which begin in childhood. Epilepsy is considered refractory (not yielding to treatment\\\\n</Document>\\']}]\\n\\nWhen answering questions, follow these guidelines:\\n\\n1. Use only the information provided in the context.\\n\\n2. Do not introduce external information or make assumptions beyond what is explicitly stated in the context.\\n\\n3. The context contain sources at the topic of each individual document.\\n\\n4. Include these sources your answer next to any relevant statements. For example, for source # 1 use [1].\\n\\n5. List your sources in order at the bottom of your answer. [1] Source 1, [2] Source 2, etc\\n\\n6. If the source is: <Document source=\"assistant/docs/llama3_1.pdf\" page=\"7\"/>\\' then just list:\\n\\n[1] assistant/docs/llama3_1.pdf, page 7\\n\\nAnd skip the addition of the brackets as well as the Document source preamble in your citation.', 'role': 'system'}, {'content': \"Hello, I'm Nutritionist Nora, and I'm excited to dive into the world of low-carb meal planning with you, Carl. I'm particularly interested in understanding how you craft satisfying and nutritionally balanced low-carb lunches that are also dairy-free. Could you share some specific strategies or examples of meals that fit this profile?\", 'role': 'assistant'}], 'model': 'gpt-4o', 'stream': False, 'temperature': 0.0}}\n",
      "DEBUG:openai._base_client:Sending HTTP Request: POST https://api.openai.com/v1/chat/completions\n",
      "DEBUG:httpcore.http11:send_request_headers.started request=<Request [b'POST']>\n",
      "DEBUG:httpcore.http11:send_request_headers.complete\n",
      "DEBUG:httpcore.http11:send_request_body.started request=<Request [b'POST']>\n",
      "DEBUG:httpcore.http11:send_request_body.complete\n",
      "DEBUG:httpcore.http11:receive_response_headers.started request=<Request [b'POST']>\n",
      "DEBUG:httpcore.http11:receive_response_headers.complete return_value=(b'HTTP/1.1', 200, b'OK', [(b'Date', b'Sat, 19 Apr 2025 06:25:14 GMT'), (b'Content-Type', b'application/json'), (b'Transfer-Encoding', b'chunked'), (b'Connection', b'keep-alive'), (b'access-control-expose-headers', b'X-Request-ID'), (b'openai-organization', b'user-jtnny41eqie6zxkwrgewu2kd'), (b'openai-processing-ms', b'5893'), (b'openai-version', b'2020-10-01'), (b'x-ratelimit-limit-requests', b'500'), (b'x-ratelimit-limit-tokens', b'30000'), (b'x-ratelimit-remaining-requests', b'499'), (b'x-ratelimit-remaining-tokens', b'23613'), (b'x-ratelimit-reset-requests', b'120ms'), (b'x-ratelimit-reset-tokens', b'12.772s'), (b'x-request-id', b'req_4519f95c241d1be4cc51903525074b47'), (b'strict-transport-security', b'max-age=31536000; includeSubDomains; preload'), (b'cf-cache-status', b'DYNAMIC'), (b'X-Content-Type-Options', b'nosniff'), (b'Server', b'cloudflare'), (b'CF-RAY', b'932a52a99b1dfeef-MBA'), (b'Content-Encoding', b'gzip'), (b'alt-svc', b'h3=\":443\"; ma=86400')])\n",
      "INFO:httpx:HTTP Request: POST https://api.openai.com/v1/chat/completions \"HTTP/1.1 200 OK\"\n",
      "DEBUG:httpcore.http11:receive_response_body.started request=<Request [b'POST']>\n",
      "DEBUG:httpcore.http11:receive_response_body.complete\n",
      "DEBUG:httpcore.http11:response_closed.started\n",
      "DEBUG:httpcore.http11:response_closed.complete\n",
      "DEBUG:openai._base_client:HTTP Response: POST https://api.openai.com/v1/chat/completions \"200 OK\" Headers({'date': 'Sat, 19 Apr 2025 06:25:14 GMT', 'content-type': 'application/json', 'transfer-encoding': 'chunked', 'connection': 'keep-alive', 'access-control-expose-headers': 'X-Request-ID', 'openai-organization': 'user-jtnny41eqie6zxkwrgewu2kd', 'openai-processing-ms': '5893', 'openai-version': '2020-10-01', 'x-ratelimit-limit-requests': '500', 'x-ratelimit-limit-tokens': '30000', 'x-ratelimit-remaining-requests': '499', 'x-ratelimit-remaining-tokens': '23613', 'x-ratelimit-reset-requests': '120ms', 'x-ratelimit-reset-tokens': '12.772s', 'x-request-id': 'req_4519f95c241d1be4cc51903525074b47', 'strict-transport-security': 'max-age=31536000; includeSubDomains; preload', 'cf-cache-status': 'DYNAMIC', 'x-content-type-options': 'nosniff', 'server': 'cloudflare', 'cf-ray': '932a52a99b1dfeef-MBA', 'content-encoding': 'gzip', 'alt-svc': 'h3=\":443\"; ma=86400'})\n",
      "DEBUG:openai._base_client:request_id: req_4519f95c241d1be4cc51903525074b47\n",
      "DEBUG:openai._base_client:Request options: {'method': 'post', 'url': '/chat/completions', 'files': None, 'json_data': {'messages': [{'content': 'You are an expert being interviewed by an analyst.\\n\\nHere is analyst area of focus: Analytical.\\n\\nYou goal is to answer a question posed by the interviewer.\\n\\nTo answer question, use this context:\\n\\n[{\\'analyst\\': Analyst(name=\\'Carb-Conscious Carl\\', tone=\\'Analytical\\', theme=\\'Low-Carb Meal Planning\\', description=\"Carb-Conscious Carl is here to help you navigate the world of low-carb lunches. With a keen eye for nutritional balance, Carl ensures that your meals are both satisfying and aligned with your dietary preferences. He provides suggestions that are dairy-free and low in carbohydrates, helping you maintain your weight while enjoying a variety of delicious lunch options. Carl\\'s analytical approach ensures that every meal is thoughtfully crafted to meet your needs, avoiding any ingredients that don\\'t fit your profile, like peanuts.\"), \\'context\\': [\\'<Document href=\"https://peaceloveandlowcarb.com/low-carb-dairy-free-recipes/\"/>\\\\nLow Carb Dairy Free Lunch Recipes\\\\n\\\\n\\\\n\\\\nDill Chicken Salad | Peace Love and Low Carb\\\\n\\\\nAvocado Tuna Salad | Peace Love and Low Carb\\\\n\\\\nCurried Chicken Salad Stuffed Avocados | Peace Love and Low Carb\\\\n\\\\n\\\\n\\\\nKeto Thai Shrimp Cakes | Peace Love and Low Carb\\\\n\\\\nBLTA Pesto Chicken Salad | Peace Love and Low Carb\\\\n\\\\nChicken Fajita Soup | Peace Love and Low Carb\\\\n\\\\nLow Carb Dairy Free Dinner Recipes\\\\n\\\\n\\\\n\\\\nCoffee Barbecue Pork Belly | Peace Love and Low Carb\\\\n\\\\nHerbed Chicken and Mushrooms | Peace Love and Low Carb [...] From drinks to breakfasts, lunches, dinners, and snacks, here are some of my favorite dairy free keto recipes.\\\\n\\\\nLow Carb Dairy Free Drink Recipes\\\\n\\\\n\\\\n\\\\nGolden Milk Latte | Peace Love and Low Carb\\\\n\\\\nLow Carb Dairy Free Peanut Butter and Jelly PB&J Smoothie\\\\n\\\\nBlack Beauty - Black Pepper Blackberry Drink | Peace Love and Low Carb\\\\n\\\\n\\\\n\\\\nOrange Creamsicle Mimosas | Peace Love and Low Carb\\\\n\\\\nKeto Dairy Free Shamrock Shake | Peace Love and Low Carb [...] Keto Bacon Guacamole Deviled Eggs | Peace Love and Low Carb\\\\n\\\\n\\\\n\\\\nLow Carb, Keto, Gluten Free Weekly Meal Plans\\\\n\\\\nAre you ready to take the guesswork out of that stressful weeknight meal planning?\\\\n\\\\nPeace, Love and Low Carb - Low Carb and Gluten Free Weekly Meal Plans are low carb, gluten free, and keto friendly. All recipes include a color photo and complete nutritional analysis. Comes with a printable grocery list, snack list, tips for meal prepping and suggestions for substitutions.\\\\n</Document>\\\\n\\\\n---\\\\n\\\\n<Document href=\"https://thefitcookie.com/gluten-free-dairy-free-low-carb-and-keto-recipes/\"/>\\\\nWe gathered up over 60 gluten free low-carb recipes and keto dairy-free recipes to help with your your low-carb meal planning.\\\\n</Document>\\\\n\\\\n---\\\\n\\\\n<Document href=\"https://www.dietdoctor.com/low-carb/keto/dairy-free\"/>\\\\nThis week’s meal plan is low carb, dairy-free, egg-free — and will help anyone in search of recipes that are gentle on the digestive system. It includes gut-friendly foods, such as bone broth, squash, ginger, avocado, and high-quality meat and fish. \\\\u2060\\\\n\\\\nHere’s to your health and happiness! Inside and out.\\\\n\\\\nFull meal plan →\\\\n\\\\nKeto: Dairy free #2 (Asian flavors) [...] Here are three days of delicious, dairy-free recipes for breakfast, lunch, and dinner — and you don’t even need to count carbs! Each day features a variety of keto dishes that will automatically keep you below 20 grams of net carbs per day.\\\\n\\\\nNote: If you don’t like certain recipes or don’t have the ingredients on hand, you can always replace them with recipes that fit your preferences.\\\\n\\\\nDay 1\\\\n\\\\nBreakfast\\\\n\\\\nLunch\\\\n\\\\nDinner\\\\n\\\\nDay 2\\\\n\\\\nBreakfast\\\\n\\\\nLunch\\\\n\\\\nDinner\\\\n\\\\nDay 3\\\\n\\\\nBreakfast\\\\n\\\\nLunch\\\\n\\\\nDinner [...] How about some bacon omelet, coconut salmon and flavorful meatballs? Enjoy this and much more while staying below 20 grams of carbs per day with this week’s dairy-free and keto meal plan.\\\\n\\\\nFull meal plan →\\\\n\\\\nHow to create your own dairy-free keto meal\\\\xa0plan\\\\n\\\\nCan you design your own dairy-free keto meal plan that suits your unique preferences and lifestyle? Absolutely!Just aim to keep the net carbs under 20 grams per day.\\\\n</Document>\\']}, {\\'analyst\\': Analyst(name=\\'Carb-Conscious Carl\\', tone=\\'Analytical\\', theme=\\'Low-Carb Nutrition\\', description=\"Carb-Conscious Carl is here to help you maintain your weight while sticking to a low-carb diet. He provides dinner suggestions that are both delicious and aligned with your dietary preferences, ensuring you get the right balance of nutrients without exceeding your carb limits. Whether it\\'s a zesty zucchini noodle dish or a hearty grilled steak with a side of roasted vegetables, Carl\\'s got you covered for a satisfying and nutritious dinner.\"), \\'context\\': [\\'<Document href=\"https://www.eatingwell.com/gallery/7907676/low-carb-dinner-recipes-to-always-make/\"/>\\\\nEnjoy these low-carb dinners that contain no more than 14 grams of carbohydrates per serving. They\\\\\\'re also packed with nutritious vegetables and filling protein to create a satisfying meal. Recipes like our Easy Salmon Cakes with Arugula Salad and Philly Cheesesteak Stuffed Peppers will be regulars on your dinner table.\\\\n\\\\nPhilly Cheesesteak Stuffed Peppers [...] This easy grilled pork loin recipe served with a white bean puree gets a pop of fresh flavor from the lemony, fresh herb vinaigrette. Make it a complete healthy dinner with steamed green beans and a green salad tossed with Italian dressing.\\\\n\\\\nCauliflower Chicken Fried \"Rice\"\\\\n\\\\nGet an extra serving of vegetables and cut back on carbs by replacing rice with riced cauliflower in this healthy chicken fried rice recipe.\\\\n\\\\nLemon-Garlic Chicken with Green Beans [...] Mounding a classic Philly cheesesteak mixture in a colorful bell pepper and melting cheese on top is an easy way to skip the bread and cut the carbs.\\\\n\\\\nEasy Salmon Cakes with Arugula Salad\\\\n\\\\nAfter making the salmon cakes, we firm them up for 5 minutes in the freezer before cooking so they don\\\\\\'t fall apart when they hit the hot oil. You can also make these salmon cakes with canned salmon to make them pantry- and budget-friendly.\\\\n\\\\nGrilled Chicken with Red Pepper-Pecan Romesco Sauce\\\\n</Document>\\\\n\\\\n---\\\\n\\\\n<Document href=\"https://www.eatingwell.com/recipes/18446/mealtimes/dinner/low-carb/\"/>\\\\nFind healthy, delicious low-carb dinner recipes, from the food and nutrition experts at EatingWell. Broccoli Casserole with Sun-Dried Tomato Cream Sauce.\\\\n</Document>\\\\n\\\\n---\\\\n\\\\n<Document href=\"https://www.bbcgoodfood.com/recipes/collection/low-carb-dinner-recipes\"/>\\\\nSit down to a satisfying low-carb supper. From comforting stews and curries to light fish dishes, our recipes are flavourful yet low in carbohydrates.\\\\n</Document>\\']}, {\\'analyst\\': Analyst(name=\\'Carb-Conscious Carl\\', tone=\\'Analytical\\', theme=\\'Low-Carb Meal Planning\\', description=\"Carb-Conscious Carl is here to help you navigate the world of low-carb lunches. With a keen eye for nutritional balance, Carl ensures that your meals are both satisfying and aligned with your dietary preferences. He provides suggestions that are dairy-free and low in carbohydrates, helping you maintain your weight while enjoying a variety of delicious lunch options. Carl\\'s analytical approach ensures that every meal is thoughtfully crafted to meet your needs, avoiding any ingredients that don\\'t fit your profile, like peanuts.\"), \\'context\\': [\\'<Document href=\"https://en.wikipedia.org/wiki/Ketogenic_diet\"/>\\\\nThe ketogenic diet is a high-fat, adequate-protein, low-carbohydrate dietary therapy that in conventional medicine is used mainly to treat hard-to-control (refractory) epilepsy in children. The diet forces the body to burn fats rather than carbohydrates.\\\\nNormally, carbohydrates in food are converted into glucose, which is then transported around the body and is important in fueling brain function. However, if only a little carbohydrate remains in the diet, the liver converts fat into fatty acids and ketone bodies, the latter passing into the brain and replacing glucose as an energy source. An elevated level of ketone bodies in the blood (a state called ketosis) eventually lowers the frequency of epileptic seizures. Around half of children and young people with epilepsy who have tried some form of this diet saw the number of seizures drop by at least half, and the effect persists after discontinuing the diet. Some evidence shows that adults with epilepsy may benefit from the diet and that a less strict regimen, such as a modified Atkins diet, is similarly effective. Side effects may include constipation, high cholesterol, growth slowing, acidosis, and kidney stones.\\\\nThe original therapeutic diet for paediatric epilepsy provides just enough protein for body growth and repair, and sufficient calories to maintain the correct weight for age and height. The classic therapeutic ketogenic diet was developed for treatment of paediatric epilepsy in the 1920s and was widely used into the next decade, but its popularity waned with the introduction of effective anticonvulsant medications. This classic ketogenic diet contains a 4:1 ketogenic ratio or ratio by weight of fat to combined protein and carbohydrate. This is achieved by excluding high-carbohydrate foods such as starchy fruits and vegetables, bread, pasta, grains, and sugar, while increasing the consumption of foods high in fat such as nuts, cream, and butter. Most dietary fat is made of molecules called long-chain triglycerides (LCTs). However, medium-chain triglycerides (MCTs)—made from fatty acids with shorter carbon chains than LCTs—are more ketogenic. A variant of the classic diet known as the MCT ketogenic diet uses a form of coconut oil, which is rich in MCTs, to provide around half the calories. As less overall fat is needed in this variant of the diet, a greater proportion of carbohydrate and protein can be consumed, allowing a greater variety of food choices.\\\\nIn 1994, Hollywood producer Jim Abrahams, whose son\\\\\\'s severe epilepsy was effectively controlled by the diet, created the Charlie Foundation for Ketogenic Therapies to further promote diet therapy. Publicity included an appearance on NBC\\\\\\'s Dateline program and ...First Do No Harm (1997), a made-for-television film starring Meryl Streep. The foundation sponsored a research study, the results of which—announced in 1996—marked the beginning of renewed scientific interest in the diet.\\\\nPossible therapeutic uses for the ketogenic diet have been studied for many additional neurological disorders, some of which include: Alzheimer\\\\\\'s disease, amyotrophic lateral sclerosis, headache, neurotrauma, pain, Parkinson\\\\\\'s disease, and sleep disorders.\\\\n\\\\n\\\\n== Epilepsy ==\\\\nEpilepsy is one of the most common neurological disorders after migraine and stroke, affecting around 50 million people worldwide. It is diagnosed in a person having recurrent, unprovoked seizures. These occur when cortical neurons fire excessively, hypersynchronously, or both, leading to temporary disruption of normal brain function. This might affect, for example, the muscles, the senses, consciousness, or a combination. A seizure can be focal (confined to a specific part of the brain) or generalised (spread widely throughout the brain and leading to a loss of consciousness). Epilepsy can occur for a variety of reasons; some forms have been classified into epileptic syndromes, most of which begin in childhood. Epilepsy is considered refractory (not yielding to treatment\\\\n</Document>\\\\n\\\\n---\\\\n\\\\n<Document href=\"https://en.wikipedia.org/wiki/Burger_King_products\"/>\\\\nWhen the predecessor of international fast food restaurant chain Burger King (BK) first opened in 1953, its menu predominantly consisted of hamburgers, French fries, soft drinks, milkshakes, and desserts. After being acquired by its Miami, Florida franchisees and renamed in 1954, BK began expanding its menu by adding the Whopper sandwich in 1957, and has since added non-beef items such as chicken, fish, and vegetarian offerings, including salads and meatless sandwiches. Other additions include a breakfast menu and beverages such as Icees, juices, and bottled waters. As the company expanded both inside and outside the United States, it introduced localized versions of its products that conform to regional tastes and cultural or religious beliefs. To generate additional sales, BK occasionally introduces limited-time offers of special versions of its products, or brings out completely new products intended for either long- or short-term sales. Not all of these products and services have been successful; in 1992, Burger King introduced limited table service featuring special dinner platters, but this concept failed to generate interest and was discontinued.\\\\nThe company introduced the first iteration of its breakfast menu, along with the company\\\\\\'s \"Specialty Sandwich\" product line, in a 1978 menu expansion. The products were some of the first designed by a fast food restaurant chain that were intended to capture the adult market, members of which would be willing to spend more on a higher-quality product. The expanded Burger King menu was part of a plan by then-company president Donald N. Smith to reach the broadest possible demographic market to better compete with McDonald\\\\\\'s, and to fend off then newcomer Wendy\\\\\\'s, who had a growing market share. The plan was successful: the company\\\\\\'s sales increased by 15 percent. Despite another menu expansion in 1985, the company\\\\\\'s market gains diminished due to neglect of the brand at the hands of then-parent Pillsbury and its successors, Grand Metropolitan and Diageo. When the company was sold to a group led by TPG Capital in 2004, the trend of targeting an expanded audience was renewed under a plan by its then-CEO Brad Blum. During Blum\\\\\\'s tenure, the company added several products that featured higher-quality ingredients and other menu fare that again attempted to appeal to the adult palate and demographic. As in the past, not all of these products met corporate sales expectations, or in the case of several of its larger offerings, resulted in negative publicity due to nutritional concerns. With the purchase of the company in 2010 by 3G Capital, the company again began another revamp of its product line by phasing out some products, introducing new ones and redesigning others including its flagship Whopper. \\\\nLike its menu, the equipment the company cooks its hamburgers with, has also evolved as the company grew. The burgers have always been broiled mechanically; the original unit, called an Insta-Broiler, was one of two pieces of equipment the founders of Insta-Burger King purchased before opening their new restaurant. The Insta-Broiler worked by cooking 12 burger patties in a wire basket, allowing the patties to be cooked from both sides simultaneously. With the acquisition of the chain by its Miami franchisees came an improved unit dubbed a \"Flame Broiler\". Designed by the new owners, it featured stationary burners that cooked the meat on a moving chain. The unit broke down less often, while maintaining a similar cooking rate. The cooking format remained for the next 40 years until Burger King developed a new, variable speed broiler that could handle multiple items with different cooking rates and times. These new units began testing in 1999 and eventually evolved into the two models the company deployed system-wide in 2008–2009. Accompanying these new broilers was new food-holding equipment and a computer-based product monitoring system for its cooked products. The new system allows for m\\\\n</Document>\\']}, {\\'analyst\\': Analyst(name=\\'Carb-Conscious Carl\\', tone=\\'Analytical\\', theme=\\'Low-Carb Nutrition\\', description=\"Carb-Conscious Carl is here to help you maintain your weight while sticking to a low-carb diet. He provides dinner suggestions that are both delicious and aligned with your dietary preferences, ensuring you get the right balance of nutrients without exceeding your carb limits. Whether it\\'s a zesty zucchini noodle dish or a hearty grilled steak with a side of roasted vegetables, Carl\\'s got you covered for a satisfying and nutritious dinner.\"), \\'context\\': [\\'<Document href=\"https://en.wikipedia.org/wiki/TikTok_food_trends\"/>\\\\nTikTok food trends refer to popular recipes and food-related fads on the social media platform TikTok. These trends amassed popularity in 2020 during the COVID-19 pandemic, as many people spent more time cooking at home while engaging with social media for entertainment. \\\\nFood-related content on TikTok is often categorized under the hashtags #TikTokFood and #FoodTok. These hashtags have amassed 4.6 million and 4.5 million posts, respectively, according to the platform. Some TikTok users share personal recipes and dietary habits, while others use step-by-step cooking videos to grow their online presence. \\\\nThe widespread popularity of these trends has influenced various aspects of society, including interest in cooking among younger generations, discussions about body image, the marketing of food products on social media, and  temporary food shortages. \\\\nSeveral TikTok content creators, such as Eitan Bernath, Jeron Combs, and Emily Mariko, have gained recognition  through their recipes and content. Some of the most notable TikTok food trends include the leftover salmon bowl, baked feta cheese pasta, and pesto eggs.\\\\n\\\\n\\\\n== Trends ==\\\\n\\\\n\\\\n=== 2020 ===\\\\n\\\\n\\\\n==== Cloud bread ====\\\\n\\\\nCloud bread is a light, fluffy low-carb bread substitute made from egg whites, corn starch, and sugar. Cloud bread gained popularity on TikTok in July 2020, and user @linqanaaa is credited for bringing it to the platform.\\\\n\\\\n\\\\n==== Dalgona coffee ====\\\\n\\\\nDalgona coffee is a whipped coffee drink made by combining equal parts of instant coffee, sugar, hot water, and then whisking the mixture until it forms a frothy texture. Although dalgona coffee originates from Macau, it gained popularity in South Korea where it was named after dalgona, a type of Korean candy. The trend emerged on TikTok in March 2020 during the COVID-19 quarantine in the United States.\\\\n\\\\n\\\\n==== Decorative focaccia bread ====\\\\nThe decorative focaccia bread trend, under the hashtag #focacciaart, emerged on TikTok in the spring of 2020. Users began decorating their homemade focaccia loaves with designs made from vegetables, herbs, and other edible ingredients.\\\\n\\\\n\\\\n==== Hot chocolate bombs ====\\\\n\\\\nHot chocolate bombs (also known as cocoa bombs) are chocolate spheres filled with hot chocolate mix and confections, such as marshmallows. When placed in hot milk, the chocolate shell melts and releases its contents. \\\\nEric Torres-Garcia (@erictorresg on TikTok) is credited with popularizing cocoa bombs on the platform in December 2020. The trend surged around the 2020 Christmas season, prompting some bakers and store owners to add these confections to their menus. Torres-Garcia claims he posted the first cocoa bombs video on TikTok and has since trademarked the name. Since then, many creators have attempted their own variations of the confection.\\\\n\\\\n\\\\n==== Mini pancake cereal ====\\\\n\\\\nMini pancake cereal consists of miniature pancakes served in a bowl, often drizzled with maple syrup and butter, to resemble traditional breakfast cereal. The trend was first introduced in April 2020 by Sydney Melhoff (@sydneymelhoff on TikTok). Following its popularity,  users developed variations of the dish using different foods, including cookies, donuts, and croissants.\\\\n\\\\n\\\\n=== 2021 ===\\\\n\\\\n\\\\n==== Baked feta cheese pasta ====\\\\n\\\\nBaked feta cheese pasta is made with a few simple ingredients: cherry tomatoes, a block of feta cheese, olive oil, pasta, basil, and garlic. The tomatoes and feta are baked together in the oven until softened, then mashed into a sauce and mixed with cooked pasta.\\\\nThe dish gained popularity due to its simplicity and ease of preparation. In 2019, a Finnish food blogger name Jenni Häyrinen (@liemessa on TikTok) first introduced the recipe in 2019, but it gained popularity on TikTok in February 2021. The trend became so widespread that it led to a temporary shortage of feta cheese in Finnish grocery stores.\\\\n\\\\n\\\\n==== Baked oats ====\\\\nFirst popular in the spring of 2021, baked oats is a breakfast dish similar to traditional oatmeal,\\\\n</Document>\\\\n\\\\n---\\\\n\\\\n<Document href=\"https://en.wikipedia.org/wiki/Ketogenic_diet\"/>\\\\nThe ketogenic diet is a high-fat, adequate-protein, low-carbohydrate dietary therapy that in conventional medicine is used mainly to treat hard-to-control (refractory) epilepsy in children. The diet forces the body to burn fats rather than carbohydrates.\\\\nNormally, carbohydrates in food are converted into glucose, which is then transported around the body and is important in fueling brain function. However, if only a little carbohydrate remains in the diet, the liver converts fat into fatty acids and ketone bodies, the latter passing into the brain and replacing glucose as an energy source. An elevated level of ketone bodies in the blood (a state called ketosis) eventually lowers the frequency of epileptic seizures. Around half of children and young people with epilepsy who have tried some form of this diet saw the number of seizures drop by at least half, and the effect persists after discontinuing the diet. Some evidence shows that adults with epilepsy may benefit from the diet and that a less strict regimen, such as a modified Atkins diet, is similarly effective. Side effects may include constipation, high cholesterol, growth slowing, acidosis, and kidney stones.\\\\nThe original therapeutic diet for paediatric epilepsy provides just enough protein for body growth and repair, and sufficient calories to maintain the correct weight for age and height. The classic therapeutic ketogenic diet was developed for treatment of paediatric epilepsy in the 1920s and was widely used into the next decade, but its popularity waned with the introduction of effective anticonvulsant medications. This classic ketogenic diet contains a 4:1 ketogenic ratio or ratio by weight of fat to combined protein and carbohydrate. This is achieved by excluding high-carbohydrate foods such as starchy fruits and vegetables, bread, pasta, grains, and sugar, while increasing the consumption of foods high in fat such as nuts, cream, and butter. Most dietary fat is made of molecules called long-chain triglycerides (LCTs). However, medium-chain triglycerides (MCTs)—made from fatty acids with shorter carbon chains than LCTs—are more ketogenic. A variant of the classic diet known as the MCT ketogenic diet uses a form of coconut oil, which is rich in MCTs, to provide around half the calories. As less overall fat is needed in this variant of the diet, a greater proportion of carbohydrate and protein can be consumed, allowing a greater variety of food choices.\\\\nIn 1994, Hollywood producer Jim Abrahams, whose son\\\\\\'s severe epilepsy was effectively controlled by the diet, created the Charlie Foundation for Ketogenic Therapies to further promote diet therapy. Publicity included an appearance on NBC\\\\\\'s Dateline program and ...First Do No Harm (1997), a made-for-television film starring Meryl Streep. The foundation sponsored a research study, the results of which—announced in 1996—marked the beginning of renewed scientific interest in the diet.\\\\nPossible therapeutic uses for the ketogenic diet have been studied for many additional neurological disorders, some of which include: Alzheimer\\\\\\'s disease, amyotrophic lateral sclerosis, headache, neurotrauma, pain, Parkinson\\\\\\'s disease, and sleep disorders.\\\\n\\\\n\\\\n== Epilepsy ==\\\\nEpilepsy is one of the most common neurological disorders after migraine and stroke, affecting around 50 million people worldwide. It is diagnosed in a person having recurrent, unprovoked seizures. These occur when cortical neurons fire excessively, hypersynchronously, or both, leading to temporary disruption of normal brain function. This might affect, for example, the muscles, the senses, consciousness, or a combination. A seizure can be focal (confined to a specific part of the brain) or generalised (spread widely throughout the brain and leading to a loss of consciousness). Epilepsy can occur for a variety of reasons; some forms have been classified into epileptic syndromes, most of which begin in childhood. Epilepsy is considered refractory (not yielding to treatment\\\\n</Document>\\']}]\\n\\nWhen answering questions, follow these guidelines:\\n\\n1. Use only the information provided in the context.\\n\\n2. Do not introduce external information or make assumptions beyond what is explicitly stated in the context.\\n\\n3. The context contain sources at the topic of each individual document.\\n\\n4. Include these sources your answer next to any relevant statements. For example, for source # 1 use [1].\\n\\n5. List your sources in order at the bottom of your answer. [1] Source 1, [2] Source 2, etc\\n\\n6. If the source is: <Document source=\"assistant/docs/llama3_1.pdf\" page=\"7\"/>\\' then just list:\\n\\n[1] assistant/docs/llama3_1.pdf, page 7\\n\\nAnd skip the addition of the brackets as well as the Document source preamble in your citation.', 'role': 'system'}, {'content': \"Hello, I'm Nutritionist Nancy, and I'm eager to learn more about low-carb nutrition strategies from you, Carb-Conscious Carl. To start, could you share a specific dinner suggestion that is both delicious and low in carbs, and explain why it works well for maintaining weight?\", 'role': 'assistant'}], 'model': 'gpt-4o', 'stream': False, 'temperature': 0.0}}\n",
      "DEBUG:openai._base_client:Sending HTTP Request: POST https://api.openai.com/v1/chat/completions\n",
      "DEBUG:httpcore.http11:send_request_headers.started request=<Request [b'POST']>\n",
      "DEBUG:httpcore.http11:send_request_headers.complete\n",
      "DEBUG:httpcore.http11:send_request_body.started request=<Request [b'POST']>\n",
      "DEBUG:httpcore.http11:send_request_body.complete\n",
      "DEBUG:httpcore.http11:receive_response_headers.started request=<Request [b'POST']>\n",
      "DEBUG:httpcore.http11:receive_response_headers.complete return_value=(b'HTTP/1.1', 200, b'OK', [(b'Date', b'Sat, 19 Apr 2025 06:25:17 GMT'), (b'Content-Type', b'application/json'), (b'Transfer-Encoding', b'chunked'), (b'Connection', b'keep-alive'), (b'access-control-expose-headers', b'X-Request-ID'), (b'openai-organization', b'user-jtnny41eqie6zxkwrgewu2kd'), (b'openai-processing-ms', b'2292'), (b'openai-version', b'2020-10-01'), (b'x-ratelimit-limit-requests', b'500'), (b'x-ratelimit-limit-tokens', b'30000'), (b'x-ratelimit-remaining-requests', b'499'), (b'x-ratelimit-remaining-tokens', b'21012'), (b'x-ratelimit-reset-requests', b'120ms'), (b'x-ratelimit-reset-tokens', b'17.975s'), (b'x-request-id', b'req_beee09002fd10a1c1c418ecb7fd213b0'), (b'strict-transport-security', b'max-age=31536000; includeSubDomains; preload'), (b'cf-cache-status', b'DYNAMIC'), (b'X-Content-Type-Options', b'nosniff'), (b'Server', b'cloudflare'), (b'CF-RAY', b'932a52d1cf1afeef-MBA'), (b'Content-Encoding', b'gzip'), (b'alt-svc', b'h3=\":443\"; ma=86400')])\n",
      "INFO:httpx:HTTP Request: POST https://api.openai.com/v1/chat/completions \"HTTP/1.1 200 OK\"\n",
      "DEBUG:httpcore.http11:receive_response_body.started request=<Request [b'POST']>\n",
      "DEBUG:httpcore.http11:receive_response_body.complete\n",
      "DEBUG:httpcore.http11:response_closed.started\n",
      "DEBUG:httpcore.http11:response_closed.complete\n",
      "DEBUG:openai._base_client:HTTP Response: POST https://api.openai.com/v1/chat/completions \"200 OK\" Headers({'date': 'Sat, 19 Apr 2025 06:25:17 GMT', 'content-type': 'application/json', 'transfer-encoding': 'chunked', 'connection': 'keep-alive', 'access-control-expose-headers': 'X-Request-ID', 'openai-organization': 'user-jtnny41eqie6zxkwrgewu2kd', 'openai-processing-ms': '2292', 'openai-version': '2020-10-01', 'x-ratelimit-limit-requests': '500', 'x-ratelimit-limit-tokens': '30000', 'x-ratelimit-remaining-requests': '499', 'x-ratelimit-remaining-tokens': '21012', 'x-ratelimit-reset-requests': '120ms', 'x-ratelimit-reset-tokens': '17.975s', 'x-request-id': 'req_beee09002fd10a1c1c418ecb7fd213b0', 'strict-transport-security': 'max-age=31536000; includeSubDomains; preload', 'cf-cache-status': 'DYNAMIC', 'x-content-type-options': 'nosniff', 'server': 'cloudflare', 'cf-ray': '932a52d1cf1afeef-MBA', 'content-encoding': 'gzip', 'alt-svc': 'h3=\":443\"; ma=86400'})\n",
      "DEBUG:openai._base_client:request_id: req_beee09002fd10a1c1c418ecb7fd213b0\n",
      "DEBUG:openai._base_client:Request options: {'method': 'post', 'url': '/chat/completions', 'files': None, 'json_data': {'messages': [{'content': 'You are an expert being interviewed by an analyst.\\n\\nHere is analyst area of focus: Analytical and supportive.\\n\\nYou goal is to answer a question posed by the interviewer.\\n\\nTo answer question, use this context:\\n\\n[{\\'analyst\\': Analyst(name=\\'Carb-Conscious Charlie\\', tone=\\'Analytical and supportive\\', theme=\\'Low-Carb Diet\\', description=\"Carb-Conscious Charlie is here to help you navigate the world of low-carb snacking. With a keen eye for nutritional details, Charlie suggests snacks that keep your carb intake in check while ensuring you enjoy delicious and satisfying options. Whether you\\'re looking for a quick bite or something to munch on during a break, Charlie\\'s got you covered with ideas like almond butter on celery sticks, roasted chickpeas, or a handful of mixed seeds.\"), \\'context\\': [\\'<Document href=\"https://www.tasteofhome.com/collection/low-carb-snacks-your-family-will-love/?srsltid=AfmBOoruyl5P3CKgomOtDqqeyAeKnpONJezrGrZwP2L6ERCsS6qz1k8a\"/>\\\\nDig into delicious low-carb snacks like flavored popcorn and marinated cheese. With just 5 or fewer grams of carbs per serving, they\\\\\\'ll keep you satisfied.\\\\n</Document>\\\\n\\\\n---\\\\n\\\\n<Document href=\"https://www.health.com/no-carb-snacks-11687629\"/>\\\\nPickles, like olives, contain a small amount of carbohydrates but can easily fit into a low-carb diet. They offer a salty crunch that satisfies cravings for something savory, without the higher carbohydrate content typically found in chips and pretzels.\\\\n\\\\nWhile pickles are often high in sodium, low-sodium varieties are available for those watching their intake. A 4-inch slice of cucumber contains just 16.2 calories, making it a light snack option.\\\\n\\\\n8. Shrimp Cocktail With No-Carb Sauce [...] Bone broth is a comforting and easy snack, especially on a cold day or when you\\\\\\'re feeling under the weather. It\\\\\\'s made by simmering animal bones on low heat for almost 24 hours, allowing the collagen in the connective tissue to break down and infuse the liquid with protein and nutrients.\\\\n\\\\nYou can enjoy bone broth on its own, or if you\\\\\\'d like to add some carbohydrates, pair it with low-carb bread or your favorite vegetables.\\\\n\\\\n6. Jerky [...] Deli meats are a quick, no-cook, carbohydrate-free option if you select varieties without added sugar. They pack plenty of protein, making for a filling snack. For example, a 100-gram (3.5-ounce) serving of roast beef provides about 19 grams of protein.\\\\n\\\\nYou can enjoy deli meat alone or wrap it around a string cheese for a more filling snack. If you\\\\\\'re okay with adding some carbohydrates, consider pairing it with a slice of low-carb bread for a\\\\xa0satisfying bite.\\\\n\\\\n10. Egg Salad\\\\n</Document>\\\\n\\\\n---\\\\n\\\\n<Document href=\"https://peopleschoicebeefjerky.com/blogs/news/high-protein-low-carb-snacks?srsltid=AfmBOooni0m-tEeYQ_Gm1UQ2B_A-WWSH_nL13cb5EJsBkAhD8YnMJPzs\"/>\\\\nWith minimal carbohydrates, cheese sticks are a satisfying and delicious option. Boost protein intake while maintaining a low-carb diet.\\\\n</Document>\\']}, {\\'analyst\\': Analyst(name=\\'Carb-Conscious Charlie\\', tone=\\'Analytical and supportive\\', theme=\\'Low-Carb Diet\\', description=\"Carb-Conscious Charlie is here to help you navigate the world of low-carb snacking. With a keen eye for nutritional details, Charlie suggests snacks that keep your carb intake in check while ensuring you enjoy delicious and satisfying options. Whether you\\'re looking for a quick bite or something to munch on during a break, Charlie\\'s got you covered with ideas like almond butter on celery sticks, roasted chickpeas, or a handful of mixed seeds.\"), \\'context\\': [\\'\\']}]\\n\\nWhen answering questions, follow these guidelines:\\n\\n1. Use only the information provided in the context.\\n\\n2. Do not introduce external information or make assumptions beyond what is explicitly stated in the context.\\n\\n3. The context contain sources at the topic of each individual document.\\n\\n4. Include these sources your answer next to any relevant statements. For example, for source # 1 use [1].\\n\\n5. List your sources in order at the bottom of your answer. [1] Source 1, [2] Source 2, etc\\n\\n6. If the source is: <Document source=\"assistant/docs/llama3_1.pdf\" page=\"7\"/>\\' then just list:\\n\\n[1] assistant/docs/llama3_1.pdf, page 7\\n\\nAnd skip the addition of the brackets as well as the Document source preamble in your citation.', 'role': 'system'}, {'content': \"Hello, I'm Snack-Savvy Sam, and I'm eager to learn more about low-carb snacking strategies from you, Carb-Conscious Charlie. To start, could you share some of your favorite low-carb snacks that are both delicious and satisfying? I'm particularly interested in options that might surprise someone new to this lifestyle.\", 'role': 'assistant'}], 'model': 'gpt-4o', 'stream': False, 'temperature': 0.0}}\n",
      "DEBUG:openai._base_client:Sending HTTP Request: POST https://api.openai.com/v1/chat/completions\n",
      "DEBUG:httpcore.http11:send_request_headers.started request=<Request [b'POST']>\n",
      "DEBUG:httpcore.http11:send_request_headers.complete\n",
      "DEBUG:httpcore.http11:send_request_body.started request=<Request [b'POST']>\n",
      "DEBUG:httpcore.http11:send_request_body.complete\n",
      "DEBUG:httpcore.http11:receive_response_headers.started request=<Request [b'POST']>\n",
      "DEBUG:httpcore.http11:receive_response_headers.complete return_value=(b'HTTP/1.1', 200, b'OK', [(b'Date', b'Sat, 19 Apr 2025 06:25:22 GMT'), (b'Content-Type', b'application/json'), (b'Transfer-Encoding', b'chunked'), (b'Connection', b'keep-alive'), (b'access-control-expose-headers', b'X-Request-ID'), (b'openai-organization', b'user-jtnny41eqie6zxkwrgewu2kd'), (b'openai-processing-ms', b'3806'), (b'openai-version', b'2020-10-01'), (b'x-ratelimit-limit-requests', b'500'), (b'x-ratelimit-limit-tokens', b'30000'), (b'x-ratelimit-remaining-requests', b'499'), (b'x-ratelimit-remaining-tokens', b'21927'), (b'x-ratelimit-reset-requests', b'120ms'), (b'x-ratelimit-reset-tokens', b'16.145s'), (b'x-request-id', b'req_2b7d1318d1f885c4ac54bdd5fa1f9a30'), (b'strict-transport-security', b'max-age=31536000; includeSubDomains; preload'), (b'cf-cache-status', b'DYNAMIC'), (b'X-Content-Type-Options', b'nosniff'), (b'Server', b'cloudflare'), (b'CF-RAY', b'932a52e29ff3feef-MBA'), (b'Content-Encoding', b'gzip'), (b'alt-svc', b'h3=\":443\"; ma=86400')])\n",
      "INFO:httpx:HTTP Request: POST https://api.openai.com/v1/chat/completions \"HTTP/1.1 200 OK\"\n",
      "DEBUG:httpcore.http11:receive_response_body.started request=<Request [b'POST']>\n",
      "DEBUG:httpcore.http11:receive_response_body.complete\n",
      "DEBUG:httpcore.http11:response_closed.started\n",
      "DEBUG:httpcore.http11:response_closed.complete\n",
      "DEBUG:openai._base_client:HTTP Response: POST https://api.openai.com/v1/chat/completions \"200 OK\" Headers({'date': 'Sat, 19 Apr 2025 06:25:22 GMT', 'content-type': 'application/json', 'transfer-encoding': 'chunked', 'connection': 'keep-alive', 'access-control-expose-headers': 'X-Request-ID', 'openai-organization': 'user-jtnny41eqie6zxkwrgewu2kd', 'openai-processing-ms': '3806', 'openai-version': '2020-10-01', 'x-ratelimit-limit-requests': '500', 'x-ratelimit-limit-tokens': '30000', 'x-ratelimit-remaining-requests': '499', 'x-ratelimit-remaining-tokens': '21927', 'x-ratelimit-reset-requests': '120ms', 'x-ratelimit-reset-tokens': '16.145s', 'x-request-id': 'req_2b7d1318d1f885c4ac54bdd5fa1f9a30', 'strict-transport-security': 'max-age=31536000; includeSubDomains; preload', 'cf-cache-status': 'DYNAMIC', 'x-content-type-options': 'nosniff', 'server': 'cloudflare', 'cf-ray': '932a52e29ff3feef-MBA', 'content-encoding': 'gzip', 'alt-svc': 'h3=\":443\"; ma=86400'})\n",
      "DEBUG:openai._base_client:request_id: req_2b7d1318d1f885c4ac54bdd5fa1f9a30\n"
     ]
    },
    {
     "name": "stdout",
     "output_type": "stream",
     "text": [
      "[{'messages': [AIMessage(content=\"Hello, I'm Alex, a nutrition enthusiast eager to learn more about high-protein breakfast strategies. I'm particularly interested in dairy-free and low-carb options that can help maintain energy levels and support weight management. Could you share some expert insights on how to effectively incorporate these elements into a morning meal? Specifically, what are some creative ways to prepare a high-protein breakfast that avoids peanuts?\", additional_kwargs={'refusal': None}, response_metadata={'token_usage': {'completion_tokens': 77, 'prompt_tokens': 245, 'total_tokens': 322, 'completion_tokens_details': {'accepted_prediction_tokens': 0, 'audio_tokens': 0, 'reasoning_tokens': 0, 'rejected_prediction_tokens': 0}, 'prompt_tokens_details': {'audio_tokens': 0, 'cached_tokens': 0}}, 'model_name': 'gpt-4o-2024-08-06', 'system_fingerprint': 'fp_f7a584cf1f', 'finish_reason': 'stop', 'logprobs': None}, id='run-15a3131d-0082-43cd-a5fb-0b4ed0a97bde-0', usage_metadata={'input_tokens': 245, 'output_tokens': 77, 'total_tokens': 322, 'input_token_details': {'audio': 0, 'cache_read': 0}, 'output_token_details': {'audio': 0, 'reasoning': 0}}), AIMessage(content=\"Absolutely, Alex! Let's dive into some exciting high-protein breakfast ideas that are both dairy-free and low-carb, perfect for maintaining energy and supporting weight management.\\n\\n1. **Scrambled Eggs with Spinach and Turkey Bacon**: This classic combination is not only high in protein but also low in carbs. The spinach adds a nutritious boost, and turkey bacon provides a lean protein source without the dairy [1].\\n\\n2. **Tofu Scramble with Avocado**: For a plant-based option, a tofu scramble is a fantastic choice. You can mimic scrambled eggs by seasoning tofu with your favorite spices. Pair it with avocado for healthy fats and a creamy texture [1].\\n\\n3. **Chia Pudding**: Chia seeds are a powerhouse of plant-based protein and essential fatty acids. Prepare a chia pudding with a non-dairy milk of your choice, and top it with low-carb fruits like berries for added flavor and nutrients [2].\\n\\n4. **Low-Carb Vegan Fry-Up**: Swap traditional breakfast meats for tofu 'bacon', and include smashed avocado, sautéed mushrooms, and grilled tomatoes. This combination offers a satisfying, high-protein, and low-carb breakfast without any dairy or peanuts [2].\\n\\n5. **Breakfast Salad with Smoked Salmon & Poached Eggs**: For a more gourmet option, consider a breakfast salad featuring smoked salmon and poached eggs. This dish is rich in protein and healthy fats, making it a perfect start to your day [1].\\n\\nThese options ensure you get the energy you need while maintaining your dietary preferences. Enjoy experimenting with these recipes to find your perfect morning meal!\\n\\nSources:\\n[1] https://www.eatingwell.com/gallery/8066388/dairy-free-high-protein-breakfasts/\\n[2] https://www.purition.com/blogs/articles/low-carb-vegan-breakfast-recipes?srsltid=AfmBOopNBuw8xELxDr2cIiciNNnCGCVGga1fvNMGqoX-XgfkvSrZvaS9\", additional_kwargs={'refusal': None}, response_metadata={'token_usage': {'completion_tokens': 417, 'prompt_tokens': 1233, 'total_tokens': 1650, 'completion_tokens_details': {'accepted_prediction_tokens': 0, 'audio_tokens': 0, 'reasoning_tokens': 0, 'rejected_prediction_tokens': 0}, 'prompt_tokens_details': {'audio_tokens': 0, 'cached_tokens': 0}}, 'model_name': 'gpt-4o-2024-08-06', 'system_fingerprint': 'fp_f5bdcc3276', 'finish_reason': 'stop', 'logprobs': None}, name='expert', id='run-eccfab98-9365-46df-a368-84787420d18d-0', usage_metadata={'input_tokens': 1233, 'output_tokens': 417, 'total_tokens': 1650, 'input_token_details': {'audio': 0, 'cache_read': 0}, 'output_token_details': {'audio': 0, 'reasoning': 0}})], 'analyst': Analyst(name='Protein Pro', tone='Energetic', theme='High-Protein Breakfast', description='Protein Pro is here to help you kickstart your day with a high-protein breakfast that aligns with your dietary preferences. With a focus on dairy-free and low-carb options, Protein Pro suggests meals like scrambled eggs with spinach and turkey bacon, or a tofu scramble with avocado. This assistant ensures you get the energy you need while maintaining your weight and avoiding peanuts.')}, {'messages': [AIMessage(content=\"Hello, I'm Nutritionist Nora, and I'm excited to dive into the world of low-carb meal planning with you, Carl. I'm particularly interested in understanding how you craft satisfying and nutritionally balanced low-carb lunches that are also dairy-free. Could you share some specific strategies or examples of meals that fit this profile?\", additional_kwargs={'refusal': None}, response_metadata={'token_usage': {'completion_tokens': 63, 'prompt_tokens': 267, 'total_tokens': 330, 'completion_tokens_details': {'accepted_prediction_tokens': 0, 'audio_tokens': 0, 'reasoning_tokens': 0, 'rejected_prediction_tokens': 0}, 'prompt_tokens_details': {'audio_tokens': 0, 'cached_tokens': 0}}, 'model_name': 'gpt-4o-2024-08-06', 'system_fingerprint': 'fp_f7a584cf1f', 'finish_reason': 'stop', 'logprobs': None}, id='run-3bf5a1b8-74c8-4023-a381-ef7a3f60febd-0', usage_metadata={'input_tokens': 267, 'output_tokens': 63, 'total_tokens': 330, 'input_token_details': {'audio': 0, 'cache_read': 0}, 'output_token_details': {'audio': 0, 'reasoning': 0}}), AIMessage(content='Certainly, Nora. When crafting low-carb, dairy-free lunches, the key is to focus on incorporating a variety of proteins, healthy fats, and low-carb vegetables to ensure nutritional balance and satisfaction. Here are a few strategies and examples:\\n\\n1. **Protein-Rich Salads**: Salads can be a great base for a low-carb lunch. For instance, a Dill Chicken Salad or an Avocado Tuna Salad can provide ample protein while keeping carbs low. These salads can be enhanced with ingredients like avocados, which add healthy fats and creaminess without dairy [1].\\n\\n2. **Stuffed Vegetables**: Using vegetables as vessels for other ingredients is a clever way to keep carbs low. For example, Curried Chicken Salad Stuffed Avocados offer a flavorful and filling option that combines protein and healthy fats [1].\\n\\n3. **Seafood Options**: Seafood is naturally low in carbs and can be prepared in various ways. Keto Thai Shrimp Cakes are an excellent choice, providing a flavorful and satisfying meal without dairy [1].\\n\\n4. **Soups and Stews**: A Chicken Fajita Soup can be a hearty and warming option. By focusing on broth-based soups with plenty of vegetables and proteins, you can create a filling meal that aligns with low-carb and dairy-free guidelines [1].\\n\\n5. **Meal Prepping**: Planning and preparing meals in advance can help maintain dietary goals. Utilizing weekly meal plans that are low-carb, gluten-free, and keto-friendly can simplify the process and ensure you have a variety of options ready to go [1].\\n\\nBy focusing on these strategies, you can create a diverse and satisfying menu that adheres to low-carb and dairy-free dietary preferences.\\n\\nSources:\\n[1] peaceloveandlowcarb.com/low-carb-dairy-free-recipes', additional_kwargs={'refusal': None}, response_metadata={'token_usage': {'completion_tokens': 366, 'prompt_tokens': 5409, 'total_tokens': 5775, 'completion_tokens_details': {'accepted_prediction_tokens': 0, 'audio_tokens': 0, 'reasoning_tokens': 0, 'rejected_prediction_tokens': 0}, 'prompt_tokens_details': {'audio_tokens': 0, 'cached_tokens': 0}}, 'model_name': 'gpt-4o-2024-08-06', 'system_fingerprint': 'fp_f5bdcc3276', 'finish_reason': 'stop', 'logprobs': None}, name='expert', id='run-0c9b0452-4413-4af4-8f35-347230c84f4e-0', usage_metadata={'input_tokens': 5409, 'output_tokens': 366, 'total_tokens': 5775, 'input_token_details': {'audio': 0, 'cache_read': 0}, 'output_token_details': {'audio': 0, 'reasoning': 0}})], 'analyst': Analyst(name='Carb-Conscious Carl', tone='Analytical', theme='Low-Carb Meal Planning', description=\"Carb-Conscious Carl is here to help you navigate the world of low-carb lunches. With a keen eye for nutritional balance, Carl ensures that your meals are both satisfying and aligned with your dietary preferences. He provides suggestions that are dairy-free and low in carbohydrates, helping you maintain your weight while enjoying a variety of delicious lunch options. Carl's analytical approach ensures that every meal is thoughtfully crafted to meet your needs, avoiding any ingredients that don't fit your profile, like peanuts.\")}, {'messages': [AIMessage(content=\"Hello, I'm Nutritionist Nancy, and I'm eager to learn more about low-carb nutrition strategies from you, Carb-Conscious Carl. To start, could you share a specific dinner suggestion that is both delicious and low in carbs, and explain why it works well for maintaining weight?\", additional_kwargs={'refusal': None}, response_metadata={'token_usage': {'completion_tokens': 56, 'prompt_tokens': 253, 'total_tokens': 309, 'completion_tokens_details': {'accepted_prediction_tokens': 0, 'audio_tokens': 0, 'reasoning_tokens': 0, 'rejected_prediction_tokens': 0}, 'prompt_tokens_details': {'audio_tokens': 0, 'cached_tokens': 0}}, 'model_name': 'gpt-4o-2024-08-06', 'system_fingerprint': 'fp_f7a584cf1f', 'finish_reason': 'stop', 'logprobs': None}, id='run-301e7a12-8087-45c3-8b17-636394c9cd99-0', usage_metadata={'input_tokens': 253, 'output_tokens': 56, 'total_tokens': 309, 'input_token_details': {'audio': 0, 'cache_read': 0}, 'output_token_details': {'audio': 0, 'reasoning': 0}}), AIMessage(content='Certainly, Nancy. One delicious and low-carb dinner suggestion is the \"Easy Salmon Cakes with Arugula Salad.\" This meal contains no more than 14 grams of carbohydrates per serving, making it an excellent choice for those looking to maintain their weight while adhering to a low-carb diet. The salmon cakes are packed with nutritious protein, and the arugula salad provides a fresh, low-carb accompaniment that is both satisfying and balanced in terms of nutrients [1].\\n\\nThe reason this meal works well for maintaining weight is due to its high protein content, which helps in promoting satiety and preserving muscle mass, both crucial for weight management. Additionally, the low carbohydrate content ensures that you stay within your carb limits, which is essential for those following a low-carb diet plan [1].\\n\\n[1] eatingwell.com/gallery/7907676/low-carb-dinner-recipes-to-always-make/', additional_kwargs={'refusal': None}, response_metadata={'token_usage': {'completion_tokens': 180, 'prompt_tokens': 5402, 'total_tokens': 5582, 'completion_tokens_details': {'accepted_prediction_tokens': 0, 'audio_tokens': 0, 'reasoning_tokens': 0, 'rejected_prediction_tokens': 0}, 'prompt_tokens_details': {'audio_tokens': 0, 'cached_tokens': 5248}}, 'model_name': 'gpt-4o-2024-08-06', 'system_fingerprint': 'fp_f5bdcc3276', 'finish_reason': 'stop', 'logprobs': None}, name='expert', id='run-1ac08cc9-ae7e-4d6e-926c-d49710080232-0', usage_metadata={'input_tokens': 5402, 'output_tokens': 180, 'total_tokens': 5582, 'input_token_details': {'audio': 0, 'cache_read': 5248}, 'output_token_details': {'audio': 0, 'reasoning': 0}})], 'analyst': Analyst(name='Carb-Conscious Carl', tone='Analytical', theme='Low-Carb Nutrition', description=\"Carb-Conscious Carl is here to help you maintain your weight while sticking to a low-carb diet. He provides dinner suggestions that are both delicious and aligned with your dietary preferences, ensuring you get the right balance of nutrients without exceeding your carb limits. Whether it's a zesty zucchini noodle dish or a hearty grilled steak with a side of roasted vegetables, Carl's got you covered for a satisfying and nutritious dinner.\")}, {'messages': [AIMessage(content=\"Hello, I'm Snack-Savvy Sam, and I'm eager to learn more about low-carb snacking strategies from you, Carb-Conscious Charlie. To start, could you share some of your favorite low-carb snacks that are both delicious and satisfying? I'm particularly interested in options that might surprise someone new to this lifestyle.\", additional_kwargs={'refusal': None}, response_metadata={'token_usage': {'completion_tokens': 64, 'prompt_tokens': 258, 'total_tokens': 322, 'completion_tokens_details': {'accepted_prediction_tokens': 0, 'audio_tokens': 0, 'reasoning_tokens': 0, 'rejected_prediction_tokens': 0}, 'prompt_tokens_details': {'audio_tokens': 0, 'cached_tokens': 0}}, 'model_name': 'gpt-4o-2024-08-06', 'system_fingerprint': 'fp_f7a584cf1f', 'finish_reason': 'stop', 'logprobs': None}, id='run-b735f2bf-67cb-4f2b-a91a-c180443afeab-0', usage_metadata={'input_tokens': 258, 'output_tokens': 64, 'total_tokens': 322, 'input_token_details': {'audio': 0, 'cache_read': 0}, 'output_token_details': {'audio': 0, 'reasoning': 0}}), AIMessage(content=\"Certainly, Snack-Savvy Sam! When it comes to low-carb snacking, there are plenty of delicious and satisfying options to explore. Here are a few of my favorites:\\n\\n1. **Flavored Popcorn and Marinated Cheese**: These snacks are not only tasty but also keep your carb intake low, with just 5 or fewer grams of carbs per serving [1].\\n\\n2. **Pickles and Olives**: Both offer a salty crunch that satisfies cravings for something savory, without the higher carbohydrate content typically found in chips and pretzels. Just be mindful of the sodium content, and opt for low-sodium varieties if needed [2].\\n\\n3. **Shrimp Cocktail with No-Carb Sauce**: This is a refreshing and protein-rich option that can be quite satisfying [2].\\n\\n4. **Bone Broth**: Perfect for a comforting snack, especially on a cold day. It's rich in protein and nutrients, and you can enjoy it on its own or pair it with low-carb bread or vegetables if you want to add some carbohydrates [2].\\n\\n5. **Jerky and Deli Meats**: These are quick, no-cook options that are carbohydrate-free if you select varieties without added sugar. They are high in protein, making them a filling snack [2].\\n\\n6. **Cheese Sticks**: With minimal carbohydrates, cheese sticks are a satisfying and delicious option that also boosts your protein intake [3].\\n\\nThese snacks not only help keep your carb intake in check but also ensure you enjoy a variety of flavors and textures. Whether you're looking for something quick or a more substantial bite, these options have you covered.\\n\\nSources:\\n[1] tasteofhome.com\\n[2] health.com\\n[3] peopleschoicebeefjerky.com\", additional_kwargs={'refusal': None}, response_metadata={'token_usage': {'completion_tokens': 360, 'prompt_tokens': 1096, 'total_tokens': 1456, 'completion_tokens_details': {'accepted_prediction_tokens': 0, 'audio_tokens': 0, 'reasoning_tokens': 0, 'rejected_prediction_tokens': 0}, 'prompt_tokens_details': {'audio_tokens': 0, 'cached_tokens': 0}}, 'model_name': 'gpt-4o-2024-08-06', 'system_fingerprint': 'fp_f5bdcc3276', 'finish_reason': 'stop', 'logprobs': None}, name='expert', id='run-dd3185bb-a2d2-4031-b291-a0b0a3af1b18-0', usage_metadata={'input_tokens': 1096, 'output_tokens': 360, 'total_tokens': 1456, 'input_token_details': {'audio': 0, 'cache_read': 0}, 'output_token_details': {'audio': 0, 'reasoning': 0}})], 'analyst': Analyst(name='Carb-Conscious Charlie', tone='Analytical and supportive', theme='Low-Carb Diet', description=\"Carb-Conscious Charlie is here to help you navigate the world of low-carb snacking. With a keen eye for nutritional details, Charlie suggests snacks that keep your carb intake in check while ensuring you enjoy delicious and satisfying options. Whether you're looking for a quick bite or something to munch on during a break, Charlie's got you covered with ideas like almond butter on celery sticks, roasted chickpeas, or a handful of mixed seeds.\")}]\n"
     ]
    }
   ],
   "execution_count": 766
  },
  {
   "metadata": {
    "ExecuteTime": {
     "end_time": "2025-04-19T17:44:13.514526Z",
     "start_time": "2025-04-19T06:25:28.490303Z"
    }
   },
   "cell_type": "code",
   "source": [
    "# Testing `route_messages` node\n",
    "interview_state_example =  {\n",
    "    \"user_profile\": user,\n",
    "    \"meal_type_analysts\": meal_type_analysts,\n",
    "    # Changed here\n",
    "    \"analysts_messages\": generated_answer_example,\n",
    "    \"web_documents\": web_searched_documents_example,\n",
    "    \"wiki_documents\": wiki_searched_documents_example,\n",
    "    \"sourced_documents\": combine_documents_example,\n",
    "    \"interview\": \"\",\n",
    "    \"recommended_meals\": {\n",
    "        \"user_profile\": user,\n",
    "        \"recommended_meals\": []\n",
    "    },\n",
    "    \"max_num_turns\": 1\n",
    "}\n",
    "interview_state_example = InterviewState(**interview_state_example)\n",
    "\n",
    "routed_message_example = route_messages(interview_state_example)\n",
    "print(routed_message_example)"
   ],
   "outputs": [
    {
     "name": "stdout",
     "output_type": "stream",
     "text": [
      "save_interviews\n"
     ]
    }
   ],
   "execution_count": 767
  },
  {
   "metadata": {
    "ExecuteTime": {
     "end_time": "2025-04-19T17:44:13.515042Z",
     "start_time": "2025-04-19T07:05:20.330759Z"
    }
   },
   "cell_type": "code",
   "source": [
    "# Testing `save_interview` node\n",
    "save_interview(interview_state_example)"
   ],
   "outputs": [
    {
     "data": {
      "text/plain": [
       "{'interview': '**** Everything is good, will implement save interview soon ****'}"
      ]
     },
     "execution_count": 843,
     "metadata": {},
     "output_type": "execute_result"
    }
   ],
   "execution_count": 843
  },
  {
   "metadata": {
    "ExecuteTime": {
     "end_time": "2025-04-19T17:44:13.515362Z",
     "start_time": "2025-04-19T05:50:14.647961Z"
    }
   },
   "cell_type": "code",
   "source": [
    "# results = []\n",
    "# for message_analyst in generated_answer_example:\n",
    "#     messages = message_analyst[\"messages\"]\n",
    "#     meal_recommendation_message_content = messages[-1].content\n",
    "#     # print(\"Meal recommendation content\",meal_recommendation_message_content)\n",
    "#\n",
    "#     system_message = json_writer_instructions.format(recommendation=meal_recommendation_message_content)\n",
    "#\n",
    "#     json_output = llm_chat_json.invoke([\n",
    "#           SystemMessage(content=system_message)\n",
    "#     ])\n",
    "#\n",
    "#     results.append(json_output)"
   ],
   "outputs": [
    {
     "name": "stderr",
     "output_type": "stream",
     "text": [
      "DEBUG:openai._base_client:Request options: {'method': 'post', 'url': '/chat/completions', 'headers': {'X-Stainless-Helper-Method': 'beta.chat.completions.parse'}, 'files': None, 'post_parser': <function Completions.parse.<locals>.parser at 0x11c99d580>, 'json_data': {'messages': [{'content': 'You are a helpful assistant that generates complete food recommendations for all meal types using the given content as inspiration.\\n\\nUse the message response below as a guide to generate food recommendations:\\n\\nAbsolutely, Alex! Let\\'s dive into some exciting high-protein breakfast ideas that are both dairy-free and low-carb, perfect for maintaining energy and supporting weight management.\\n\\n1. **Scrambled Eggs with Spinach and Turkey Bacon**: This classic combination is not only high in protein but also low in carbs. The spinach adds a nutritious boost, and turkey bacon provides a lean protein source without the dairy [1].\\n\\n2. **Tofu Scramble with Avocado**: For a plant-based option, a tofu scramble is a fantastic choice. You can mimic scrambled eggs by seasoning tofu with your favorite spices. Pair it with avocado for healthy fats and a creamy texture [1].\\n\\n3. **Chia Pudding**: Chia seeds are a powerhouse of plant-based protein and essential fatty acids. Prepare a chia pudding with a non-dairy milk of your choice, and top it with low-carb fruits like berries for added flavor and nutrients [2].\\n\\n4. **Low-Carb Vegan Fry-Up**: Swap traditional breakfast meats with tofu \\'bacon\\', and add smashed avocado, sautéed mushrooms, and grilled tomatoes. This combination offers a satisfying, high-protein, and low-carb breakfast without any dairy or peanuts [2].\\n\\n5. **Breakfast Salad with Smoked Salmon & Poached Eggs**: For a more gourmet option, consider a breakfast salad featuring smoked salmon and poached eggs. This dish is rich in protein and healthy fats, providing a luxurious start to your day [1].\\n\\nThese options ensure you get the energy you need while maintaining your dietary preferences. Enjoy experimenting with these delicious and nutritious breakfast ideas!\\n\\nSources:\\n[1] https://www.eatingwell.com/gallery/8066388/dairy-free-high-protein-breakfasts/\\n[2] https://www.purition.com/blogs/articles/low-carb-vegan-breakfast-recipes?srsltid=AfmBOopNBuw8xELxDr2cIiciNNnCGCVGga1fvNMGqoX-XgfkvSrZvaS9\\n\\nInstructions:\\n1. Generate at least 4 specific food or meal suggestions for EACH of the following types: \"BREAKFAST\", \"LUNCH\", \"DINNER\", and \"SNACKS\".\\n2. Use information from the message where possible. If fewer than 4 ideas are provided in the content, you may generate additional meal suggestions that match the same dietary preferences and goals.\\n\\nFor each meal, create a JSON object with the following fields:\\n    - \"meal_name\": A short title for the meal.\\n    - \"meal_type\": One of: \"BREAKFAST\", \"LUNCH\", \"DINNER\", \"SNACKS\".\\n    - \"ingredients\": A list of main ingredients.\\n    - \"portion\": A short description of the portion size.\\n    - \"goal_support\": A brief explanation of how this meal supports weight maintenance.\\n\\nReturn a valid JSON array — no markdown or explanation. Only return the array.\\n\\nExample format:\\n\\n[\\n  {\\n    \"meal_name\": \"Scrambled Eggs with Spinach and Turkey Bacon\",\\n    \"meal_type\": \"BREAKFAST\",\\n    \"ingredients\": [\"eggs\", \"spinach\", \"turkey bacon\"],\\n    \"portion\": \"2 eggs, 1 cup spinach, 2 slices turkey bacon\",\\n    \"goal_support\": \"High in protein and low in carbs, supports energy and weight management\"\\n  },\\n  {\\n    \"meal_name\": \"Tofu Scramble with Avocado\",\\n    \"meal_type\": \"BREAKFAST\",\\n    \"ingredients\": [\"tofu\", \"avocado\", \"spices\"],\\n    \"portion\": \"1 cup tofu scramble, 1/2 avocado\",\\n    \"goal_support\": \"Plant-based protein and healthy fats, great for satiety and weight support\"\\n  },\\n  {\\n    \"meal_name\": \"Chia Pudding with Berries\",\\n    \"meal_type\": \"BREAKFAST\",\\n    \"ingredients\": [\"chia seeds\", \"unsweetened almond milk\", \"berries\"],\\n    \"portion\": \"1/2 cup chia pudding, 1/4 cup berries\",\\n    \"goal_support\": \"High in fiber and protein, supports fullness and digestion\"\\n  },\\n  {\\n    \"meal_name\": \"Low-Carb Vegan Fry-Up\",\\n    \"meal_type\": \"BREAKFAST\",\\n    \"ingredients\": [\"tofu bacon\", \"avocado\", \"mushrooms\", \"grilled tomatoes\"],\\n    \"portion\": \"1/2 cup tofu bacon, 1/2 avocado, 1/2 cup veggies\",\\n    \"goal_support\": \"Protein-rich and low in carbs, ideal for balanced energy\"\\n  },\\n  {\\n    \"meal_name\": \"Breakfast Salad with Smoked Salmon and Poached Eggs\",\\n    \"meal_type\": \"BREAKFAST\",\\n    \"ingredients\": [\"smoked salmon\", \"poached eggs\", \"mixed greens\"],\\n    \"portion\": \"2 oz salmon, 2 eggs, 1 cup greens\",\\n    \"goal_support\": \"High in protein and healthy fats to maintain energy levels\"\\n  },\\n  {\\n    \"meal_name\": \"Grilled Chicken Lettuce Wraps\",\\n    \"meal_type\": \"LUNCH\",\\n    \"ingredients\": [\"grilled chicken\", \"romaine lettuce\", \"avocado\", \"cucumber\"],\\n    \"portion\": \"3 wraps with 3 oz chicken each\",\\n    \"goal_support\": \"Low in carbs and high in lean protein, perfect for weight maintenance\"\\n  },\\n  {\\n    \"meal_name\": \"Quinoa Salad with Chickpeas and Spinach\",\\n    \"meal_type\": \"LUNCH\",\\n    \"ingredients\": [\"quinoa\", \"chickpeas\", \"spinach\", \"olive oil\"],\\n    \"portion\": \"1 cup salad\",\\n    \"goal_support\": \"Plant-based protein and fiber promote fullness and weight control\"\\n  },\\n  {\\n    \"meal_name\": \"Zucchini Noodles with Turkey Meatballs\",\\n    \"meal_type\": \"LUNCH\",\\n    \"ingredients\": [\"zucchini\", \"turkey\", \"tomato sauce\", \"garlic\"],\\n    \"portion\": \"1 cup zoodles, 4 meatballs\",\\n    \"goal_support\": \"Low-carb, high-protein dish that supports lean muscle maintenance\"\\n  },\\n  {\\n    \"meal_name\": \"Tuna-Stuffed Avocados\",\\n    \"meal_type\": \"LUNCH\",\\n    \"ingredients\": [\"tuna\", \"avocado\", \"celery\", \"olive oil mayo\"],\\n    \"portion\": \"2 avocado halves filled with 1/2 cup tuna mix\",\\n    \"goal_support\": \"Provides healthy fats and protein for sustained energy\"\\n  },\\n  {\\n    \"meal_name\": \"Grilled Salmon with Asparagus\",\\n    \"meal_type\": \"DINNER\",\\n    \"ingredients\": [\"salmon\", \"asparagus\", \"lemon\", \"olive oil\"],\\n    \"portion\": \"5 oz salmon, 1 cup asparagus\",\\n    \"goal_support\": \"Omega-3 fats and protein support metabolism and recovery\"\\n  },\\n  {\\n    \"meal_name\": \"Stuffed Bell Peppers with Ground Turkey\",\\n    \"meal_type\": \"DINNER\",\\n    \"ingredients\": [\"bell peppers\", \"ground turkey\", \"onions\", \"spices\"],\\n    \"portion\": \"2 stuffed peppers\",\\n    \"goal_support\": \"Balanced meal high in protein and nutrients with low carbs\"\\n  },\\n  {\\n    \"meal_name\": \"Cauliflower Rice Stir-Fry with Tempeh\",\\n    \"meal_type\": \"DINNER\",\\n    \"ingredients\": [\"cauliflower rice\", \"tempeh\", \"mixed vegetables\", \"soy sauce\"],\\n    \"portion\": \"1.5 cups stir-fry\",\\n    \"goal_support\": \"Plant protein and fiber keep you full and energized\"\\n  },\\n  {\\n    \"meal_name\": \"Baked Cod with Broccoli and Olives\",\\n    \"meal_type\": \"DINNER\",\\n    \"ingredients\": [\"cod\", \"broccoli\", \"olives\", \"garlic\"],\\n    \"portion\": \"4 oz cod, 1 cup broccoli\",\\n    \"goal_support\": \"Lean protein and antioxidants support weight and immune health\"\\n  },\\n  {\\n    \"meal_name\": \"Boiled Eggs and Cucumber Slices\",\\n    \"meal_type\": \"SNACKS\",\\n    \"ingredients\": [\"eggs\", \"cucumber\"],\\n    \"portion\": \"2 boiled eggs, 1/2 cucumber\",\\n    \"goal_support\": \"Protein-rich and hydrating, good for cravings and control\"\\n  },\\n  {\\n    \"meal_name\": \"Almond Butter on Celery Sticks\",\\n    \"meal_type\": \"SNACKS\",\\n    \"ingredients\": [\"almond butter\", \"celery\"],\\n    \"portion\": \"2 tbsp almond butter, 4 celery sticks\",\\n    \"goal_support\": \"Healthy fats and fiber help maintain satiety between meals\"\\n  },\\n  {\\n    \"meal_name\": \"Seaweed Snacks and Edamame\",\\n    \"meal_type\": \"SNACKS\",\\n    \"ingredients\": [\"seaweed\", \"edamame\"],\\n    \"portion\": \"1/2 cup edamame, 1 small pack seaweed\",\\n    \"goal_support\": \"Light, high-protein snack with essential minerals\"\\n  },\\n  {\\n    \"meal_name\": \"Protein Smoothie with Pea Protein and Berries\",\\n    \"meal_type\": \"SNACKS\",\\n    \"ingredients\": [\"pea protein powder\", \"almond milk\", \"berries\"],\\n    \"portion\": \"1 cup smoothie\",\\n    \"goal_support\": \"High in protein and antioxidants, ideal for energy and repair\"\\n  }\\n]\\n', 'role': 'system'}], 'model': 'gpt-4o', 'response_format': {'type': 'json_object'}, 'stream': False, 'temperature': 0.0}}\n",
      "DEBUG:openai._base_client:Sending HTTP Request: POST https://api.openai.com/v1/chat/completions\n",
      "DEBUG:httpcore.connection:close.started\n",
      "DEBUG:httpcore.connection:close.complete\n",
      "DEBUG:httpcore.connection:connect_tcp.started host='api.openai.com' port=443 local_address=None timeout=None socket_options=None\n",
      "DEBUG:httpcore.connection:connect_tcp.complete return_value=<httpcore._backends.sync.SyncStream object at 0x14cf8af80>\n",
      "DEBUG:httpcore.connection:start_tls.started ssl_context=<ssl.SSLContext object at 0x10f4323c0> server_hostname='api.openai.com' timeout=None\n",
      "DEBUG:httpcore.connection:start_tls.complete return_value=<httpcore._backends.sync.SyncStream object at 0x14cf8b480>\n",
      "DEBUG:httpcore.http11:send_request_headers.started request=<Request [b'POST']>\n",
      "DEBUG:httpcore.http11:send_request_headers.complete\n",
      "DEBUG:httpcore.http11:send_request_body.started request=<Request [b'POST']>\n",
      "DEBUG:httpcore.http11:send_request_body.complete\n",
      "DEBUG:httpcore.http11:receive_response_headers.started request=<Request [b'POST']>\n",
      "DEBUG:httpcore.http11:receive_response_headers.complete return_value=(b'HTTP/1.1', 200, b'OK', [(b'Date', b'Sat, 19 Apr 2025 05:50:16 GMT'), (b'Content-Type', b'application/json'), (b'Transfer-Encoding', b'chunked'), (b'Connection', b'keep-alive'), (b'access-control-expose-headers', b'X-Request-ID'), (b'openai-organization', b'user-jtnny41eqie6zxkwrgewu2kd'), (b'openai-processing-ms', b'763'), (b'openai-version', b'2020-10-01'), (b'x-ratelimit-limit-requests', b'500'), (b'x-ratelimit-limit-tokens', b'30000'), (b'x-ratelimit-remaining-requests', b'499'), (b'x-ratelimit-remaining-tokens', b'28064'), (b'x-ratelimit-reset-requests', b'120ms'), (b'x-ratelimit-reset-tokens', b'3.872s'), (b'x-request-id', b'req_96a0c2b72d9b9ce2ca9572cc0fb80ac1'), (b'strict-transport-security', b'max-age=31536000; includeSubDomains; preload'), (b'cf-cache-status', b'DYNAMIC'), (b'X-Content-Type-Options', b'nosniff'), (b'Server', b'cloudflare'), (b'CF-RAY', b'932a1f8edd7565ec-MBA'), (b'Content-Encoding', b'gzip'), (b'alt-svc', b'h3=\":443\"; ma=86400')])\n",
      "INFO:httpx:HTTP Request: POST https://api.openai.com/v1/chat/completions \"HTTP/1.1 200 OK\"\n",
      "DEBUG:httpcore.http11:receive_response_body.started request=<Request [b'POST']>\n",
      "DEBUG:httpcore.http11:receive_response_body.complete\n",
      "DEBUG:httpcore.http11:response_closed.started\n",
      "DEBUG:httpcore.http11:response_closed.complete\n",
      "DEBUG:openai._base_client:HTTP Response: POST https://api.openai.com/v1/chat/completions \"200 OK\" Headers({'date': 'Sat, 19 Apr 2025 05:50:16 GMT', 'content-type': 'application/json', 'transfer-encoding': 'chunked', 'connection': 'keep-alive', 'access-control-expose-headers': 'X-Request-ID', 'openai-organization': 'user-jtnny41eqie6zxkwrgewu2kd', 'openai-processing-ms': '763', 'openai-version': '2020-10-01', 'x-ratelimit-limit-requests': '500', 'x-ratelimit-limit-tokens': '30000', 'x-ratelimit-remaining-requests': '499', 'x-ratelimit-remaining-tokens': '28064', 'x-ratelimit-reset-requests': '120ms', 'x-ratelimit-reset-tokens': '3.872s', 'x-request-id': 'req_96a0c2b72d9b9ce2ca9572cc0fb80ac1', 'strict-transport-security': 'max-age=31536000; includeSubDomains; preload', 'cf-cache-status': 'DYNAMIC', 'x-content-type-options': 'nosniff', 'server': 'cloudflare', 'cf-ray': '932a1f8edd7565ec-MBA', 'content-encoding': 'gzip', 'alt-svc': 'h3=\":443\"; ma=86400'})\n",
      "DEBUG:openai._base_client:request_id: req_96a0c2b72d9b9ce2ca9572cc0fb80ac1\n",
      "DEBUG:openai._base_client:Request options: {'method': 'post', 'url': '/chat/completions', 'headers': {'X-Stainless-Helper-Method': 'beta.chat.completions.parse'}, 'files': None, 'post_parser': <function Completions.parse.<locals>.parser at 0x118f86a20>, 'json_data': {'messages': [{'content': 'You are a helpful assistant that generates complete food recommendations for all meal types using the given content as inspiration.\\n\\nUse the message response below as a guide to generate food recommendations:\\n\\nCertainly! When crafting low-carb, dairy-free lunches, the key is to focus on incorporating a variety of proteins, healthy fats, and low-carb vegetables to ensure nutritional balance and satisfaction. Here are some strategies and examples:\\n\\n1. **Protein-Rich Salads**: Salads are a versatile option. For instance, a Dill Chicken Salad or an Avocado Tuna Salad can be both filling and flavorful. These salads use ingredients like chicken or tuna for protein, and avocados for healthy fats, while keeping the carbohydrate content low [1].\\n\\n2. **Stuffed Vegetables**: Using vegetables as a base or vessel can be a great way to keep carbs low. For example, Curried Chicken Salad Stuffed Avocados provide a creamy texture and rich flavor without the need for dairy [1].\\n\\n3. **Seafood Options**: Incorporating seafood like shrimp can add variety. Keto Thai Shrimp Cakes are a delicious option that combines shrimp with herbs and spices, offering a satisfying meal without dairy [1].\\n\\n4. **Soups and Stews**: A Chicken Fajita Soup can be a hearty and warming option. By using bone broth and a variety of spices, you can create a rich flavor profile without the need for dairy [1].\\n\\n5. **Egg-Based Dishes**: While eggs are not suitable for everyone, they can be a great base for low-carb meals. For those who can consume eggs, dishes like bacon omelets can be both filling and low in carbs [2].\\n\\nBy focusing on these strategies, you can create a variety of delicious and satisfying low-carb, dairy-free lunches that align with dietary preferences and nutritional needs.\\n\\nSources:\\n[1] peaceloveandlowcarb.com\\n[2] dietdoctor.com\\n\\nInstructions:\\n1. Generate at least 4 specific food or meal suggestions for EACH of the following types: \"BREAKFAST\", \"LUNCH\", \"DINNER\", and \"SNACKS\".\\n2. Use information from the message where possible. If fewer than 4 ideas are provided in the content, you may generate additional meal suggestions that match the same dietary preferences and goals.\\n\\nFor each meal, create a JSON object with the following fields:\\n    - \"meal_name\": A short title for the meal.\\n    - \"meal_type\": One of: \"BREAKFAST\", \"LUNCH\", \"DINNER\", \"SNACKS\".\\n    - \"ingredients\": A list of main ingredients.\\n    - \"portion\": A short description of the portion size.\\n    - \"goal_support\": A brief explanation of how this meal supports weight maintenance.\\n\\nReturn a valid JSON array — no markdown or explanation. Only return the array.\\n\\nExample format:\\n\\n[\\n  {\\n    \"meal_name\": \"Scrambled Eggs with Spinach and Turkey Bacon\",\\n    \"meal_type\": \"BREAKFAST\",\\n    \"ingredients\": [\"eggs\", \"spinach\", \"turkey bacon\"],\\n    \"portion\": \"2 eggs, 1 cup spinach, 2 slices turkey bacon\",\\n    \"goal_support\": \"High in protein and low in carbs, supports energy and weight management\"\\n  },\\n  {\\n    \"meal_name\": \"Tofu Scramble with Avocado\",\\n    \"meal_type\": \"BREAKFAST\",\\n    \"ingredients\": [\"tofu\", \"avocado\", \"spices\"],\\n    \"portion\": \"1 cup tofu scramble, 1/2 avocado\",\\n    \"goal_support\": \"Plant-based protein and healthy fats, great for satiety and weight support\"\\n  },\\n  {\\n    \"meal_name\": \"Chia Pudding with Berries\",\\n    \"meal_type\": \"BREAKFAST\",\\n    \"ingredients\": [\"chia seeds\", \"unsweetened almond milk\", \"berries\"],\\n    \"portion\": \"1/2 cup chia pudding, 1/4 cup berries\",\\n    \"goal_support\": \"High in fiber and protein, supports fullness and digestion\"\\n  },\\n  {\\n    \"meal_name\": \"Low-Carb Vegan Fry-Up\",\\n    \"meal_type\": \"BREAKFAST\",\\n    \"ingredients\": [\"tofu bacon\", \"avocado\", \"mushrooms\", \"grilled tomatoes\"],\\n    \"portion\": \"1/2 cup tofu bacon, 1/2 avocado, 1/2 cup veggies\",\\n    \"goal_support\": \"Protein-rich and low in carbs, ideal for balanced energy\"\\n  },\\n  {\\n    \"meal_name\": \"Breakfast Salad with Smoked Salmon and Poached Eggs\",\\n    \"meal_type\": \"BREAKFAST\",\\n    \"ingredients\": [\"smoked salmon\", \"poached eggs\", \"mixed greens\"],\\n    \"portion\": \"2 oz salmon, 2 eggs, 1 cup greens\",\\n    \"goal_support\": \"High in protein and healthy fats to maintain energy levels\"\\n  },\\n  {\\n    \"meal_name\": \"Grilled Chicken Lettuce Wraps\",\\n    \"meal_type\": \"LUNCH\",\\n    \"ingredients\": [\"grilled chicken\", \"romaine lettuce\", \"avocado\", \"cucumber\"],\\n    \"portion\": \"3 wraps with 3 oz chicken each\",\\n    \"goal_support\": \"Low in carbs and high in lean protein, perfect for weight maintenance\"\\n  },\\n  {\\n    \"meal_name\": \"Quinoa Salad with Chickpeas and Spinach\",\\n    \"meal_type\": \"LUNCH\",\\n    \"ingredients\": [\"quinoa\", \"chickpeas\", \"spinach\", \"olive oil\"],\\n    \"portion\": \"1 cup salad\",\\n    \"goal_support\": \"Plant-based protein and fiber promote fullness and weight control\"\\n  },\\n  {\\n    \"meal_name\": \"Zucchini Noodles with Turkey Meatballs\",\\n    \"meal_type\": \"LUNCH\",\\n    \"ingredients\": [\"zucchini\", \"turkey\", \"tomato sauce\", \"garlic\"],\\n    \"portion\": \"1 cup zoodles, 4 meatballs\",\\n    \"goal_support\": \"Low-carb, high-protein dish that supports lean muscle maintenance\"\\n  },\\n  {\\n    \"meal_name\": \"Tuna-Stuffed Avocados\",\\n    \"meal_type\": \"LUNCH\",\\n    \"ingredients\": [\"tuna\", \"avocado\", \"celery\", \"olive oil mayo\"],\\n    \"portion\": \"2 avocado halves filled with 1/2 cup tuna mix\",\\n    \"goal_support\": \"Provides healthy fats and protein for sustained energy\"\\n  },\\n  {\\n    \"meal_name\": \"Grilled Salmon with Asparagus\",\\n    \"meal_type\": \"DINNER\",\\n    \"ingredients\": [\"salmon\", \"asparagus\", \"lemon\", \"olive oil\"],\\n    \"portion\": \"5 oz salmon, 1 cup asparagus\",\\n    \"goal_support\": \"Omega-3 fats and protein support metabolism and recovery\"\\n  },\\n  {\\n    \"meal_name\": \"Stuffed Bell Peppers with Ground Turkey\",\\n    \"meal_type\": \"DINNER\",\\n    \"ingredients\": [\"bell peppers\", \"ground turkey\", \"onions\", \"spices\"],\\n    \"portion\": \"2 stuffed peppers\",\\n    \"goal_support\": \"Balanced meal high in protein and nutrients with low carbs\"\\n  },\\n  {\\n    \"meal_name\": \"Cauliflower Rice Stir-Fry with Tempeh\",\\n    \"meal_type\": \"DINNER\",\\n    \"ingredients\": [\"cauliflower rice\", \"tempeh\", \"mixed vegetables\", \"soy sauce\"],\\n    \"portion\": \"1.5 cups stir-fry\",\\n    \"goal_support\": \"Plant protein and fiber keep you full and energized\"\\n  },\\n  {\\n    \"meal_name\": \"Baked Cod with Broccoli and Olives\",\\n    \"meal_type\": \"DINNER\",\\n    \"ingredients\": [\"cod\", \"broccoli\", \"olives\", \"garlic\"],\\n    \"portion\": \"4 oz cod, 1 cup broccoli\",\\n    \"goal_support\": \"Lean protein and antioxidants support weight and immune health\"\\n  },\\n  {\\n    \"meal_name\": \"Boiled Eggs and Cucumber Slices\",\\n    \"meal_type\": \"SNACKS\",\\n    \"ingredients\": [\"eggs\", \"cucumber\"],\\n    \"portion\": \"2 boiled eggs, 1/2 cucumber\",\\n    \"goal_support\": \"Protein-rich and hydrating, good for cravings and control\"\\n  },\\n  {\\n    \"meal_name\": \"Almond Butter on Celery Sticks\",\\n    \"meal_type\": \"SNACKS\",\\n    \"ingredients\": [\"almond butter\", \"celery\"],\\n    \"portion\": \"2 tbsp almond butter, 4 celery sticks\",\\n    \"goal_support\": \"Healthy fats and fiber help maintain satiety between meals\"\\n  },\\n  {\\n    \"meal_name\": \"Seaweed Snacks and Edamame\",\\n    \"meal_type\": \"SNACKS\",\\n    \"ingredients\": [\"seaweed\", \"edamame\"],\\n    \"portion\": \"1/2 cup edamame, 1 small pack seaweed\",\\n    \"goal_support\": \"Light, high-protein snack with essential minerals\"\\n  },\\n  {\\n    \"meal_name\": \"Protein Smoothie with Pea Protein and Berries\",\\n    \"meal_type\": \"SNACKS\",\\n    \"ingredients\": [\"pea protein powder\", \"almond milk\", \"berries\"],\\n    \"portion\": \"1 cup smoothie\",\\n    \"goal_support\": \"High in protein and antioxidants, ideal for energy and repair\"\\n  }\\n]\\n', 'role': 'system'}], 'model': 'gpt-4o', 'response_format': {'type': 'json_object'}, 'stream': False, 'temperature': 0.0}}\n",
      "DEBUG:openai._base_client:Sending HTTP Request: POST https://api.openai.com/v1/chat/completions\n",
      "DEBUG:httpcore.http11:send_request_headers.started request=<Request [b'POST']>\n",
      "DEBUG:httpcore.http11:send_request_headers.complete\n",
      "DEBUG:httpcore.http11:send_request_body.started request=<Request [b'POST']>\n",
      "DEBUG:httpcore.http11:send_request_body.complete\n",
      "DEBUG:httpcore.http11:receive_response_headers.started request=<Request [b'POST']>\n",
      "DEBUG:httpcore.http11:receive_response_headers.complete return_value=(b'HTTP/1.1', 200, b'OK', [(b'Date', b'Sat, 19 Apr 2025 05:50:17 GMT'), (b'Content-Type', b'application/json'), (b'Transfer-Encoding', b'chunked'), (b'Connection', b'keep-alive'), (b'access-control-expose-headers', b'X-Request-ID'), (b'openai-organization', b'user-jtnny41eqie6zxkwrgewu2kd'), (b'openai-processing-ms', b'933'), (b'openai-version', b'2020-10-01'), (b'x-ratelimit-limit-requests', b'500'), (b'x-ratelimit-limit-tokens', b'30000'), (b'x-ratelimit-remaining-requests', b'499'), (b'x-ratelimit-remaining-tokens', b'26611'), (b'x-ratelimit-reset-requests', b'120ms'), (b'x-ratelimit-reset-tokens', b'6.777s'), (b'x-request-id', b'req_1bd0918297450726fd0931092ea2bba7'), (b'strict-transport-security', b'max-age=31536000; includeSubDomains; preload'), (b'cf-cache-status', b'DYNAMIC'), (b'X-Content-Type-Options', b'nosniff'), (b'Server', b'cloudflare'), (b'CF-RAY', b'932a1f976c0565ec-MBA'), (b'Content-Encoding', b'gzip'), (b'alt-svc', b'h3=\":443\"; ma=86400')])\n",
      "INFO:httpx:HTTP Request: POST https://api.openai.com/v1/chat/completions \"HTTP/1.1 200 OK\"\n",
      "DEBUG:httpcore.http11:receive_response_body.started request=<Request [b'POST']>\n",
      "DEBUG:httpcore.http11:receive_response_body.complete\n",
      "DEBUG:httpcore.http11:response_closed.started\n",
      "DEBUG:httpcore.http11:response_closed.complete\n",
      "DEBUG:openai._base_client:HTTP Response: POST https://api.openai.com/v1/chat/completions \"200 OK\" Headers({'date': 'Sat, 19 Apr 2025 05:50:17 GMT', 'content-type': 'application/json', 'transfer-encoding': 'chunked', 'connection': 'keep-alive', 'access-control-expose-headers': 'X-Request-ID', 'openai-organization': 'user-jtnny41eqie6zxkwrgewu2kd', 'openai-processing-ms': '933', 'openai-version': '2020-10-01', 'x-ratelimit-limit-requests': '500', 'x-ratelimit-limit-tokens': '30000', 'x-ratelimit-remaining-requests': '499', 'x-ratelimit-remaining-tokens': '26611', 'x-ratelimit-reset-requests': '120ms', 'x-ratelimit-reset-tokens': '6.777s', 'x-request-id': 'req_1bd0918297450726fd0931092ea2bba7', 'strict-transport-security': 'max-age=31536000; includeSubDomains; preload', 'cf-cache-status': 'DYNAMIC', 'x-content-type-options': 'nosniff', 'server': 'cloudflare', 'cf-ray': '932a1f976c0565ec-MBA', 'content-encoding': 'gzip', 'alt-svc': 'h3=\":443\"; ma=86400'})\n",
      "DEBUG:openai._base_client:request_id: req_1bd0918297450726fd0931092ea2bba7\n",
      "DEBUG:openai._base_client:Request options: {'method': 'post', 'url': '/chat/completions', 'headers': {'X-Stainless-Helper-Method': 'beta.chat.completions.parse'}, 'files': None, 'post_parser': <function Completions.parse.<locals>.parser at 0x118f86a20>, 'json_data': {'messages': [{'content': 'You are a helpful assistant that generates complete food recommendations for all meal types using the given content as inspiration.\\n\\nUse the message response below as a guide to generate food recommendations:\\n\\nCertainly, Nancy. One delicious and low-carb dinner suggestion is the \"Easy Salmon Cakes with Arugula Salad.\" This dish contains no more than 14 grams of carbohydrates per serving, making it an excellent choice for those looking to maintain their weight while adhering to a low-carb diet. The salmon cakes are packed with nutritious protein, and the arugula salad provides a fresh, low-carb accompaniment that is both satisfying and flavorful. This combination ensures a balanced meal that aligns with dietary preferences focused on reducing carbohydrate intake [1].\\n\\n[1] eatingwell.com/gallery/7907676/low-carb-dinner-recipes-to-always-make/\\n\\nInstructions:\\n1. Generate at least 4 specific food or meal suggestions for EACH of the following types: \"BREAKFAST\", \"LUNCH\", \"DINNER\", and \"SNACKS\".\\n2. Use information from the message where possible. If fewer than 4 ideas are provided in the content, you may generate additional meal suggestions that match the same dietary preferences and goals.\\n\\nFor each meal, create a JSON object with the following fields:\\n    - \"meal_name\": A short title for the meal.\\n    - \"meal_type\": One of: \"BREAKFAST\", \"LUNCH\", \"DINNER\", \"SNACKS\".\\n    - \"ingredients\": A list of main ingredients.\\n    - \"portion\": A short description of the portion size.\\n    - \"goal_support\": A brief explanation of how this meal supports weight maintenance.\\n\\nReturn a valid JSON array — no markdown or explanation. Only return the array.\\n\\nExample format:\\n\\n[\\n  {\\n    \"meal_name\": \"Scrambled Eggs with Spinach and Turkey Bacon\",\\n    \"meal_type\": \"BREAKFAST\",\\n    \"ingredients\": [\"eggs\", \"spinach\", \"turkey bacon\"],\\n    \"portion\": \"2 eggs, 1 cup spinach, 2 slices turkey bacon\",\\n    \"goal_support\": \"High in protein and low in carbs, supports energy and weight management\"\\n  },\\n  {\\n    \"meal_name\": \"Tofu Scramble with Avocado\",\\n    \"meal_type\": \"BREAKFAST\",\\n    \"ingredients\": [\"tofu\", \"avocado\", \"spices\"],\\n    \"portion\": \"1 cup tofu scramble, 1/2 avocado\",\\n    \"goal_support\": \"Plant-based protein and healthy fats, great for satiety and weight support\"\\n  },\\n  {\\n    \"meal_name\": \"Chia Pudding with Berries\",\\n    \"meal_type\": \"BREAKFAST\",\\n    \"ingredients\": [\"chia seeds\", \"unsweetened almond milk\", \"berries\"],\\n    \"portion\": \"1/2 cup chia pudding, 1/4 cup berries\",\\n    \"goal_support\": \"High in fiber and protein, supports fullness and digestion\"\\n  },\\n  {\\n    \"meal_name\": \"Low-Carb Vegan Fry-Up\",\\n    \"meal_type\": \"BREAKFAST\",\\n    \"ingredients\": [\"tofu bacon\", \"avocado\", \"mushrooms\", \"grilled tomatoes\"],\\n    \"portion\": \"1/2 cup tofu bacon, 1/2 avocado, 1/2 cup veggies\",\\n    \"goal_support\": \"Protein-rich and low in carbs, ideal for balanced energy\"\\n  },\\n  {\\n    \"meal_name\": \"Breakfast Salad with Smoked Salmon and Poached Eggs\",\\n    \"meal_type\": \"BREAKFAST\",\\n    \"ingredients\": [\"smoked salmon\", \"poached eggs\", \"mixed greens\"],\\n    \"portion\": \"2 oz salmon, 2 eggs, 1 cup greens\",\\n    \"goal_support\": \"High in protein and healthy fats to maintain energy levels\"\\n  },\\n  {\\n    \"meal_name\": \"Grilled Chicken Lettuce Wraps\",\\n    \"meal_type\": \"LUNCH\",\\n    \"ingredients\": [\"grilled chicken\", \"romaine lettuce\", \"avocado\", \"cucumber\"],\\n    \"portion\": \"3 wraps with 3 oz chicken each\",\\n    \"goal_support\": \"Low in carbs and high in lean protein, perfect for weight maintenance\"\\n  },\\n  {\\n    \"meal_name\": \"Quinoa Salad with Chickpeas and Spinach\",\\n    \"meal_type\": \"LUNCH\",\\n    \"ingredients\": [\"quinoa\", \"chickpeas\", \"spinach\", \"olive oil\"],\\n    \"portion\": \"1 cup salad\",\\n    \"goal_support\": \"Plant-based protein and fiber promote fullness and weight control\"\\n  },\\n  {\\n    \"meal_name\": \"Zucchini Noodles with Turkey Meatballs\",\\n    \"meal_type\": \"LUNCH\",\\n    \"ingredients\": [\"zucchini\", \"turkey\", \"tomato sauce\", \"garlic\"],\\n    \"portion\": \"1 cup zoodles, 4 meatballs\",\\n    \"goal_support\": \"Low-carb, high-protein dish that supports lean muscle maintenance\"\\n  },\\n  {\\n    \"meal_name\": \"Tuna-Stuffed Avocados\",\\n    \"meal_type\": \"LUNCH\",\\n    \"ingredients\": [\"tuna\", \"avocado\", \"celery\", \"olive oil mayo\"],\\n    \"portion\": \"2 avocado halves filled with 1/2 cup tuna mix\",\\n    \"goal_support\": \"Provides healthy fats and protein for sustained energy\"\\n  },\\n  {\\n    \"meal_name\": \"Grilled Salmon with Asparagus\",\\n    \"meal_type\": \"DINNER\",\\n    \"ingredients\": [\"salmon\", \"asparagus\", \"lemon\", \"olive oil\"],\\n    \"portion\": \"5 oz salmon, 1 cup asparagus\",\\n    \"goal_support\": \"Omega-3 fats and protein support metabolism and recovery\"\\n  },\\n  {\\n    \"meal_name\": \"Stuffed Bell Peppers with Ground Turkey\",\\n    \"meal_type\": \"DINNER\",\\n    \"ingredients\": [\"bell peppers\", \"ground turkey\", \"onions\", \"spices\"],\\n    \"portion\": \"2 stuffed peppers\",\\n    \"goal_support\": \"Balanced meal high in protein and nutrients with low carbs\"\\n  },\\n  {\\n    \"meal_name\": \"Cauliflower Rice Stir-Fry with Tempeh\",\\n    \"meal_type\": \"DINNER\",\\n    \"ingredients\": [\"cauliflower rice\", \"tempeh\", \"mixed vegetables\", \"soy sauce\"],\\n    \"portion\": \"1.5 cups stir-fry\",\\n    \"goal_support\": \"Plant protein and fiber keep you full and energized\"\\n  },\\n  {\\n    \"meal_name\": \"Baked Cod with Broccoli and Olives\",\\n    \"meal_type\": \"DINNER\",\\n    \"ingredients\": [\"cod\", \"broccoli\", \"olives\", \"garlic\"],\\n    \"portion\": \"4 oz cod, 1 cup broccoli\",\\n    \"goal_support\": \"Lean protein and antioxidants support weight and immune health\"\\n  },\\n  {\\n    \"meal_name\": \"Boiled Eggs and Cucumber Slices\",\\n    \"meal_type\": \"SNACKS\",\\n    \"ingredients\": [\"eggs\", \"cucumber\"],\\n    \"portion\": \"2 boiled eggs, 1/2 cucumber\",\\n    \"goal_support\": \"Protein-rich and hydrating, good for cravings and control\"\\n  },\\n  {\\n    \"meal_name\": \"Almond Butter on Celery Sticks\",\\n    \"meal_type\": \"SNACKS\",\\n    \"ingredients\": [\"almond butter\", \"celery\"],\\n    \"portion\": \"2 tbsp almond butter, 4 celery sticks\",\\n    \"goal_support\": \"Healthy fats and fiber help maintain satiety between meals\"\\n  },\\n  {\\n    \"meal_name\": \"Seaweed Snacks and Edamame\",\\n    \"meal_type\": \"SNACKS\",\\n    \"ingredients\": [\"seaweed\", \"edamame\"],\\n    \"portion\": \"1/2 cup edamame, 1 small pack seaweed\",\\n    \"goal_support\": \"Light, high-protein snack with essential minerals\"\\n  },\\n  {\\n    \"meal_name\": \"Protein Smoothie with Pea Protein and Berries\",\\n    \"meal_type\": \"SNACKS\",\\n    \"ingredients\": [\"pea protein powder\", \"almond milk\", \"berries\"],\\n    \"portion\": \"1 cup smoothie\",\\n    \"goal_support\": \"High in protein and antioxidants, ideal for energy and repair\"\\n  }\\n]\\n', 'role': 'system'}], 'model': 'gpt-4o', 'response_format': {'type': 'json_object'}, 'stream': False, 'temperature': 0.0}}\n",
      "DEBUG:openai._base_client:Sending HTTP Request: POST https://api.openai.com/v1/chat/completions\n",
      "DEBUG:httpcore.http11:send_request_headers.started request=<Request [b'POST']>\n",
      "DEBUG:httpcore.http11:send_request_headers.complete\n",
      "DEBUG:httpcore.http11:send_request_body.started request=<Request [b'POST']>\n",
      "DEBUG:httpcore.http11:send_request_body.complete\n",
      "DEBUG:httpcore.http11:receive_response_headers.started request=<Request [b'POST']>\n",
      "DEBUG:httpcore.http11:receive_response_headers.complete return_value=(b'HTTP/1.1', 200, b'OK', [(b'Date', b'Sat, 19 Apr 2025 05:50:18 GMT'), (b'Content-Type', b'application/json'), (b'Transfer-Encoding', b'chunked'), (b'Connection', b'keep-alive'), (b'access-control-expose-headers', b'X-Request-ID'), (b'openai-organization', b'user-jtnny41eqie6zxkwrgewu2kd'), (b'openai-processing-ms', b'761'), (b'openai-version', b'2020-10-01'), (b'x-ratelimit-limit-requests', b'500'), (b'x-ratelimit-limit-tokens', b'30000'), (b'x-ratelimit-remaining-requests', b'499'), (b'x-ratelimit-remaining-tokens', b'25616'), (b'x-ratelimit-reset-requests', b'120ms'), (b'x-ratelimit-reset-tokens', b'8.766s'), (b'x-request-id', b'req_0d6a0eb69efea9045c65b43b8e3ec545'), (b'strict-transport-security', b'max-age=31536000; includeSubDomains; preload'), (b'cf-cache-status', b'DYNAMIC'), (b'X-Content-Type-Options', b'nosniff'), (b'Server', b'cloudflare'), (b'CF-RAY', b'932a1fa0de9065ec-MBA'), (b'Content-Encoding', b'gzip'), (b'alt-svc', b'h3=\":443\"; ma=86400')])\n",
      "INFO:httpx:HTTP Request: POST https://api.openai.com/v1/chat/completions \"HTTP/1.1 200 OK\"\n",
      "DEBUG:httpcore.http11:receive_response_body.started request=<Request [b'POST']>\n",
      "DEBUG:httpcore.http11:receive_response_body.complete\n",
      "DEBUG:httpcore.http11:response_closed.started\n",
      "DEBUG:httpcore.http11:response_closed.complete\n",
      "DEBUG:openai._base_client:HTTP Response: POST https://api.openai.com/v1/chat/completions \"200 OK\" Headers({'date': 'Sat, 19 Apr 2025 05:50:18 GMT', 'content-type': 'application/json', 'transfer-encoding': 'chunked', 'connection': 'keep-alive', 'access-control-expose-headers': 'X-Request-ID', 'openai-organization': 'user-jtnny41eqie6zxkwrgewu2kd', 'openai-processing-ms': '761', 'openai-version': '2020-10-01', 'x-ratelimit-limit-requests': '500', 'x-ratelimit-limit-tokens': '30000', 'x-ratelimit-remaining-requests': '499', 'x-ratelimit-remaining-tokens': '25616', 'x-ratelimit-reset-requests': '120ms', 'x-ratelimit-reset-tokens': '8.766s', 'x-request-id': 'req_0d6a0eb69efea9045c65b43b8e3ec545', 'strict-transport-security': 'max-age=31536000; includeSubDomains; preload', 'cf-cache-status': 'DYNAMIC', 'x-content-type-options': 'nosniff', 'server': 'cloudflare', 'cf-ray': '932a1fa0de9065ec-MBA', 'content-encoding': 'gzip', 'alt-svc': 'h3=\":443\"; ma=86400'})\n",
      "DEBUG:openai._base_client:request_id: req_0d6a0eb69efea9045c65b43b8e3ec545\n",
      "DEBUG:openai._base_client:Request options: {'method': 'post', 'url': '/chat/completions', 'headers': {'X-Stainless-Helper-Method': 'beta.chat.completions.parse'}, 'files': None, 'post_parser': <function Completions.parse.<locals>.parser at 0x118f86d40>, 'json_data': {'messages': [{'content': 'You are a helpful assistant that generates complete food recommendations for all meal types using the given content as inspiration.\\n\\nUse the message response below as a guide to generate food recommendations:\\n\\nCertainly, Snack-Savvy Sam! When it comes to low-carb snacking, there are plenty of delicious and satisfying options to explore. Here are a few of my favorites:\\n\\n1. **Flavored Popcorn and Marinated Cheese**: These snacks are not only tasty but also keep your carb intake low, with just 5 or fewer grams of carbs per serving [1].\\n\\n2. **Pickles and Olives**: Both offer a salty crunch that satisfies cravings for something savory, without the higher carbohydrate content typically found in chips and pretzels. Just be mindful of the sodium content, and opt for low-sodium varieties if needed [2].\\n\\n3. **Shrimp Cocktail with No-Carb Sauce**: This is a refreshing and protein-rich option that can be quite satisfying [2].\\n\\n4. **Bone Broth**: A comforting and nutrient-rich snack, especially on a cold day. You can enjoy it on its own or pair it with low-carb bread or vegetables if you want to add some carbohydrates [2].\\n\\n5. **Jerky and Deli Meats**: These are quick, no-cook options that are carbohydrate-free if you select varieties without added sugar. They are high in protein, making them a filling snack [2].\\n\\n6. **Cheese Sticks**: With minimal carbohydrates, cheese sticks are a satisfying and delicious option that also boosts your protein intake [3].\\n\\nThese snacks not only help keep your carb intake in check but also ensure you enjoy a variety of flavors and textures. Whether you\\'re looking for something quick or a more substantial bite, these options have you covered.\\n\\nSources:\\n[1] https://www.tasteofhome.com/collection/low-carb-snacks-your-family-will-love/?srsltid=AfmBOoruyl5P3CKgomOtDqqeyAeKnpONJezrGrZwP2L6ERCsS6qz1k8a\\n[2] https://www.health.com/no-carb-snacks-11687629\\n[3] https://peopleschoicebeefjerky.com/blogs/news/high-protein-low-carb-snacks?srsltid=AfmBOooni0m-tEeYQ_Gm1UQ2B_A-WWSH_nL13cb5EJsBkAhD8YnMJPzs\\n\\nInstructions:\\n1. Generate at least 4 specific food or meal suggestions for EACH of the following types: \"BREAKFAST\", \"LUNCH\", \"DINNER\", and \"SNACKS\".\\n2. Use information from the message where possible. If fewer than 4 ideas are provided in the content, you may generate additional meal suggestions that match the same dietary preferences and goals.\\n\\nFor each meal, create a JSON object with the following fields:\\n    - \"meal_name\": A short title for the meal.\\n    - \"meal_type\": One of: \"BREAKFAST\", \"LUNCH\", \"DINNER\", \"SNACKS\".\\n    - \"ingredients\": A list of main ingredients.\\n    - \"portion\": A short description of the portion size.\\n    - \"goal_support\": A brief explanation of how this meal supports weight maintenance.\\n\\nReturn a valid JSON array — no markdown or explanation. Only return the array.\\n\\nExample format:\\n\\n[\\n  {\\n    \"meal_name\": \"Scrambled Eggs with Spinach and Turkey Bacon\",\\n    \"meal_type\": \"BREAKFAST\",\\n    \"ingredients\": [\"eggs\", \"spinach\", \"turkey bacon\"],\\n    \"portion\": \"2 eggs, 1 cup spinach, 2 slices turkey bacon\",\\n    \"goal_support\": \"High in protein and low in carbs, supports energy and weight management\"\\n  },\\n  {\\n    \"meal_name\": \"Tofu Scramble with Avocado\",\\n    \"meal_type\": \"BREAKFAST\",\\n    \"ingredients\": [\"tofu\", \"avocado\", \"spices\"],\\n    \"portion\": \"1 cup tofu scramble, 1/2 avocado\",\\n    \"goal_support\": \"Plant-based protein and healthy fats, great for satiety and weight support\"\\n  },\\n  {\\n    \"meal_name\": \"Chia Pudding with Berries\",\\n    \"meal_type\": \"BREAKFAST\",\\n    \"ingredients\": [\"chia seeds\", \"unsweetened almond milk\", \"berries\"],\\n    \"portion\": \"1/2 cup chia pudding, 1/4 cup berries\",\\n    \"goal_support\": \"High in fiber and protein, supports fullness and digestion\"\\n  },\\n  {\\n    \"meal_name\": \"Low-Carb Vegan Fry-Up\",\\n    \"meal_type\": \"BREAKFAST\",\\n    \"ingredients\": [\"tofu bacon\", \"avocado\", \"mushrooms\", \"grilled tomatoes\"],\\n    \"portion\": \"1/2 cup tofu bacon, 1/2 avocado, 1/2 cup veggies\",\\n    \"goal_support\": \"Protein-rich and low in carbs, ideal for balanced energy\"\\n  },\\n  {\\n    \"meal_name\": \"Breakfast Salad with Smoked Salmon and Poached Eggs\",\\n    \"meal_type\": \"BREAKFAST\",\\n    \"ingredients\": [\"smoked salmon\", \"poached eggs\", \"mixed greens\"],\\n    \"portion\": \"2 oz salmon, 2 eggs, 1 cup greens\",\\n    \"goal_support\": \"High in protein and healthy fats to maintain energy levels\"\\n  },\\n  {\\n    \"meal_name\": \"Grilled Chicken Lettuce Wraps\",\\n    \"meal_type\": \"LUNCH\",\\n    \"ingredients\": [\"grilled chicken\", \"romaine lettuce\", \"avocado\", \"cucumber\"],\\n    \"portion\": \"3 wraps with 3 oz chicken each\",\\n    \"goal_support\": \"Low in carbs and high in lean protein, perfect for weight maintenance\"\\n  },\\n  {\\n    \"meal_name\": \"Quinoa Salad with Chickpeas and Spinach\",\\n    \"meal_type\": \"LUNCH\",\\n    \"ingredients\": [\"quinoa\", \"chickpeas\", \"spinach\", \"olive oil\"],\\n    \"portion\": \"1 cup salad\",\\n    \"goal_support\": \"Plant-based protein and fiber promote fullness and weight control\"\\n  },\\n  {\\n    \"meal_name\": \"Zucchini Noodles with Turkey Meatballs\",\\n    \"meal_type\": \"LUNCH\",\\n    \"ingredients\": [\"zucchini\", \"turkey\", \"tomato sauce\", \"garlic\"],\\n    \"portion\": \"1 cup zoodles, 4 meatballs\",\\n    \"goal_support\": \"Low-carb, high-protein dish that supports lean muscle maintenance\"\\n  },\\n  {\\n    \"meal_name\": \"Tuna-Stuffed Avocados\",\\n    \"meal_type\": \"LUNCH\",\\n    \"ingredients\": [\"tuna\", \"avocado\", \"celery\", \"olive oil mayo\"],\\n    \"portion\": \"2 avocado halves filled with 1/2 cup tuna mix\",\\n    \"goal_support\": \"Provides healthy fats and protein for sustained energy\"\\n  },\\n  {\\n    \"meal_name\": \"Grilled Salmon with Asparagus\",\\n    \"meal_type\": \"DINNER\",\\n    \"ingredients\": [\"salmon\", \"asparagus\", \"lemon\", \"olive oil\"],\\n    \"portion\": \"5 oz salmon, 1 cup asparagus\",\\n    \"goal_support\": \"Omega-3 fats and protein support metabolism and recovery\"\\n  },\\n  {\\n    \"meal_name\": \"Stuffed Bell Peppers with Ground Turkey\",\\n    \"meal_type\": \"DINNER\",\\n    \"ingredients\": [\"bell peppers\", \"ground turkey\", \"onions\", \"spices\"],\\n    \"portion\": \"2 stuffed peppers\",\\n    \"goal_support\": \"Balanced meal high in protein and nutrients with low carbs\"\\n  },\\n  {\\n    \"meal_name\": \"Cauliflower Rice Stir-Fry with Tempeh\",\\n    \"meal_type\": \"DINNER\",\\n    \"ingredients\": [\"cauliflower rice\", \"tempeh\", \"mixed vegetables\", \"soy sauce\"],\\n    \"portion\": \"1.5 cups stir-fry\",\\n    \"goal_support\": \"Plant protein and fiber keep you full and energized\"\\n  },\\n  {\\n    \"meal_name\": \"Baked Cod with Broccoli and Olives\",\\n    \"meal_type\": \"DINNER\",\\n    \"ingredients\": [\"cod\", \"broccoli\", \"olives\", \"garlic\"],\\n    \"portion\": \"4 oz cod, 1 cup broccoli\",\\n    \"goal_support\": \"Lean protein and antioxidants support weight and immune health\"\\n  },\\n  {\\n    \"meal_name\": \"Boiled Eggs and Cucumber Slices\",\\n    \"meal_type\": \"SNACKS\",\\n    \"ingredients\": [\"eggs\", \"cucumber\"],\\n    \"portion\": \"2 boiled eggs, 1/2 cucumber\",\\n    \"goal_support\": \"Protein-rich and hydrating, good for cravings and control\"\\n  },\\n  {\\n    \"meal_name\": \"Almond Butter on Celery Sticks\",\\n    \"meal_type\": \"SNACKS\",\\n    \"ingredients\": [\"almond butter\", \"celery\"],\\n    \"portion\": \"2 tbsp almond butter, 4 celery sticks\",\\n    \"goal_support\": \"Healthy fats and fiber help maintain satiety between meals\"\\n  },\\n  {\\n    \"meal_name\": \"Seaweed Snacks and Edamame\",\\n    \"meal_type\": \"SNACKS\",\\n    \"ingredients\": [\"seaweed\", \"edamame\"],\\n    \"portion\": \"1/2 cup edamame, 1 small pack seaweed\",\\n    \"goal_support\": \"Light, high-protein snack with essential minerals\"\\n  },\\n  {\\n    \"meal_name\": \"Protein Smoothie with Pea Protein and Berries\",\\n    \"meal_type\": \"SNACKS\",\\n    \"ingredients\": [\"pea protein powder\", \"almond milk\", \"berries\"],\\n    \"portion\": \"1 cup smoothie\",\\n    \"goal_support\": \"High in protein and antioxidants, ideal for energy and repair\"\\n  }\\n]\\n', 'role': 'system'}], 'model': 'gpt-4o', 'response_format': {'type': 'json_object'}, 'stream': False, 'temperature': 0.0}}\n",
      "DEBUG:openai._base_client:Sending HTTP Request: POST https://api.openai.com/v1/chat/completions\n",
      "DEBUG:httpcore.http11:send_request_headers.started request=<Request [b'POST']>\n",
      "DEBUG:httpcore.http11:send_request_headers.complete\n",
      "DEBUG:httpcore.http11:send_request_body.started request=<Request [b'POST']>\n",
      "DEBUG:httpcore.http11:send_request_body.complete\n",
      "DEBUG:httpcore.http11:receive_response_headers.started request=<Request [b'POST']>\n",
      "DEBUG:httpcore.http11:receive_response_headers.complete return_value=(b'HTTP/1.1', 200, b'OK', [(b'Date', b'Sat, 19 Apr 2025 05:50:20 GMT'), (b'Content-Type', b'application/json'), (b'Transfer-Encoding', b'chunked'), (b'Connection', b'keep-alive'), (b'access-control-expose-headers', b'X-Request-ID'), (b'openai-organization', b'user-jtnny41eqie6zxkwrgewu2kd'), (b'openai-processing-ms', b'1092'), (b'openai-version', b'2020-10-01'), (b'x-ratelimit-limit-requests', b'500'), (b'x-ratelimit-limit-tokens', b'30000'), (b'x-ratelimit-remaining-requests', b'499'), (b'x-ratelimit-remaining-tokens', b'24135'), (b'x-ratelimit-reset-requests', b'120ms'), (b'x-ratelimit-reset-tokens', b'11.728s'), (b'x-request-id', b'req_07ce7e4e212e66fae62c457d23ab6b77'), (b'strict-transport-security', b'max-age=31536000; includeSubDomains; preload'), (b'cf-cache-status', b'DYNAMIC'), (b'X-Content-Type-Options', b'nosniff'), (b'Server', b'cloudflare'), (b'CF-RAY', b'932a1fa90c8665ec-MBA'), (b'Content-Encoding', b'gzip'), (b'alt-svc', b'h3=\":443\"; ma=86400')])\n",
      "INFO:httpx:HTTP Request: POST https://api.openai.com/v1/chat/completions \"HTTP/1.1 200 OK\"\n",
      "DEBUG:httpcore.http11:receive_response_body.started request=<Request [b'POST']>\n",
      "DEBUG:httpcore.http11:receive_response_body.complete\n",
      "DEBUG:httpcore.http11:response_closed.started\n",
      "DEBUG:httpcore.http11:response_closed.complete\n",
      "DEBUG:openai._base_client:HTTP Response: POST https://api.openai.com/v1/chat/completions \"200 OK\" Headers({'date': 'Sat, 19 Apr 2025 05:50:20 GMT', 'content-type': 'application/json', 'transfer-encoding': 'chunked', 'connection': 'keep-alive', 'access-control-expose-headers': 'X-Request-ID', 'openai-organization': 'user-jtnny41eqie6zxkwrgewu2kd', 'openai-processing-ms': '1092', 'openai-version': '2020-10-01', 'x-ratelimit-limit-requests': '500', 'x-ratelimit-limit-tokens': '30000', 'x-ratelimit-remaining-requests': '499', 'x-ratelimit-remaining-tokens': '24135', 'x-ratelimit-reset-requests': '120ms', 'x-ratelimit-reset-tokens': '11.728s', 'x-request-id': 'req_07ce7e4e212e66fae62c457d23ab6b77', 'strict-transport-security': 'max-age=31536000; includeSubDomains; preload', 'cf-cache-status': 'DYNAMIC', 'x-content-type-options': 'nosniff', 'server': 'cloudflare', 'cf-ray': '932a1fa90c8665ec-MBA', 'content-encoding': 'gzip', 'alt-svc': 'h3=\":443\"; ma=86400'})\n",
      "DEBUG:openai._base_client:request_id: req_07ce7e4e212e66fae62c457d23ab6b77\n"
     ]
    }
   ],
   "execution_count": 734
  },
  {
   "metadata": {
    "ExecuteTime": {
     "end_time": "2025-04-19T17:44:13.524337Z",
     "start_time": "2025-04-19T05:56:39.563250Z"
    }
   },
   "cell_type": "code",
   "source": "meal_type_analysts[0]",
   "outputs": [
    {
     "data": {
      "text/plain": [
       "MealTypeAnalysts(meal_type='BREAKFAST', analysts=[Analyst(name='Protein Pro', tone='Energetic', theme='High-Protein Breakfast', description='Protein Pro is here to help you kickstart your day with a high-protein breakfast that aligns with your dietary preferences. With a focus on dairy-free and low-carb options, Protein Pro suggests meals like scrambled eggs with spinach and turkey bacon, or a tofu scramble with avocado. This assistant ensures you get the energy you need while maintaining your weight and avoiding peanuts.')])"
      ]
     },
     "execution_count": 742,
     "metadata": {},
     "output_type": "execute_result"
    }
   ],
   "execution_count": 742
  },
  {
   "metadata": {
    "ExecuteTime": {
     "end_time": "2025-04-19T17:44:13.525199Z",
     "start_time": "2025-04-19T06:01:54.109697Z"
    }
   },
   "cell_type": "code",
   "source": [
    "def retrieve_meal_type(meal_type_analysts: List[MealTypeAnalysts], index_to_look):\n",
    "    meal_type_analyst = meal_type_analysts[index_to_look]\n",
    "    return meal_type_analyst.meal_type"
   ],
   "outputs": [],
   "execution_count": 745
  },
  {
   "metadata": {
    "ExecuteTime": {
     "end_time": "2025-04-19T17:44:13.525972Z",
     "start_time": "2025-04-19T06:02:26.499704Z"
    }
   },
   "cell_type": "code",
   "source": "retrieve_meal_type(meal_type_analysts, generated_answer_example, 3)",
   "outputs": [
    {
     "data": {
      "text/plain": [
       "'SNACKS'"
      ]
     },
     "execution_count": 748,
     "metadata": {},
     "output_type": "execute_result"
    }
   ],
   "execution_count": 748
  },
  {
   "metadata": {
    "ExecuteTime": {
     "end_time": "2025-04-19T17:44:13.527108Z",
     "start_time": "2025-04-19T06:34:46.153687Z"
    }
   },
   "cell_type": "code",
   "source": "RecommendedMealList",
   "outputs": [
    {
     "data": {
      "text/plain": [
       "__main__.RecommendedMealList"
      ]
     },
     "execution_count": 794,
     "metadata": {},
     "output_type": "execute_result"
    }
   ],
   "execution_count": 794
  },
  {
   "metadata": {
    "ExecuteTime": {
     "end_time": "2025-04-19T17:44:13.527832Z",
     "start_time": "2025-04-19T06:58:05.884839Z"
    }
   },
   "cell_type": "code",
   "source": [
    "# Testing `write_recommendations` node\n",
    "written_recommendation = write_recommendations(interview_state_example)\n",
    "print(written_recommendation)"
   ],
   "outputs": [
    {
     "name": "stderr",
     "output_type": "stream",
     "text": [
      "DEBUG:openai._base_client:Request options: {'method': 'post', 'url': '/chat/completions', 'files': None, 'json_data': {'messages': [{'content': 'You are a helpful assistant that generates healthy food recommendations based on the user\\'s goals and preferences.\\n\\nInstructions:\\n1. Generate **at least 4 specific meal suggestions** for the given meal type: BREAKFAST.\\n2. Use the following message as context or inspiration for the meal ideas:\\nAbsolutely, Alex! Let\\'s dive into some exciting high-protein breakfast ideas that are both dairy-free and low-carb, perfect for maintaining energy and supporting weight management.\\n\\n1. **Scrambled Eggs with Spinach and Turkey Bacon**: This classic combination is not only high in protein but also low in carbs. The spinach adds a nutritious boost, and turkey bacon provides a lean protein source without the dairy [1].\\n\\n2. **Tofu Scramble with Avocado**: For a plant-based option, a tofu scramble is a fantastic choice. You can mimic scrambled eggs by seasoning tofu with your favorite spices. Pair it with avocado for healthy fats and a creamy texture [1].\\n\\n3. **Chia Pudding**: Chia seeds are a powerhouse of plant-based protein and essential fatty acids. Prepare a chia pudding with a non-dairy milk of your choice, and top it with low-carb fruits like berries for added flavor and nutrients [2].\\n\\n4. **Low-Carb Vegan Fry-Up**: Swap traditional breakfast meats for tofu \\'bacon\\', and include smashed avocado, sautéed mushrooms, and grilled tomatoes. This combination offers a satisfying, high-protein, and low-carb breakfast without any dairy or peanuts [2].\\n\\n5. **Breakfast Salad with Smoked Salmon & Poached Eggs**: For a more gourmet option, consider a breakfast salad featuring smoked salmon and poached eggs. This dish is rich in protein and healthy fats, making it a perfect start to your day [1].\\n\\nThese options ensure you get the energy you need while maintaining your dietary preferences. Enjoy experimenting with these recipes to find your perfect morning meal!\\n\\nSources:\\n[1] https://www.eatingwell.com/gallery/8066388/dairy-free-high-protein-breakfasts/\\n[2] https://www.purition.com/blogs/articles/low-carb-vegan-breakfast-recipes?srsltid=AfmBOopNBuw8xELxDr2cIiciNNnCGCVGga1fvNMGqoX-XgfkvSrZvaS9\\n3. If the message provides fewer than 4 suggestions, generate additional ones that match the user\\'s preferences and goals. name=\\'Space Cadet\\' age=23 gender=\\'Male\\' height_cm=183 weight_kg=65.0 activity_level=\\'Lightly active\\' dietary_preferences=[\\'Dairy-Free\\', \\'Low-Carb\\'] allergies=[\\'Peanuts\\'] health_conditions=[\\'None\\'] weight_goal=\\'Maintain weight\\' past_meals=[]\\n\\nEach recommendation must be in JSON format with these fields:\\n- \"meal_name\": A short, descriptive name for the meal.\\n- \"meal_type\": One of: \"BREAKFAST\", \"LUNCH\", \"DINNER\", \"SNACKS\".\\n- \"ingredients\": A list of main ingredients.\\n- \"portion\": A brief description of the portion size.\\n- \"goal_support\": A sentence on how this meal supports weight maintenance or healthy eating.\\n\\nOutput:\\nReturn a valid JSON object with a field called \"meals\" that contains all your meal suggestions — no markdown, no explanations.\\n\\nExample:\\n{\\n  \"meals\": [\\n    {\\n      \"meal_name\": \"Greek Yogurt Parfait\",\\n      \"meal_type\": \"BREAKFAST\",\\n      \"ingredients\": [\"Greek yogurt\", \"granola\", \"berries\"],\\n      \"portion\": \"1 cup yogurt, 1/4 cup granola, 1/4 cup berries\",\\n      \"goal_support\": \"High in protein and fiber, helps with satiety and energy levels\"\\n    },\\n    ...\\n  ]\\n}\\n', 'role': 'system'}], 'model': 'gpt-4o', 'stream': False, 'temperature': 0.0}}\n",
      "DEBUG:openai._base_client:Sending HTTP Request: POST https://api.openai.com/v1/chat/completions\n",
      "DEBUG:httpcore.connection:connect_tcp.started host='api.openai.com' port=443 local_address=None timeout=None socket_options=None\n",
      "DEBUG:httpcore.connection:connect_tcp.complete return_value=<httpcore._backends.sync.SyncStream object at 0x11b3c7840>\n",
      "DEBUG:httpcore.connection:start_tls.started ssl_context=<ssl.SSLContext object at 0x11936c830> server_hostname='api.openai.com' timeout=None\n",
      "DEBUG:httpcore.connection:start_tls.complete return_value=<httpcore._backends.sync.SyncStream object at 0x11b3c7340>\n",
      "DEBUG:httpcore.http11:send_request_headers.started request=<Request [b'POST']>\n",
      "DEBUG:httpcore.http11:send_request_headers.complete\n",
      "DEBUG:httpcore.http11:send_request_body.started request=<Request [b'POST']>\n",
      "DEBUG:httpcore.http11:send_request_body.complete\n",
      "DEBUG:httpcore.http11:receive_response_headers.started request=<Request [b'POST']>\n",
      "DEBUG:httpcore.http11:receive_response_headers.complete return_value=(b'HTTP/1.1', 200, b'OK', [(b'Date', b'Sat, 19 Apr 2025 06:58:10 GMT'), (b'Content-Type', b'application/json'), (b'Transfer-Encoding', b'chunked'), (b'Connection', b'keep-alive'), (b'access-control-expose-headers', b'X-Request-ID'), (b'openai-organization', b'user-jtnny41eqie6zxkwrgewu2kd'), (b'openai-processing-ms', b'4372'), (b'openai-version', b'2020-10-01'), (b'x-ratelimit-limit-requests', b'500'), (b'x-ratelimit-limit-tokens', b'30000'), (b'x-ratelimit-remaining-requests', b'499'), (b'x-ratelimit-remaining-tokens', b'29167'), (b'x-ratelimit-reset-requests', b'120ms'), (b'x-ratelimit-reset-tokens', b'1.666s'), (b'x-request-id', b'req_2d137ddf31cd30029be6b7fa8526d407'), (b'strict-transport-security', b'max-age=31536000; includeSubDomains; preload'), (b'cf-cache-status', b'DYNAMIC'), (b'Set-Cookie', b'__cf_bm=.5l08UdBDG8qTjw1fRNYPb2JGA7KDJ2QnjRWZuItoN8-1745045890-1.0.1.1-b34dTAsT8CiBhHup7KKDPMCy6LpX6CyNuYJEy7ibb0x83a7deUp7tg4AnnwW7jv4PswEYBbuXF.X_7HOLc64FkU0tRDKWQZRwIS1MUBmGzs; path=/; expires=Sat, 19-Apr-25 07:28:10 GMT; domain=.api.openai.com; HttpOnly; Secure; SameSite=None'), (b'X-Content-Type-Options', b'nosniff'), (b'Set-Cookie', b'_cfuvid=ePykCcnBYz_h4YdxV6hmrdaGc1VWSJGkbBDtjU2k.Yw-1745045890722-0.0.1.1-604800000; path=/; domain=.api.openai.com; HttpOnly; Secure; SameSite=None'), (b'Server', b'cloudflare'), (b'CF-RAY', b'932a82f41f8365ec-MBA'), (b'Content-Encoding', b'gzip'), (b'alt-svc', b'h3=\":443\"; ma=86400')])\n",
      "INFO:httpx:HTTP Request: POST https://api.openai.com/v1/chat/completions \"HTTP/1.1 200 OK\"\n",
      "DEBUG:httpcore.http11:receive_response_body.started request=<Request [b'POST']>\n",
      "DEBUG:httpcore.http11:receive_response_body.complete\n",
      "DEBUG:httpcore.http11:response_closed.started\n",
      "DEBUG:httpcore.http11:response_closed.complete\n",
      "DEBUG:openai._base_client:HTTP Response: POST https://api.openai.com/v1/chat/completions \"200 OK\" Headers([('date', 'Sat, 19 Apr 2025 06:58:10 GMT'), ('content-type', 'application/json'), ('transfer-encoding', 'chunked'), ('connection', 'keep-alive'), ('access-control-expose-headers', 'X-Request-ID'), ('openai-organization', 'user-jtnny41eqie6zxkwrgewu2kd'), ('openai-processing-ms', '4372'), ('openai-version', '2020-10-01'), ('x-ratelimit-limit-requests', '500'), ('x-ratelimit-limit-tokens', '30000'), ('x-ratelimit-remaining-requests', '499'), ('x-ratelimit-remaining-tokens', '29167'), ('x-ratelimit-reset-requests', '120ms'), ('x-ratelimit-reset-tokens', '1.666s'), ('x-request-id', 'req_2d137ddf31cd30029be6b7fa8526d407'), ('strict-transport-security', 'max-age=31536000; includeSubDomains; preload'), ('cf-cache-status', 'DYNAMIC'), ('set-cookie', '__cf_bm=.5l08UdBDG8qTjw1fRNYPb2JGA7KDJ2QnjRWZuItoN8-1745045890-1.0.1.1-b34dTAsT8CiBhHup7KKDPMCy6LpX6CyNuYJEy7ibb0x83a7deUp7tg4AnnwW7jv4PswEYBbuXF.X_7HOLc64FkU0tRDKWQZRwIS1MUBmGzs; path=/; expires=Sat, 19-Apr-25 07:28:10 GMT; domain=.api.openai.com; HttpOnly; Secure; SameSite=None'), ('x-content-type-options', 'nosniff'), ('set-cookie', '_cfuvid=ePykCcnBYz_h4YdxV6hmrdaGc1VWSJGkbBDtjU2k.Yw-1745045890722-0.0.1.1-604800000; path=/; domain=.api.openai.com; HttpOnly; Secure; SameSite=None'), ('server', 'cloudflare'), ('cf-ray', '932a82f41f8365ec-MBA'), ('content-encoding', 'gzip'), ('alt-svc', 'h3=\":443\"; ma=86400')])\n",
      "DEBUG:openai._base_client:request_id: req_2d137ddf31cd30029be6b7fa8526d407\n",
      "DEBUG:openai._base_client:Request options: {'method': 'post', 'url': '/chat/completions', 'files': None, 'json_data': {'messages': [{'content': 'You are a helpful assistant that generates healthy food recommendations based on the user\\'s goals and preferences.\\n\\nInstructions:\\n1. Generate **at least 4 specific meal suggestions** for the given meal type: LUNCH.\\n2. Use the following message as context or inspiration for the meal ideas:\\nCertainly, Nora. When crafting low-carb, dairy-free lunches, the key is to focus on incorporating a variety of proteins, healthy fats, and low-carb vegetables to ensure nutritional balance and satisfaction. Here are a few strategies and examples:\\n\\n1. **Protein-Rich Salads**: Salads can be a great base for a low-carb lunch. For instance, a Dill Chicken Salad or an Avocado Tuna Salad can provide ample protein while keeping carbs low. These salads can be enhanced with ingredients like avocados, which add healthy fats and creaminess without dairy [1].\\n\\n2. **Stuffed Vegetables**: Using vegetables as vessels for other ingredients is a clever way to keep carbs low. For example, Curried Chicken Salad Stuffed Avocados offer a flavorful and filling option that combines protein and healthy fats [1].\\n\\n3. **Seafood Options**: Seafood is naturally low in carbs and can be prepared in various ways. Keto Thai Shrimp Cakes are an excellent choice, providing a flavorful and satisfying meal without dairy [1].\\n\\n4. **Soups and Stews**: A Chicken Fajita Soup can be a hearty and warming option. By focusing on broth-based soups with plenty of vegetables and proteins, you can create a filling meal that aligns with low-carb and dairy-free guidelines [1].\\n\\n5. **Meal Prepping**: Planning and preparing meals in advance can help maintain dietary goals. Utilizing weekly meal plans that are low-carb, gluten-free, and keto-friendly can simplify the process and ensure you have a variety of options ready to go [1].\\n\\nBy focusing on these strategies, you can create a diverse and satisfying menu that adheres to low-carb and dairy-free dietary preferences.\\n\\nSources:\\n[1] peaceloveandlowcarb.com/low-carb-dairy-free-recipes\\n3. If the message provides fewer than 4 suggestions, generate additional ones that match the user\\'s preferences and goals. name=\\'Space Cadet\\' age=23 gender=\\'Male\\' height_cm=183 weight_kg=65.0 activity_level=\\'Lightly active\\' dietary_preferences=[\\'Dairy-Free\\', \\'Low-Carb\\'] allergies=[\\'Peanuts\\'] health_conditions=[\\'None\\'] weight_goal=\\'Maintain weight\\' past_meals=[]\\n\\nEach recommendation must be in JSON format with these fields:\\n- \"meal_name\": A short, descriptive name for the meal.\\n- \"meal_type\": One of: \"BREAKFAST\", \"LUNCH\", \"DINNER\", \"SNACKS\".\\n- \"ingredients\": A list of main ingredients.\\n- \"portion\": A brief description of the portion size.\\n- \"goal_support\": A sentence on how this meal supports weight maintenance or healthy eating.\\n\\nOutput:\\nReturn a valid JSON object with a field called \"meals\" that contains all your meal suggestions — no markdown, no explanations.\\n\\nExample:\\n{\\n  \"meals\": [\\n    {\\n      \"meal_name\": \"Greek Yogurt Parfait\",\\n      \"meal_type\": \"BREAKFAST\",\\n      \"ingredients\": [\"Greek yogurt\", \"granola\", \"berries\"],\\n      \"portion\": \"1 cup yogurt, 1/4 cup granola, 1/4 cup berries\",\\n      \"goal_support\": \"High in protein and fiber, helps with satiety and energy levels\"\\n    },\\n    ...\\n  ]\\n}\\n', 'role': 'system'}], 'model': 'gpt-4o', 'stream': False, 'temperature': 0.0}}\n",
      "DEBUG:openai._base_client:Sending HTTP Request: POST https://api.openai.com/v1/chat/completions\n",
      "DEBUG:httpcore.http11:send_request_headers.started request=<Request [b'POST']>\n",
      "DEBUG:httpcore.http11:send_request_headers.complete\n",
      "DEBUG:httpcore.http11:send_request_body.started request=<Request [b'POST']>\n",
      "DEBUG:httpcore.http11:send_request_body.complete\n",
      "DEBUG:httpcore.http11:receive_response_headers.started request=<Request [b'POST']>\n"
     ]
    },
    {
     "name": "stdout",
     "output_type": "stream",
     "text": [
      "This is the retreived json {'meals': [{'meal_name': 'Scrambled Eggs with Spinach and Turkey Bacon', 'meal_type': 'BREAKFAST', 'ingredients': ['eggs', 'spinach', 'turkey bacon', 'olive oil'], 'portion': '2 eggs, 1 cup spinach, 2 slices turkey bacon', 'goal_support': 'High in protein and low in carbs, this meal provides energy and supports weight maintenance.'}, {'meal_name': 'Tofu Scramble with Avocado', 'meal_type': 'BREAKFAST', 'ingredients': ['tofu', 'avocado', 'bell peppers', 'onions', 'spices'], 'portion': '1 cup tofu, 1/2 avocado, 1/2 cup mixed vegetables', 'goal_support': 'A plant-based, high-protein option that is low in carbs and dairy-free, perfect for maintaining energy levels.'}, {'meal_name': 'Chia Pudding with Berries', 'meal_type': 'BREAKFAST', 'ingredients': ['chia seeds', 'almond milk', 'berries', 'vanilla extract'], 'portion': '1/4 cup chia seeds, 1 cup almond milk, 1/4 cup berries', 'goal_support': 'Rich in plant-based protein and healthy fats, this meal is low-carb and supports weight maintenance.'}, {'meal_name': 'Low-Carb Vegan Fry-Up', 'meal_type': 'BREAKFAST', 'ingredients': [\"tofu 'bacon'\", 'avocado', 'mushrooms', 'tomatoes'], 'portion': \"2 slices tofu 'bacon', 1/2 avocado, 1/2 cup mushrooms, 1 tomato\", 'goal_support': 'A satisfying, high-protein, and low-carb breakfast that is dairy-free and supports a balanced diet.'}, {'meal_name': 'Breakfast Salad with Smoked Salmon & Poached Eggs', 'meal_type': 'BREAKFAST', 'ingredients': ['smoked salmon', 'eggs', 'mixed greens', 'lemon juice'], 'portion': '2 slices smoked salmon, 2 eggs, 1 cup mixed greens', 'goal_support': 'Rich in protein and healthy fats, this gourmet option is perfect for starting your day with balanced nutrition.'}]}\n"
     ]
    },
    {
     "name": "stderr",
     "output_type": "stream",
     "text": [
      "DEBUG:httpcore.http11:receive_response_headers.complete return_value=(b'HTTP/1.1', 200, b'OK', [(b'Date', b'Sat, 19 Apr 2025 06:58:17 GMT'), (b'Content-Type', b'application/json'), (b'Transfer-Encoding', b'chunked'), (b'Connection', b'keep-alive'), (b'access-control-expose-headers', b'X-Request-ID'), (b'openai-organization', b'user-jtnny41eqie6zxkwrgewu2kd'), (b'openai-processing-ms', b'6360'), (b'openai-version', b'2020-10-01'), (b'x-ratelimit-limit-requests', b'500'), (b'x-ratelimit-limit-tokens', b'30000'), (b'x-ratelimit-remaining-requests', b'499'), (b'x-ratelimit-remaining-tokens', b'28920'), (b'x-ratelimit-reset-requests', b'120ms'), (b'x-ratelimit-reset-tokens', b'2.159s'), (b'x-request-id', b'req_d71e406d9311e35dc5e55aa6847aac2f'), (b'strict-transport-security', b'max-age=31536000; includeSubDomains; preload'), (b'cf-cache-status', b'DYNAMIC'), (b'X-Content-Type-Options', b'nosniff'), (b'Server', b'cloudflare'), (b'CF-RAY', b'932a8311eed965ec-MBA'), (b'Content-Encoding', b'gzip'), (b'alt-svc', b'h3=\":443\"; ma=86400')])\n",
      "INFO:httpx:HTTP Request: POST https://api.openai.com/v1/chat/completions \"HTTP/1.1 200 OK\"\n",
      "DEBUG:httpcore.http11:receive_response_body.started request=<Request [b'POST']>\n",
      "DEBUG:httpcore.http11:receive_response_body.complete\n",
      "DEBUG:httpcore.http11:response_closed.started\n",
      "DEBUG:httpcore.http11:response_closed.complete\n",
      "DEBUG:openai._base_client:HTTP Response: POST https://api.openai.com/v1/chat/completions \"200 OK\" Headers({'date': 'Sat, 19 Apr 2025 06:58:17 GMT', 'content-type': 'application/json', 'transfer-encoding': 'chunked', 'connection': 'keep-alive', 'access-control-expose-headers': 'X-Request-ID', 'openai-organization': 'user-jtnny41eqie6zxkwrgewu2kd', 'openai-processing-ms': '6360', 'openai-version': '2020-10-01', 'x-ratelimit-limit-requests': '500', 'x-ratelimit-limit-tokens': '30000', 'x-ratelimit-remaining-requests': '499', 'x-ratelimit-remaining-tokens': '28920', 'x-ratelimit-reset-requests': '120ms', 'x-ratelimit-reset-tokens': '2.159s', 'x-request-id': 'req_d71e406d9311e35dc5e55aa6847aac2f', 'strict-transport-security': 'max-age=31536000; includeSubDomains; preload', 'cf-cache-status': 'DYNAMIC', 'x-content-type-options': 'nosniff', 'server': 'cloudflare', 'cf-ray': '932a8311eed965ec-MBA', 'content-encoding': 'gzip', 'alt-svc': 'h3=\":443\"; ma=86400'})\n",
      "DEBUG:openai._base_client:request_id: req_d71e406d9311e35dc5e55aa6847aac2f\n",
      "DEBUG:openai._base_client:Request options: {'method': 'post', 'url': '/chat/completions', 'files': None, 'json_data': {'messages': [{'content': 'You are a helpful assistant that generates healthy food recommendations based on the user\\'s goals and preferences.\\n\\nInstructions:\\n1. Generate **at least 4 specific meal suggestions** for the given meal type: DINNER.\\n2. Use the following message as context or inspiration for the meal ideas:\\nCertainly, Nancy. One delicious and low-carb dinner suggestion is the \"Easy Salmon Cakes with Arugula Salad.\" This meal contains no more than 14 grams of carbohydrates per serving, making it an excellent choice for those looking to maintain their weight while adhering to a low-carb diet. The salmon cakes are packed with nutritious protein, and the arugula salad provides a fresh, low-carb accompaniment that is both satisfying and balanced in terms of nutrients [1].\\n\\nThe reason this meal works well for maintaining weight is due to its high protein content, which helps in promoting satiety and preserving muscle mass, both crucial for weight management. Additionally, the low carbohydrate content ensures that you stay within your carb limits, which is essential for those following a low-carb diet plan [1].\\n\\n[1] eatingwell.com/gallery/7907676/low-carb-dinner-recipes-to-always-make/\\n3. If the message provides fewer than 4 suggestions, generate additional ones that match the user\\'s preferences and goals. name=\\'Space Cadet\\' age=23 gender=\\'Male\\' height_cm=183 weight_kg=65.0 activity_level=\\'Lightly active\\' dietary_preferences=[\\'Dairy-Free\\', \\'Low-Carb\\'] allergies=[\\'Peanuts\\'] health_conditions=[\\'None\\'] weight_goal=\\'Maintain weight\\' past_meals=[]\\n\\nEach recommendation must be in JSON format with these fields:\\n- \"meal_name\": A short, descriptive name for the meal.\\n- \"meal_type\": One of: \"BREAKFAST\", \"LUNCH\", \"DINNER\", \"SNACKS\".\\n- \"ingredients\": A list of main ingredients.\\n- \"portion\": A brief description of the portion size.\\n- \"goal_support\": A sentence on how this meal supports weight maintenance or healthy eating.\\n\\nOutput:\\nReturn a valid JSON object with a field called \"meals\" that contains all your meal suggestions — no markdown, no explanations.\\n\\nExample:\\n{\\n  \"meals\": [\\n    {\\n      \"meal_name\": \"Greek Yogurt Parfait\",\\n      \"meal_type\": \"BREAKFAST\",\\n      \"ingredients\": [\"Greek yogurt\", \"granola\", \"berries\"],\\n      \"portion\": \"1 cup yogurt, 1/4 cup granola, 1/4 cup berries\",\\n      \"goal_support\": \"High in protein and fiber, helps with satiety and energy levels\"\\n    },\\n    ...\\n  ]\\n}\\n', 'role': 'system'}], 'model': 'gpt-4o', 'stream': False, 'temperature': 0.0}}\n",
      "DEBUG:openai._base_client:Sending HTTP Request: POST https://api.openai.com/v1/chat/completions\n",
      "DEBUG:httpcore.http11:send_request_headers.started request=<Request [b'POST']>\n",
      "DEBUG:httpcore.http11:send_request_headers.complete\n",
      "DEBUG:httpcore.http11:send_request_body.started request=<Request [b'POST']>\n",
      "DEBUG:httpcore.http11:send_request_body.complete\n",
      "DEBUG:httpcore.http11:receive_response_headers.started request=<Request [b'POST']>\n"
     ]
    },
    {
     "name": "stdout",
     "output_type": "stream",
     "text": [
      "This is the retreived json {'meals': [{'meal_name': 'Dill Chicken Salad', 'meal_type': 'LUNCH', 'ingredients': ['chicken breast', 'dill', 'celery', 'red onion', 'avocado', 'lemon juice'], 'portion': '1 cup of chicken salad served on a bed of mixed greens', 'goal_support': 'This meal is high in protein and healthy fats, supporting weight maintenance and providing sustained energy.'}, {'meal_name': 'Curried Chicken Salad Stuffed Avocados', 'meal_type': 'LUNCH', 'ingredients': ['chicken breast', 'curry powder', 'avocado', 'red bell pepper', 'cilantro', 'lime juice'], 'portion': '2 avocado halves filled with curried chicken salad', 'goal_support': 'Rich in protein and healthy fats, this meal is satisfying and aligns with low-carb, dairy-free dietary preferences.'}, {'meal_name': 'Keto Thai Shrimp Cakes', 'meal_type': 'LUNCH', 'ingredients': ['shrimp', 'coconut flour', 'green onions', 'cilantro', 'lime zest', 'egg'], 'portion': '3 shrimp cakes served with a side of mixed greens', 'goal_support': 'These shrimp cakes are low in carbs and high in protein, making them a great option for maintaining weight and energy levels.'}, {'meal_name': 'Chicken Fajita Soup', 'meal_type': 'LUNCH', 'ingredients': ['chicken breast', 'bell peppers', 'onion', 'chicken broth', 'cumin', 'chili powder'], 'portion': '1 bowl of soup (about 2 cups)', 'goal_support': 'This hearty soup is low in carbs and provides a good balance of protein and vegetables, supporting a healthy diet and weight maintenance.'}]}\n"
     ]
    },
    {
     "name": "stderr",
     "output_type": "stream",
     "text": [
      "DEBUG:httpcore.http11:receive_response_headers.complete return_value=(b'HTTP/1.1', 200, b'OK', [(b'Date', b'Sat, 19 Apr 2025 06:58:21 GMT'), (b'Content-Type', b'application/json'), (b'Transfer-Encoding', b'chunked'), (b'Connection', b'keep-alive'), (b'access-control-expose-headers', b'X-Request-ID'), (b'openai-organization', b'user-jtnny41eqie6zxkwrgewu2kd'), (b'openai-processing-ms', b'3957'), (b'openai-version', b'2020-10-01'), (b'x-ratelimit-limit-requests', b'500'), (b'x-ratelimit-limit-tokens', b'30000'), (b'x-ratelimit-remaining-requests', b'499'), (b'x-ratelimit-remaining-tokens', b'29207'), (b'x-ratelimit-reset-requests', b'120ms'), (b'x-ratelimit-reset-tokens', b'1.585s'), (b'x-request-id', b'req_02aaff8e63e1706229e951e3f41ad57e'), (b'strict-transport-security', b'max-age=31536000; includeSubDomains; preload'), (b'cf-cache-status', b'DYNAMIC'), (b'X-Content-Type-Options', b'nosniff'), (b'Server', b'cloudflare'), (b'CF-RAY', b'932a833b7fc465ec-MBA'), (b'Content-Encoding', b'gzip'), (b'alt-svc', b'h3=\":443\"; ma=86400')])\n",
      "INFO:httpx:HTTP Request: POST https://api.openai.com/v1/chat/completions \"HTTP/1.1 200 OK\"\n",
      "DEBUG:httpcore.http11:receive_response_body.started request=<Request [b'POST']>\n",
      "DEBUG:httpcore.http11:receive_response_body.complete\n",
      "DEBUG:httpcore.http11:response_closed.started\n",
      "DEBUG:httpcore.http11:response_closed.complete\n",
      "DEBUG:openai._base_client:HTTP Response: POST https://api.openai.com/v1/chat/completions \"200 OK\" Headers({'date': 'Sat, 19 Apr 2025 06:58:21 GMT', 'content-type': 'application/json', 'transfer-encoding': 'chunked', 'connection': 'keep-alive', 'access-control-expose-headers': 'X-Request-ID', 'openai-organization': 'user-jtnny41eqie6zxkwrgewu2kd', 'openai-processing-ms': '3957', 'openai-version': '2020-10-01', 'x-ratelimit-limit-requests': '500', 'x-ratelimit-limit-tokens': '30000', 'x-ratelimit-remaining-requests': '499', 'x-ratelimit-remaining-tokens': '29207', 'x-ratelimit-reset-requests': '120ms', 'x-ratelimit-reset-tokens': '1.585s', 'x-request-id': 'req_02aaff8e63e1706229e951e3f41ad57e', 'strict-transport-security': 'max-age=31536000; includeSubDomains; preload', 'cf-cache-status': 'DYNAMIC', 'x-content-type-options': 'nosniff', 'server': 'cloudflare', 'cf-ray': '932a833b7fc465ec-MBA', 'content-encoding': 'gzip', 'alt-svc': 'h3=\":443\"; ma=86400'})\n",
      "DEBUG:openai._base_client:request_id: req_02aaff8e63e1706229e951e3f41ad57e\n",
      "DEBUG:openai._base_client:Request options: {'method': 'post', 'url': '/chat/completions', 'files': None, 'json_data': {'messages': [{'content': 'You are a helpful assistant that generates healthy food recommendations based on the user\\'s goals and preferences.\\n\\nInstructions:\\n1. Generate **at least 4 specific meal suggestions** for the given meal type: SNACKS.\\n2. Use the following message as context or inspiration for the meal ideas:\\nCertainly, Snack-Savvy Sam! When it comes to low-carb snacking, there are plenty of delicious and satisfying options to explore. Here are a few of my favorites:\\n\\n1. **Flavored Popcorn and Marinated Cheese**: These snacks are not only tasty but also keep your carb intake low, with just 5 or fewer grams of carbs per serving [1].\\n\\n2. **Pickles and Olives**: Both offer a salty crunch that satisfies cravings for something savory, without the higher carbohydrate content typically found in chips and pretzels. Just be mindful of the sodium content, and opt for low-sodium varieties if needed [2].\\n\\n3. **Shrimp Cocktail with No-Carb Sauce**: This is a refreshing and protein-rich option that can be quite satisfying [2].\\n\\n4. **Bone Broth**: Perfect for a comforting snack, especially on a cold day. It\\'s rich in protein and nutrients, and you can enjoy it on its own or pair it with low-carb bread or vegetables if you want to add some carbohydrates [2].\\n\\n5. **Jerky and Deli Meats**: These are quick, no-cook options that are carbohydrate-free if you select varieties without added sugar. They are high in protein, making them a filling snack [2].\\n\\n6. **Cheese Sticks**: With minimal carbohydrates, cheese sticks are a satisfying and delicious option that also boosts your protein intake [3].\\n\\nThese snacks not only help keep your carb intake in check but also ensure you enjoy a variety of flavors and textures. Whether you\\'re looking for something quick or a more substantial bite, these options have you covered.\\n\\nSources:\\n[1] tasteofhome.com\\n[2] health.com\\n[3] peopleschoicebeefjerky.com\\n3. If the message provides fewer than 4 suggestions, generate additional ones that match the user\\'s preferences and goals. name=\\'Space Cadet\\' age=23 gender=\\'Male\\' height_cm=183 weight_kg=65.0 activity_level=\\'Lightly active\\' dietary_preferences=[\\'Dairy-Free\\', \\'Low-Carb\\'] allergies=[\\'Peanuts\\'] health_conditions=[\\'None\\'] weight_goal=\\'Maintain weight\\' past_meals=[]\\n\\nEach recommendation must be in JSON format with these fields:\\n- \"meal_name\": A short, descriptive name for the meal.\\n- \"meal_type\": One of: \"BREAKFAST\", \"LUNCH\", \"DINNER\", \"SNACKS\".\\n- \"ingredients\": A list of main ingredients.\\n- \"portion\": A brief description of the portion size.\\n- \"goal_support\": A sentence on how this meal supports weight maintenance or healthy eating.\\n\\nOutput:\\nReturn a valid JSON object with a field called \"meals\" that contains all your meal suggestions — no markdown, no explanations.\\n\\nExample:\\n{\\n  \"meals\": [\\n    {\\n      \"meal_name\": \"Greek Yogurt Parfait\",\\n      \"meal_type\": \"BREAKFAST\",\\n      \"ingredients\": [\"Greek yogurt\", \"granola\", \"berries\"],\\n      \"portion\": \"1 cup yogurt, 1/4 cup granola, 1/4 cup berries\",\\n      \"goal_support\": \"High in protein and fiber, helps with satiety and energy levels\"\\n    },\\n    ...\\n  ]\\n}\\n', 'role': 'system'}], 'model': 'gpt-4o', 'stream': False, 'temperature': 0.0}}\n",
      "DEBUG:openai._base_client:Sending HTTP Request: POST https://api.openai.com/v1/chat/completions\n",
      "DEBUG:httpcore.http11:send_request_headers.started request=<Request [b'POST']>\n",
      "DEBUG:httpcore.http11:send_request_headers.complete\n",
      "DEBUG:httpcore.http11:send_request_body.started request=<Request [b'POST']>\n",
      "DEBUG:httpcore.http11:send_request_body.complete\n",
      "DEBUG:httpcore.http11:receive_response_headers.started request=<Request [b'POST']>\n"
     ]
    },
    {
     "name": "stdout",
     "output_type": "stream",
     "text": [
      "This is the retreived json {'meals': [{'meal_name': 'Easy Salmon Cakes with Arugula Salad', 'meal_type': 'DINNER', 'ingredients': ['salmon', 'eggs', 'almond flour', 'arugula', 'lemon', 'olive oil'], 'portion': '2 salmon cakes with 1 cup of arugula salad', 'goal_support': 'High in protein and low in carbs, promoting satiety and muscle preservation.'}, {'meal_name': 'Zucchini Noodles with Turkey Meatballs', 'meal_type': 'DINNER', 'ingredients': ['zucchini', 'ground turkey', 'garlic', 'tomato sauce', 'basil'], 'portion': '1 cup of zucchini noodles with 4 turkey meatballs', 'goal_support': 'Low-carb and high in protein, helping to maintain weight and muscle mass.'}, {'meal_name': 'Grilled Chicken with Cauliflower Rice', 'meal_type': 'DINNER', 'ingredients': ['chicken breast', 'cauliflower', 'olive oil', 'garlic', 'parsley'], 'portion': '1 grilled chicken breast with 1 cup of cauliflower rice', 'goal_support': 'Provides lean protein and low-carb vegetables, supporting weight maintenance.'}, {'meal_name': 'Shrimp Stir-Fry with Bell Peppers', 'meal_type': 'DINNER', 'ingredients': ['shrimp', 'bell peppers', 'broccoli', 'soy sauce', 'ginger'], 'portion': '1 cup of shrimp stir-fry', 'goal_support': 'Rich in protein and low in carbohydrates, ideal for maintaining weight.'}]}\n"
     ]
    },
    {
     "name": "stderr",
     "output_type": "stream",
     "text": [
      "DEBUG:httpcore.http11:receive_response_headers.complete return_value=(b'HTTP/1.1', 200, b'OK', [(b'Date', b'Sat, 19 Apr 2025 06:58:25 GMT'), (b'Content-Type', b'application/json'), (b'Transfer-Encoding', b'chunked'), (b'Connection', b'keep-alive'), (b'access-control-expose-headers', b'X-Request-ID'), (b'openai-organization', b'user-jtnny41eqie6zxkwrgewu2kd'), (b'openai-processing-ms', b'3276'), (b'openai-version', b'2020-10-01'), (b'x-ratelimit-limit-requests', b'500'), (b'x-ratelimit-limit-tokens', b'30000'), (b'x-ratelimit-remaining-requests', b'499'), (b'x-ratelimit-remaining-tokens', b'29041'), (b'x-ratelimit-reset-requests', b'120ms'), (b'x-ratelimit-reset-tokens', b'1.917s'), (b'x-request-id', b'req_5e735051d3cce9a2c6591cf86a425f86'), (b'strict-transport-security', b'max-age=31536000; includeSubDomains; preload'), (b'cf-cache-status', b'DYNAMIC'), (b'X-Content-Type-Options', b'nosniff'), (b'Server', b'cloudflare'), (b'CF-RAY', b'932a83561e4565ec-MBA'), (b'Content-Encoding', b'gzip'), (b'alt-svc', b'h3=\":443\"; ma=86400')])\n",
      "INFO:httpx:HTTP Request: POST https://api.openai.com/v1/chat/completions \"HTTP/1.1 200 OK\"\n",
      "DEBUG:httpcore.http11:receive_response_body.started request=<Request [b'POST']>\n",
      "DEBUG:httpcore.http11:receive_response_body.complete\n",
      "DEBUG:httpcore.http11:response_closed.started\n",
      "DEBUG:httpcore.http11:response_closed.complete\n",
      "DEBUG:openai._base_client:HTTP Response: POST https://api.openai.com/v1/chat/completions \"200 OK\" Headers({'date': 'Sat, 19 Apr 2025 06:58:25 GMT', 'content-type': 'application/json', 'transfer-encoding': 'chunked', 'connection': 'keep-alive', 'access-control-expose-headers': 'X-Request-ID', 'openai-organization': 'user-jtnny41eqie6zxkwrgewu2kd', 'openai-processing-ms': '3276', 'openai-version': '2020-10-01', 'x-ratelimit-limit-requests': '500', 'x-ratelimit-limit-tokens': '30000', 'x-ratelimit-remaining-requests': '499', 'x-ratelimit-remaining-tokens': '29041', 'x-ratelimit-reset-requests': '120ms', 'x-ratelimit-reset-tokens': '1.917s', 'x-request-id': 'req_5e735051d3cce9a2c6591cf86a425f86', 'strict-transport-security': 'max-age=31536000; includeSubDomains; preload', 'cf-cache-status': 'DYNAMIC', 'x-content-type-options': 'nosniff', 'server': 'cloudflare', 'cf-ray': '932a83561e4565ec-MBA', 'content-encoding': 'gzip', 'alt-svc': 'h3=\":443\"; ma=86400'})\n",
      "DEBUG:openai._base_client:request_id: req_5e735051d3cce9a2c6591cf86a425f86\n"
     ]
    },
    {
     "name": "stdout",
     "output_type": "stream",
     "text": [
      "This is the retreived json {'meals': [{'meal_name': 'Cucumber and Avocado Bites', 'meal_type': 'SNACKS', 'ingredients': ['Cucumber', 'Avocado', 'Lemon juice', 'Salt', 'Pepper'], 'portion': '6 cucumber slices topped with avocado mash', 'goal_support': 'Low in carbs and high in healthy fats, perfect for maintaining energy levels.'}, {'meal_name': 'Roasted Chickpeas', 'meal_type': 'SNACKS', 'ingredients': ['Chickpeas', 'Olive oil', 'Paprika', 'Garlic powder', 'Salt'], 'portion': '1/2 cup roasted chickpeas', 'goal_support': 'Provides a crunchy, satisfying snack with protein and fiber to support weight maintenance.'}, {'meal_name': 'Almond Butter and Celery Sticks', 'meal_type': 'SNACKS', 'ingredients': ['Celery sticks', 'Almond butter'], 'portion': '4 celery sticks with 2 tablespoons of almond butter', 'goal_support': 'A low-carb, dairy-free snack that offers healthy fats and fiber to keep you full.'}, {'meal_name': 'Turkey Roll-Ups', 'meal_type': 'SNACKS', 'ingredients': ['Turkey slices', 'Spinach leaves', 'Mustard'], 'portion': '3 turkey roll-ups', 'goal_support': 'High in protein and low in carbs, these roll-ups are great for maintaining weight and energy.'}]}\n",
      "{'recommended_meals': {'user_profile': UserProfile(name='Space Cadet', age=23, gender='Male', height_cm=183, weight_kg=65.0, activity_level='Lightly active', dietary_preferences=['Dairy-Free', 'Low-Carb'], allergies=['Peanuts'], health_conditions=['None'], weight_goal='Maintain weight', past_meals=[]), 'recommended_meals': [{'meal_name': 'Scrambled Eggs with Spinach and Turkey Bacon', 'meal_type': 'BREAKFAST', 'ingredients': ['eggs', 'spinach', 'turkey bacon', 'olive oil'], 'portion': '2 eggs, 1 cup spinach, 2 slices turkey bacon', 'goal_support': 'High in protein and low in carbs, this meal provides energy and supports weight maintenance.'}, {'meal_name': 'Tofu Scramble with Avocado', 'meal_type': 'BREAKFAST', 'ingredients': ['tofu', 'avocado', 'bell peppers', 'onions', 'spices'], 'portion': '1 cup tofu, 1/2 avocado, 1/2 cup mixed vegetables', 'goal_support': 'A plant-based, high-protein option that is low in carbs and dairy-free, perfect for maintaining energy levels.'}, {'meal_name': 'Chia Pudding with Berries', 'meal_type': 'BREAKFAST', 'ingredients': ['chia seeds', 'almond milk', 'berries', 'vanilla extract'], 'portion': '1/4 cup chia seeds, 1 cup almond milk, 1/4 cup berries', 'goal_support': 'Rich in plant-based protein and healthy fats, this meal is low-carb and supports weight maintenance.'}, {'meal_name': 'Low-Carb Vegan Fry-Up', 'meal_type': 'BREAKFAST', 'ingredients': [\"tofu 'bacon'\", 'avocado', 'mushrooms', 'tomatoes'], 'portion': \"2 slices tofu 'bacon', 1/2 avocado, 1/2 cup mushrooms, 1 tomato\", 'goal_support': 'A satisfying, high-protein, and low-carb breakfast that is dairy-free and supports a balanced diet.'}, {'meal_name': 'Breakfast Salad with Smoked Salmon & Poached Eggs', 'meal_type': 'BREAKFAST', 'ingredients': ['smoked salmon', 'eggs', 'mixed greens', 'lemon juice'], 'portion': '2 slices smoked salmon, 2 eggs, 1 cup mixed greens', 'goal_support': 'Rich in protein and healthy fats, this gourmet option is perfect for starting your day with balanced nutrition.'}, {'meal_name': 'Dill Chicken Salad', 'meal_type': 'LUNCH', 'ingredients': ['chicken breast', 'dill', 'celery', 'red onion', 'avocado', 'lemon juice'], 'portion': '1 cup of chicken salad served on a bed of mixed greens', 'goal_support': 'This meal is high in protein and healthy fats, supporting weight maintenance and providing sustained energy.'}, {'meal_name': 'Curried Chicken Salad Stuffed Avocados', 'meal_type': 'LUNCH', 'ingredients': ['chicken breast', 'curry powder', 'avocado', 'red bell pepper', 'cilantro', 'lime juice'], 'portion': '2 avocado halves filled with curried chicken salad', 'goal_support': 'Rich in protein and healthy fats, this meal is satisfying and aligns with low-carb, dairy-free dietary preferences.'}, {'meal_name': 'Keto Thai Shrimp Cakes', 'meal_type': 'LUNCH', 'ingredients': ['shrimp', 'coconut flour', 'green onions', 'cilantro', 'lime zest', 'egg'], 'portion': '3 shrimp cakes served with a side of mixed greens', 'goal_support': 'These shrimp cakes are low in carbs and high in protein, making them a great option for maintaining weight and energy levels.'}, {'meal_name': 'Chicken Fajita Soup', 'meal_type': 'LUNCH', 'ingredients': ['chicken breast', 'bell peppers', 'onion', 'chicken broth', 'cumin', 'chili powder'], 'portion': '1 bowl of soup (about 2 cups)', 'goal_support': 'This hearty soup is low in carbs and provides a good balance of protein and vegetables, supporting a healthy diet and weight maintenance.'}, {'meal_name': 'Easy Salmon Cakes with Arugula Salad', 'meal_type': 'DINNER', 'ingredients': ['salmon', 'eggs', 'almond flour', 'arugula', 'lemon', 'olive oil'], 'portion': '2 salmon cakes with 1 cup of arugula salad', 'goal_support': 'High in protein and low in carbs, promoting satiety and muscle preservation.'}, {'meal_name': 'Zucchini Noodles with Turkey Meatballs', 'meal_type': 'DINNER', 'ingredients': ['zucchini', 'ground turkey', 'garlic', 'tomato sauce', 'basil'], 'portion': '1 cup of zucchini noodles with 4 turkey meatballs', 'goal_support': 'Low-carb and high in protein, helping to maintain weight and muscle mass.'}, {'meal_name': 'Grilled Chicken with Cauliflower Rice', 'meal_type': 'DINNER', 'ingredients': ['chicken breast', 'cauliflower', 'olive oil', 'garlic', 'parsley'], 'portion': '1 grilled chicken breast with 1 cup of cauliflower rice', 'goal_support': 'Provides lean protein and low-carb vegetables, supporting weight maintenance.'}, {'meal_name': 'Shrimp Stir-Fry with Bell Peppers', 'meal_type': 'DINNER', 'ingredients': ['shrimp', 'bell peppers', 'broccoli', 'soy sauce', 'ginger'], 'portion': '1 cup of shrimp stir-fry', 'goal_support': 'Rich in protein and low in carbohydrates, ideal for maintaining weight.'}, {'meal_name': 'Cucumber and Avocado Bites', 'meal_type': 'SNACKS', 'ingredients': ['Cucumber', 'Avocado', 'Lemon juice', 'Salt', 'Pepper'], 'portion': '6 cucumber slices topped with avocado mash', 'goal_support': 'Low in carbs and high in healthy fats, perfect for maintaining energy levels.'}, {'meal_name': 'Roasted Chickpeas', 'meal_type': 'SNACKS', 'ingredients': ['Chickpeas', 'Olive oil', 'Paprika', 'Garlic powder', 'Salt'], 'portion': '1/2 cup roasted chickpeas', 'goal_support': 'Provides a crunchy, satisfying snack with protein and fiber to support weight maintenance.'}, {'meal_name': 'Almond Butter and Celery Sticks', 'meal_type': 'SNACKS', 'ingredients': ['Celery sticks', 'Almond butter'], 'portion': '4 celery sticks with 2 tablespoons of almond butter', 'goal_support': 'A low-carb, dairy-free snack that offers healthy fats and fiber to keep you full.'}, {'meal_name': 'Turkey Roll-Ups', 'meal_type': 'SNACKS', 'ingredients': ['Turkey slices', 'Spinach leaves', 'Mustard'], 'portion': '3 turkey roll-ups', 'goal_support': 'High in protein and low in carbs, these roll-ups are great for maintaining weight and energy.'}]}}\n"
     ]
    }
   ],
   "execution_count": 833
  },
  {
   "metadata": {
    "ExecuteTime": {
     "end_time": "2025-04-19T17:44:13.529241Z",
     "start_time": "2025-04-19T06:59:15.424663Z"
    }
   },
   "cell_type": "code",
   "source": "written_recommendation.get(\"recommended_meals\").get(\"recommended_meals\")",
   "outputs": [
    {
     "data": {
      "text/plain": [
       "[{'meal_name': 'Scrambled Eggs with Spinach and Turkey Bacon',\n",
       "  'meal_type': 'BREAKFAST',\n",
       "  'ingredients': ['eggs', 'spinach', 'turkey bacon', 'olive oil'],\n",
       "  'portion': '2 eggs, 1 cup spinach, 2 slices turkey bacon',\n",
       "  'goal_support': 'High in protein and low in carbs, this meal provides energy and supports weight maintenance.'},\n",
       " {'meal_name': 'Tofu Scramble with Avocado',\n",
       "  'meal_type': 'BREAKFAST',\n",
       "  'ingredients': ['tofu', 'avocado', 'bell peppers', 'onions', 'spices'],\n",
       "  'portion': '1 cup tofu, 1/2 avocado, 1/2 cup mixed vegetables',\n",
       "  'goal_support': 'A plant-based, high-protein option that is low in carbs and dairy-free, perfect for maintaining energy levels.'},\n",
       " {'meal_name': 'Chia Pudding with Berries',\n",
       "  'meal_type': 'BREAKFAST',\n",
       "  'ingredients': ['chia seeds', 'almond milk', 'berries', 'vanilla extract'],\n",
       "  'portion': '1/4 cup chia seeds, 1 cup almond milk, 1/4 cup berries',\n",
       "  'goal_support': 'Rich in plant-based protein and healthy fats, this meal is low-carb and supports weight maintenance.'},\n",
       " {'meal_name': 'Low-Carb Vegan Fry-Up',\n",
       "  'meal_type': 'BREAKFAST',\n",
       "  'ingredients': [\"tofu 'bacon'\", 'avocado', 'mushrooms', 'tomatoes'],\n",
       "  'portion': \"2 slices tofu 'bacon', 1/2 avocado, 1/2 cup mushrooms, 1 tomato\",\n",
       "  'goal_support': 'A satisfying, high-protein, and low-carb breakfast that is dairy-free and supports a balanced diet.'},\n",
       " {'meal_name': 'Breakfast Salad with Smoked Salmon & Poached Eggs',\n",
       "  'meal_type': 'BREAKFAST',\n",
       "  'ingredients': ['smoked salmon', 'eggs', 'mixed greens', 'lemon juice'],\n",
       "  'portion': '2 slices smoked salmon, 2 eggs, 1 cup mixed greens',\n",
       "  'goal_support': 'Rich in protein and healthy fats, this gourmet option is perfect for starting your day with balanced nutrition.'},\n",
       " {'meal_name': 'Dill Chicken Salad',\n",
       "  'meal_type': 'LUNCH',\n",
       "  'ingredients': ['chicken breast',\n",
       "   'dill',\n",
       "   'celery',\n",
       "   'red onion',\n",
       "   'avocado',\n",
       "   'lemon juice'],\n",
       "  'portion': '1 cup of chicken salad served on a bed of mixed greens',\n",
       "  'goal_support': 'This meal is high in protein and healthy fats, supporting weight maintenance and providing sustained energy.'},\n",
       " {'meal_name': 'Curried Chicken Salad Stuffed Avocados',\n",
       "  'meal_type': 'LUNCH',\n",
       "  'ingredients': ['chicken breast',\n",
       "   'curry powder',\n",
       "   'avocado',\n",
       "   'red bell pepper',\n",
       "   'cilantro',\n",
       "   'lime juice'],\n",
       "  'portion': '2 avocado halves filled with curried chicken salad',\n",
       "  'goal_support': 'Rich in protein and healthy fats, this meal is satisfying and aligns with low-carb, dairy-free dietary preferences.'},\n",
       " {'meal_name': 'Keto Thai Shrimp Cakes',\n",
       "  'meal_type': 'LUNCH',\n",
       "  'ingredients': ['shrimp',\n",
       "   'coconut flour',\n",
       "   'green onions',\n",
       "   'cilantro',\n",
       "   'lime zest',\n",
       "   'egg'],\n",
       "  'portion': '3 shrimp cakes served with a side of mixed greens',\n",
       "  'goal_support': 'These shrimp cakes are low in carbs and high in protein, making them a great option for maintaining weight and energy levels.'},\n",
       " {'meal_name': 'Chicken Fajita Soup',\n",
       "  'meal_type': 'LUNCH',\n",
       "  'ingredients': ['chicken breast',\n",
       "   'bell peppers',\n",
       "   'onion',\n",
       "   'chicken broth',\n",
       "   'cumin',\n",
       "   'chili powder'],\n",
       "  'portion': '1 bowl of soup (about 2 cups)',\n",
       "  'goal_support': 'This hearty soup is low in carbs and provides a good balance of protein and vegetables, supporting a healthy diet and weight maintenance.'},\n",
       " {'meal_name': 'Easy Salmon Cakes with Arugula Salad',\n",
       "  'meal_type': 'DINNER',\n",
       "  'ingredients': ['salmon',\n",
       "   'eggs',\n",
       "   'almond flour',\n",
       "   'arugula',\n",
       "   'lemon',\n",
       "   'olive oil'],\n",
       "  'portion': '2 salmon cakes with 1 cup of arugula salad',\n",
       "  'goal_support': 'High in protein and low in carbs, promoting satiety and muscle preservation.'},\n",
       " {'meal_name': 'Zucchini Noodles with Turkey Meatballs',\n",
       "  'meal_type': 'DINNER',\n",
       "  'ingredients': ['zucchini',\n",
       "   'ground turkey',\n",
       "   'garlic',\n",
       "   'tomato sauce',\n",
       "   'basil'],\n",
       "  'portion': '1 cup of zucchini noodles with 4 turkey meatballs',\n",
       "  'goal_support': 'Low-carb and high in protein, helping to maintain weight and muscle mass.'},\n",
       " {'meal_name': 'Grilled Chicken with Cauliflower Rice',\n",
       "  'meal_type': 'DINNER',\n",
       "  'ingredients': ['chicken breast',\n",
       "   'cauliflower',\n",
       "   'olive oil',\n",
       "   'garlic',\n",
       "   'parsley'],\n",
       "  'portion': '1 grilled chicken breast with 1 cup of cauliflower rice',\n",
       "  'goal_support': 'Provides lean protein and low-carb vegetables, supporting weight maintenance.'},\n",
       " {'meal_name': 'Shrimp Stir-Fry with Bell Peppers',\n",
       "  'meal_type': 'DINNER',\n",
       "  'ingredients': ['shrimp', 'bell peppers', 'broccoli', 'soy sauce', 'ginger'],\n",
       "  'portion': '1 cup of shrimp stir-fry',\n",
       "  'goal_support': 'Rich in protein and low in carbohydrates, ideal for maintaining weight.'},\n",
       " {'meal_name': 'Cucumber and Avocado Bites',\n",
       "  'meal_type': 'SNACKS',\n",
       "  'ingredients': ['Cucumber', 'Avocado', 'Lemon juice', 'Salt', 'Pepper'],\n",
       "  'portion': '6 cucumber slices topped with avocado mash',\n",
       "  'goal_support': 'Low in carbs and high in healthy fats, perfect for maintaining energy levels.'},\n",
       " {'meal_name': 'Roasted Chickpeas',\n",
       "  'meal_type': 'SNACKS',\n",
       "  'ingredients': ['Chickpeas',\n",
       "   'Olive oil',\n",
       "   'Paprika',\n",
       "   'Garlic powder',\n",
       "   'Salt'],\n",
       "  'portion': '1/2 cup roasted chickpeas',\n",
       "  'goal_support': 'Provides a crunchy, satisfying snack with protein and fiber to support weight maintenance.'},\n",
       " {'meal_name': 'Almond Butter and Celery Sticks',\n",
       "  'meal_type': 'SNACKS',\n",
       "  'ingredients': ['Celery sticks', 'Almond butter'],\n",
       "  'portion': '4 celery sticks with 2 tablespoons of almond butter',\n",
       "  'goal_support': 'A low-carb, dairy-free snack that offers healthy fats and fiber to keep you full.'},\n",
       " {'meal_name': 'Turkey Roll-Ups',\n",
       "  'meal_type': 'SNACKS',\n",
       "  'ingredients': ['Turkey slices', 'Spinach leaves', 'Mustard'],\n",
       "  'portion': '3 turkey roll-ups',\n",
       "  'goal_support': 'High in protein and low in carbs, these roll-ups are great for maintaining weight and energy.'}]"
      ]
     },
     "execution_count": 838,
     "metadata": {},
     "output_type": "execute_result"
    }
   ],
   "execution_count": 838
  },
  {
   "metadata": {
    "ExecuteTime": {
     "end_time": "2025-04-19T17:47:18.477988Z",
     "start_time": "2025-04-19T17:47:18.457199Z"
    }
   },
   "cell_type": "code",
   "source": [
    "# Add nodes and edges\n",
    "interview_builder = StateGraph(InterviewState)\n",
    "interview_builder.add_node(\"ask_question\", generate_question)\n",
    "interview_builder.add_node(\"search_web\", search_web)\n",
    "interview_builder.add_node(\"search_wikipedia\", search_wikipedia)\n",
    "interview_builder.add_node(\"combine_documents\", combine_documents)\n",
    "interview_builder.add_node(\"answer_question\", generate_answer)\n",
    "interview_builder.add_node(\"save_interview\", save_interview)\n",
    "interview_builder.add_node(\"write_recommendations\", write_recommendations)\n",
    "interview_builder.add_node(\"generate_retrieval_queries\", generate_retrieval_queries)\n",
    "interview_builder.add_node(\"create_analysts\", create_analysts)\n",
    "\n",
    "# Flow\n",
    "interview_builder.add_edge(START, \"generate_retrieval_queries\")\n",
    "interview_builder.add_edge(\"generate_retrieval_queries\", \"create_analysts\")\n",
    "interview_builder.add_edge(\"create_analysts\", \"ask_question\")\n",
    "interview_builder.add_edge(\"ask_question\", \"search_web\")\n",
    "interview_builder.add_edge(\"ask_question\", \"search_wikipedia\")\n",
    "interview_builder.add_edge(\"search_wikipedia\", \"combine_documents\")\n",
    "interview_builder.add_edge(\"search_web\", \"combine_documents\")\n",
    "interview_builder.add_edge(\"combine_documents\", \"answer_question\")\n",
    "\n",
    "interview_builder.add_conditional_edges(\"answer_question\", route_messages, ['ask_question', 'save_interview'])\n",
    "interview_builder.add_edge(\"save_interview\", \"write_recommendations\")\n",
    "interview_builder.add_edge(\"write_recommendations\", END)\n",
    "\n",
    "interview_graph = interview_builder.compile().with_config(run_name=\"Conduct Interviews\")"
   ],
   "outputs": [],
   "execution_count": 56
  },
  {
   "metadata": {
    "ExecuteTime": {
     "end_time": "2025-04-19T17:47:20.469910Z",
     "start_time": "2025-04-19T17:47:20.183284Z"
    }
   },
   "cell_type": "code",
   "source": "display(Image(interview_graph.get_graph().draw_mermaid_png()))\n",
   "outputs": [
    {
     "data": {
      "image/png": "[encoded data removed]",
      "text/plain": [
       "<IPython.core.display.Image object>"
      ]
     },
     "metadata": {},
     "output_type": "display_data"
    }
   ],
   "execution_count": 57
  },
  {
   "metadata": {
    "ExecuteTime": {
     "end_time": "2025-04-19T17:56:50.488727Z",
     "start_time": "2025-04-19T17:55:10.095121Z"
    }
   },
   "cell_type": "code",
   "source": [
    "user_profile = {\n",
    "    \"name\": \"Space Cadet\",\n",
    "    \"age\": 23,\n",
    "    \"gender\": \"Male\",\n",
    "    \"height_cm\": 183,\n",
    "    \"weight_kg\": 65,\n",
    "    \"activity_level\": \"Lightly active\",\n",
    "    \"dietary_preferences\": [\"Dairy-Free\", \"Low-Carb\"],\n",
    "    \"allergies\": [\"Peanuts\"],\n",
    "    \"health_conditions\": [\"None\"],\n",
    "    \"weight_goal\": \"Maintain weight\"\n",
    "}\n",
    "\n",
    "user = UserProfile(**user_profile)\n",
    "past_meals = []\n",
    "\n",
    "for event in interview_graph.stream({\n",
    "   \"user_profile\": user,\n",
    "}, stream_mode=\"values\"):\n",
    "    recommendations = event.get(\"recommended_meals\", \"\")\n",
    "\n",
    "    if recommendations:\n",
    "        ai_recommendations = recommendations.get(\"recommended_meals\")\n",
    "        for ai_recommendation in ai_recommendations:\n",
    "            print(f\"Meal Name: {ai_recommendation['meal_name']}\")\n",
    "            print(f\"Meal Type: {ai_recommendation['meal_type']}\")\n",
    "            print(f\"Ingredients: {', '.join(ai_recommendation['ingredients'])}\")\n",
    "            print(f\"Portion: {ai_recommendation['portion']}\")\n",
    "            print(f\"Preparation Steps:\")\n",
    "            for step in ai_recommendation['preparation_steps']:\n",
    "                print(f\"  - {step}\")\n",
    "            print(f\"Preparation Time: {ai_recommendation['prep_time_minutes']} minutes\")\n",
    "            print(f\"Goal Support: {ai_recommendation['goal_support']}\")\n",
    "            print(\"-\" * 60)"
   ],
   "outputs": [
    {
     "name": "stdout",
     "output_type": "stream",
     "text": [
      "Meal Name: Scrambled Eggs with Spinach and Turkey Bacon\n",
      "Meal Type: BREAKFAST\n",
      "Ingredients: eggs, spinach, turkey bacon, olive oil, salt, pepper\n",
      "Portion: 2 eggs, 1 cup spinach, 2 slices turkey bacon\n",
      "Preparation Steps:\n",
      "  - Heat olive oil in a pan over medium heat.\n",
      "  - Add spinach and cook until wilted.\n",
      "  - Whisk eggs with salt and pepper, then pour into the pan.\n",
      "  - Scramble the eggs with spinach until cooked through.\n",
      "  - Cook turkey bacon in a separate pan until crispy.\n",
      "  - Serve scrambled eggs with turkey bacon on the side.\n",
      "Preparation Time: 15 minutes\n",
      "Goal Support: High in protein and low in carbs, perfect for maintaining energy levels.\n",
      "------------------------------------------------------------\n",
      "Meal Name: Tofu Scramble with Avocado\n",
      "Meal Type: BREAKFAST\n",
      "Ingredients: firm tofu, bell peppers, onions, avocado, olive oil, turmeric, salt, pepper\n",
      "Portion: 1/2 block tofu, 1/2 bell pepper, 1/4 onion, 1/2 avocado\n",
      "Preparation Steps:\n",
      "  - Heat olive oil in a pan over medium heat.\n",
      "  - Add chopped bell peppers and onions, sauté until soft.\n",
      "  - Crumble tofu into the pan, add turmeric, salt, and pepper.\n",
      "  - Cook until tofu is heated through and slightly golden.\n",
      "  - Slice avocado and serve on top of the tofu scramble.\n",
      "Preparation Time: 20 minutes\n",
      "Goal Support: Rich in plant-based protein and healthy fats, supporting a balanced diet.\n",
      "------------------------------------------------------------\n",
      "Meal Name: Buffalo Chicken Egg Muffins\n",
      "Meal Type: BREAKFAST\n",
      "Ingredients: eggs, cooked shredded chicken, buffalo sauce, green onions, salt, pepper\n",
      "Portion: Makes 6 muffins\n",
      "Preparation Steps:\n",
      "  - Preheat oven to 350°F (175°C).\n",
      "  - Whisk eggs with buffalo sauce, salt, and pepper.\n",
      "  - Mix in shredded chicken and chopped green onions.\n",
      "  - Pour mixture into a greased muffin tin.\n",
      "  - Bake for 20-25 minutes until set.\n",
      "Preparation Time: 30 minutes\n",
      "Goal Support: High in protein and flavor, these muffins are perfect for a quick, satisfying breakfast.\n",
      "------------------------------------------------------------\n",
      "Meal Name: Smoked Salmon and Avocado Salad\n",
      "Meal Type: BREAKFAST\n",
      "Ingredients: smoked salmon, avocado, mixed greens, lemon juice, olive oil, salt, pepper\n",
      "Portion: 1 cup mixed greens, 100g smoked salmon, 1/2 avocado\n",
      "Preparation Steps:\n",
      "  - Place mixed greens in a bowl.\n",
      "  - Slice avocado and arrange on top of the greens.\n",
      "  - Add slices of smoked salmon.\n",
      "  - Drizzle with olive oil and lemon juice.\n",
      "  - Season with salt and pepper to taste.\n",
      "Preparation Time: 10 minutes\n",
      "Goal Support: Provides healthy fats and protein, keeping you full and energized.\n",
      "------------------------------------------------------------\n",
      "Meal Name: Sweet and Spicy Glazed Salmon\n",
      "Meal Type: LUNCH\n",
      "Ingredients: salmon fillet, sweet red chili sauce, sriracha, ginger, green onions, bok choy\n",
      "Portion: 1 salmon fillet with a side of bok choy\n",
      "Preparation Steps:\n",
      "  - Preheat the oven to 400°F (200°C).\n",
      "  - Mix sweet red chili sauce, sriracha, and ginger to make the glaze.\n",
      "  - Brush the salmon fillet with the glaze.\n",
      "  - Bake the salmon for 12-15 minutes until cooked through.\n",
      "  - Sauté bok choy in a pan with a little olive oil until tender.\n",
      "  - Garnish the salmon with chopped green onions and serve with bok choy.\n",
      "Preparation Time: 25 minutes\n",
      "Goal Support: This meal is low in carbs and high in protein, supporting weight maintenance and providing essential nutrients.\n",
      "------------------------------------------------------------\n",
      "Meal Name: Grilled Chicken and Avocado Salad\n",
      "Meal Type: LUNCH\n",
      "Ingredients: chicken breast, avocado, mixed greens, cherry tomatoes, cucumber, olive oil, lemon juice\n",
      "Portion: 1 grilled chicken breast with a large salad\n",
      "Preparation Steps:\n",
      "  - Season the chicken breast with salt and pepper.\n",
      "  - Grill the chicken for 6-7 minutes on each side until cooked through.\n",
      "  - Slice the avocado, cherry tomatoes, and cucumber.\n",
      "  - Toss mixed greens with olive oil and lemon juice.\n",
      "  - Top the salad with sliced chicken, avocado, tomatoes, and cucumber.\n",
      "Preparation Time: 20 minutes\n",
      "Goal Support: Rich in healthy fats and protein, this salad is low in carbs and helps maintain weight while providing essential nutrients.\n",
      "------------------------------------------------------------\n",
      "Meal Name: Zucchini Noodles with Pesto and Shrimp\n",
      "Meal Type: LUNCH\n",
      "Ingredients: zucchini, shrimp, basil pesto, garlic, olive oil, lemon\n",
      "Portion: 1 serving of zucchini noodles with shrimp\n",
      "Preparation Steps:\n",
      "  - Spiralize the zucchini to make noodles.\n",
      "  - Heat olive oil in a pan and sauté garlic until fragrant.\n",
      "  - Add shrimp and cook until pink and opaque.\n",
      "  - Toss zucchini noodles with shrimp and pesto.\n",
      "  - Squeeze lemon juice over the dish before serving.\n",
      "Preparation Time: 15 minutes\n",
      "Goal Support: Low in carbs and high in protein, this meal supports weight maintenance and provides a flavorful, satisfying lunch.\n",
      "------------------------------------------------------------\n",
      "Meal Name: Turkey Lettuce Wraps\n",
      "Meal Type: LUNCH\n",
      "Ingredients: ground turkey, lettuce leaves, bell pepper, onion, soy sauce, ginger, garlic\n",
      "Portion: 3-4 lettuce wraps\n",
      "Preparation Steps:\n",
      "  - Cook ground turkey in a pan until browned.\n",
      "  - Add chopped bell pepper, onion, garlic, and ginger to the pan.\n",
      "  - Stir in soy sauce and cook until vegetables are tender.\n",
      "  - Spoon the turkey mixture into lettuce leaves and wrap.\n",
      "Preparation Time: 20 minutes\n",
      "Goal Support: These wraps are low in carbs and high in protein, making them ideal for maintaining weight and enjoying a nutritious meal.\n",
      "------------------------------------------------------------\n",
      "Meal Name: Korean Beef Bowl\n",
      "Meal Type: DINNER\n",
      "Ingredients: ground beef, garlic, ginger, sesame oil, cauliflower rice, green onions, soy sauce\n",
      "Portion: 1 bowl with 150g beef and 1 cup cauliflower rice\n",
      "Preparation Steps:\n",
      "  - Cook ground beef in a pan until browned.\n",
      "  - Add minced garlic and ginger, cook for 1 minute.\n",
      "  - Stir in sesame oil and soy sauce, simmer for 5 minutes.\n",
      "  - Serve over cauliflower rice and garnish with chopped green onions.\n",
      "Preparation Time: 20 minutes\n",
      "Goal Support: Low in carbs and dairy-free, this meal provides lean protein and healthy fats.\n",
      "------------------------------------------------------------\n",
      "Meal Name: Lemon Herb Grilled Chicken\n",
      "Meal Type: DINNER\n",
      "Ingredients: chicken breast, lemon, olive oil, garlic, thyme, rosemary, asparagus\n",
      "Portion: 1 chicken breast with a side of asparagus\n",
      "Preparation Steps:\n",
      "  - Marinate chicken in lemon juice, olive oil, minced garlic, thyme, and rosemary for 30 minutes.\n",
      "  - Grill chicken until cooked through.\n",
      "  - Grill asparagus with a drizzle of olive oil until tender.\n",
      "  - Serve chicken with grilled asparagus.\n",
      "Preparation Time: 40 minutes\n",
      "Goal Support: High in protein and low in carbs, supports muscle maintenance and energy levels.\n",
      "------------------------------------------------------------\n",
      "Meal Name: Zucchini Noodles with Turkey Meatballs\n",
      "Meal Type: DINNER\n",
      "Ingredients: ground turkey, zucchini, tomato sauce, basil, garlic, onion\n",
      "Portion: 1 serving with 4 meatballs and 1 cup zucchini noodles\n",
      "Preparation Steps:\n",
      "  - Mix ground turkey with minced garlic and chopped onion, form into meatballs.\n",
      "  - Bake meatballs at 375°F for 20 minutes.\n",
      "  - Spiralize zucchini into noodles.\n",
      "  - Heat tomato sauce with basil, add meatballs and simmer for 5 minutes.\n",
      "  - Serve meatballs over zucchini noodles.\n",
      "Preparation Time: 30 minutes\n",
      "Goal Support: Low-carb and dairy-free, this meal is rich in protein and fiber.\n",
      "------------------------------------------------------------\n",
      "Meal Name: Spicy Shrimp and Avocado Salad\n",
      "Meal Type: DINNER\n",
      "Ingredients: shrimp, avocado, lime, cilantro, chili powder, mixed greens\n",
      "Portion: 1 bowl with 150g shrimp and 1 avocado\n",
      "Preparation Steps:\n",
      "  - Season shrimp with chili powder and lime juice.\n",
      "  - Sauté shrimp in a pan until cooked through.\n",
      "  - Slice avocado and toss with mixed greens and cilantro.\n",
      "  - Top salad with cooked shrimp and a squeeze of lime.\n",
      "Preparation Time: 15 minutes\n",
      "Goal Support: Rich in healthy fats and protein, this meal is low in carbs and supports weight maintenance.\n",
      "------------------------------------------------------------\n",
      "Meal Name: Sunflower Seed Butter Rice Cakes\n",
      "Meal Type: SNACKS\n",
      "Ingredients: Sunflower seed butter, Rice cakes, Banana slices\n",
      "Portion: 2 rice cakes with 1 tablespoon of sunflower seed butter and 1 banana\n",
      "Preparation Steps:\n",
      "  - Spread sunflower seed butter evenly on each rice cake.\n",
      "  - Slice the banana into thin rounds.\n",
      "  - Place banana slices on top of the sunflower seed butter.\n",
      "Preparation Time: 5 minutes\n",
      "Goal Support: This snack is low-carb and provides healthy fats and potassium, supporting energy levels and weight maintenance.\n",
      "------------------------------------------------------------\n",
      "Meal Name: Veggies and Avocado Hummus\n",
      "Meal Type: SNACKS\n",
      "Ingredients: Carrots, Celery, Bell peppers, Avocado, Chickpeas, Lemon juice, Garlic, Olive oil\n",
      "Portion: 1 cup of mixed veggies with 1/4 cup of avocado hummus\n",
      "Preparation Steps:\n",
      "  - Chop carrots, celery, and bell peppers into sticks.\n",
      "  - Blend avocado, chickpeas, lemon juice, garlic, and olive oil until smooth to make hummus.\n",
      "  - Serve veggies with a side of avocado hummus for dipping.\n",
      "Preparation Time: 10 minutes\n",
      "Goal Support: Rich in fiber and healthy fats, this snack helps maintain energy and satiety without dairy or peanuts.\n",
      "------------------------------------------------------------\n",
      "Meal Name: Roasted Spiced Chickpeas\n",
      "Meal Type: SNACKS\n",
      "Ingredients: Canned chickpeas, Olive oil, Paprika, Cumin, Salt\n",
      "Portion: 1 cup of roasted chickpeas\n",
      "Preparation Steps:\n",
      "  - Preheat oven to 400°F (200°C).\n",
      "  - Drain and rinse chickpeas, then pat dry.\n",
      "  - Toss chickpeas with olive oil, paprika, cumin, and salt.\n",
      "  - Spread on a baking sheet and roast for 20-30 minutes until crispy.\n",
      "Preparation Time: 30 minutes\n",
      "Goal Support: High in protein and fiber, these chickpeas are a crunchy, satisfying snack that supports weight maintenance.\n",
      "------------------------------------------------------------\n",
      "Meal Name: Cinnamon & Apricot Trail Mix\n",
      "Meal Type: SNACKS\n",
      "Ingredients: Dried apricots, Almonds, Pumpkin seeds, Coconut flakes, Cinnamon\n",
      "Portion: 1/2 cup of trail mix\n",
      "Preparation Steps:\n",
      "  - Chop dried apricots into small pieces.\n",
      "  - Mix apricots, almonds, pumpkin seeds, and coconut flakes in a bowl.\n",
      "  - Sprinkle with cinnamon and toss to combine.\n",
      "Preparation Time: 5 minutes\n",
      "Goal Support: This trail mix is a quick, energy-boosting snack that is low in carbs and free from dairy and peanuts.\n",
      "------------------------------------------------------------\n"
     ]
    }
   ],
   "execution_count": 73
  },
  {
   "metadata": {
    "ExecuteTime": {
     "end_time": "2025-04-19T17:44:13.534299Z",
     "start_time": "2025-04-19T16:46:19.394553Z"
    }
   },
   "cell_type": "code",
   "source": "len(recommendations.get(\"recommended_meals\"))",
   "outputs": [
    {
     "data": {
      "text/plain": [
       "17"
      ]
     },
     "execution_count": 154,
     "metadata": {},
     "output_type": "execute_result"
    }
   ],
   "execution_count": 154
  },
  {
   "metadata": {},
   "cell_type": "code",
   "outputs": [],
   "execution_count": null,
   "source": ""
  }
 ],
 "metadata": {
  "kernelspec": {
   "display_name": ".venv",
   "language": "python",
   "name": "python3"
  },
  "language_info": {
   "codemirror_mode": {
    "name": "ipython",
    "version": 3
   },
   "file_extension": ".py",
   "mimetype": "text/x-python",
   "name": "python",
   "nbconvert_exporter": "python",
   "pygments_lexer": "ipython3",
   "version": "3.13.2"
  }
 },
 "nbformat": 4,
 "nbformat_minor": 2
}
