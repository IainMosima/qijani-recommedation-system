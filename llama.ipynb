{
 "cells": [
  {
   "cell_type": "code",
   "execution_count": 27,
   "metadata": {},
   "outputs": [
    {
     "data": {
      "text/plain": [
       "True"
      ]
     },
     "execution_count": 27,
     "metadata": {},
     "output_type": "execute_result"
    }
   ],
   "source": [
    "import os\n",
    "import dotenv\n",
    "from pydantic import BaseModel, Field\n",
    "from typing import List, Optional, Literal\n",
    "\n",
    "os.environ.clear()\n",
    "dotenv.load_dotenv()"
   ]
  },
  {
   "cell_type": "markdown",
   "metadata": {},
   "source": [
    "# LLM"
   ]
  },
  {
   "cell_type": "code",
   "execution_count": 8,
   "metadata": {},
   "outputs": [],
   "source": [
    "local_llm = \"llama3\"\n",
    "model_tested = \"llama3-8b\"\n",
    "metadata = f\"CRAG, {model_tested}\""
   ]
  },
  {
   "cell_type": "markdown",
   "metadata": {},
   "source": [
    "# Create Index\n",
    "Let's index 3 blog posts"
   ]
  },
  {
   "cell_type": "code",
   "execution_count": 18,
   "metadata": {},
   "outputs": [],
   "source": [
    "from langchain.text_splitter import RecursiveCharacterTextSplitter\n",
    "from langchain_community.document_loaders import WebBaseLoader\n",
    "from langchain_community.vectorstores import SKLearnVectorStore\n",
    "from langchain_nomic.embeddings import NomicEmbeddings  # local\n",
    "from langchain_openai import OpenAIEmbeddings  # api"
   ]
  },
  {
   "cell_type": "code",
   "execution_count": 20,
   "metadata": {},
   "outputs": [],
   "source": [
    "# List of URLs to load documents from\n",
    "urls = [\n",
    "    \"https://lpi.oregonstate.edu/sites/lpi.oregonstate.edu/files/pdf/mic/micronutrients_for_health.pdf?utm_source=chatgpt.com\",\n",
    "    \"https://www.accessdata.fda.gov/scripts/InteractiveNutritionFactsLabel/assets/InteractiveNFL_Vitamins%26MineralsChart_October2021.pdf?utm_source=chatgpt.com\",\n",
    "    \"https://www.hilarispublisher.com/open-access/essential-nutrients-in-human-body.pdf?utm_source=chatgpt.com\",\n",
    "]\n",
    "\n",
    "# Load documents from the URLs\n",
    "docs = [WebBaseLoader(url).load() for url in urls]\n",
    "docs_list = [item for sublist in docs for item in sublist]\n",
    "\n",
    "# Initialize a text splitter with specified chunk size and overlap\n",
    "text_splitter = RecursiveCharacterTextSplitter.from_tiktoken_encoder(\n",
    "    chunk_size=250, chunk_overlap=0\n",
    ")\n",
    "\n",
    "# Split the documents into chunks\n",
    "doc_splits = text_splitter.split_documents(docs_list)\n",
    "\n",
    "# # Embedding\n",
    "# embedding=NomicEmbeddings(\n",
    "#     model=\"nomic-embed-text-v1.5\",\n",
    "#     inference_mode=\"local\",\n",
    "# )\n",
    "\n",
    "embedding = OpenAIEmbeddings()\n",
    "\n",
    "\n",
    "# Add the document chunks to the \"vector store\"\n",
    "vectorstore = SKLearnVectorStore.from_documents(\n",
    "    documents=doc_splits,\n",
    "    embedding=embedding,\n",
    ")\n",
    "retriever = vectorstore.as_retriever(k=4)\n"
   ]
  },
  {
   "cell_type": "markdown",
   "metadata": {},
   "source": [
    "# Define Tools"
   ]
  },
  {
   "cell_type": "code",
   "execution_count": 31,
   "metadata": {},
   "outputs": [
    {
     "name": "stdout",
     "output_type": "stream",
     "text": [
      "{\n",
      "    \"name\": \"Space Cadet\",\n",
      "    \"age\": 23,\n",
      "    \"gender\": \"Male\",\n",
      "    \"height_cm\": 183,\n",
      "    \"weight_kg\": 65.0,\n",
      "    \"activity_level\": \"Lightly active\",\n",
      "    \"dietary_preferences\": [\n",
      "        \"Dairy-Free\",\n",
      "        \"Low-Carb\"\n",
      "    ],\n",
      "    \"allergies\": [\n",
      "        \"Peanuts\"\n",
      "    ],\n",
      "    \"health_conditions\": [\n",
      "        \"None\"\n",
      "    ],\n",
      "    \"weight_goal\": \"Maintain weight\"\n",
      "}\n"
     ]
    }
   ],
   "source": [
    "class UserProfile(BaseModel):\n",
    "    name: Optional[str] = Field(None, description=\"User's full name\")\n",
    "    age: int = Field(..., ge=0, le=120, description=\"User's age\")\n",
    "    gender: str = Field(..., description=\"Male, Female, or Other\")\n",
    "    height_cm: int = Field(..., gt=50, lt=250, description=\"Height in cm\")\n",
    "    weight_kg: float = Field(..., gt=20, lt=300, description=\"Weight in kg\")\n",
    "    activity_level: str = Field(..., description=\"Sedentary, Lightly active, Moderately active, Very active, Super active\")\n",
    "    dietary_preferences: List[Literal[\n",
    "        \"Vegetarian\", \"Vegan\", \"Pescatarian\", \"Keto\", \"Paleo\", \n",
    "        \"Gluten-Free\", \"Dairy-Free\", \"Nut-Free\", \"Halal\", \"Kosher\",\n",
    "        \"Low-Carb\", \"Low-Fat\", \"High-Protein\", \"Mediterranean\", \"FODMAP\", \"Sugar-Free\"\n",
    "    ]] = Field(default=[], description=\"User's dietary preferences, can be one or more.\")\n",
    "    allergies: List[str] = Field(default=[], description=\"User's allergies\")\n",
    "    health_conditions: List[str] = Field(default=[], description=\"Any medical conditions\")\n",
    "    weight_goal: str = Field(..., description=\"Lose weight, Maintain weight, Gain muscle\")\n",
    "\n",
    "\n",
    "user_profile = {\n",
    "    \"name\": \"Space Cadet\",\n",
    "    \"age\": 23,\n",
    "    \"gender\": \"Male\",\n",
    "    \"height_cm\": 183,\n",
    "    \"weight_kg\": 65,\n",
    "    \"activity_level\": \"Lightly active\",\n",
    "    \"dietary_preferences\": [\"Dairy-Free\", \"Low-Carb\"],\n",
    "    \"allergies\": [\"Peanuts\"],\n",
    "    \"health_conditions\": [\"None\"],\n",
    "    \"weight_goal\": \"Maintain weight\"\n",
    "}\n",
    "\n",
    "user = UserProfile(**user_profile)\n",
    "past_meals=[]\n",
    "print(user.model_dump_json(indent=4))"
   ]
  },
  {
   "cell_type": "code",
   "execution_count": null,
   "metadata": {},
   "outputs": [],
   "source": []
  }
 ],
 "metadata": {
  "kernelspec": {
   "display_name": ".venv",
   "language": "python",
   "name": "python3"
  },
  "language_info": {
   "codemirror_mode": {
    "name": "ipython",
    "version": 3
   },
   "file_extension": ".py",
   "mimetype": "text/x-python",
   "name": "python",
   "nbconvert_exporter": "python",
   "pygments_lexer": "ipython3",
   "version": "3.13.2"
  }
 },
 "nbformat": 4,
 "nbformat_minor": 2
}
