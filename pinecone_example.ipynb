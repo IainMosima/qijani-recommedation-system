{
 "cells": [
  {
   "cell_type": "markdown",
   "metadata": {},
   "source": [
    "# Recommendation System with Pinecone Vector Database"
   ]
  },
  {
   "cell_type": "code",
   "execution_count": 1,
   "metadata": {},
   "outputs": [
    {
     "name": "stderr",
     "output_type": "stream",
     "text": [
      "/Users/apple/Desktop/Qijani/recommedation-system-2/.venv/lib/python3.13/site-packages/tqdm/auto.py:21: TqdmWarning: IProgress not found. Please update jupyter and ipywidgets. See https://ipywidgets.readthedocs.io/en/stable/user_install.html\n",
      "  from .autonotebook import tqdm as notebook_tqdm\n"
     ]
    },
    {
     "data": {
      "text/plain": [
       "True"
      ]
     },
     "execution_count": 1,
     "metadata": {},
     "output_type": "execute_result"
    }
   ],
   "source": [
    "import os\n",
    "import dotenv\n",
    "import sys\n",
    "\n",
    "# Add the current directory to path instead of parent\n",
    "project_root = os.path.dirname(os.path.abspath(\"__file__\"))\n",
    "sys.path.append(project_root)\n",
    "\n",
    "from src.config.pinecone_config import initialize_pinecone\n",
    "\n",
    "# Load environment variables\n",
    "dotenv.load_dotenv()"
   ]
  },
  {
   "cell_type": "code",
   "execution_count": null,
   "metadata": {},
   "outputs": [
    {
     "name": "stdout",
     "output_type": "stream",
     "text": [
      "Using existing Pinecone index: recommendation-index\n"
     ]
    }
   ],
   "source": [
    "# Initialize Pinecone\n",
    "initialize_pinecone()"
   ]
  },
  {
   "cell_type": "markdown",
   "metadata": {},
   "source": [
    "## 1. Load Document Data"
   ]
  },
  {
   "cell_type": "code",
   "execution_count": 3,
   "metadata": {},
   "outputs": [],
   "source": [
    "from langchain.text_splitter import RecursiveCharacterTextSplitter\n",
    "from langchain_community.document_loaders import WebBaseLoader\n",
    "\n",
    "# List of URLs to load documents from\n",
    "urls = [\n",
    "    \"https://lpi.oregonstate.edu/sites/lpi.oregonstate.edu/files/pdf/mic/micronutrients_for_health.pdf\",\n",
    "    \"https://www.accessdata.fda.gov/scripts/InteractiveNutritionFactsLabel/assets/InteractiveNFL_Vitamins%26MineralsChart_October2021.pdf\",\n",
    "    \"https://www.hilarispublisher.com/open-access/essential-nutrients-in-human-body.pdf\",\n",
    "]\n",
    "\n",
    "# Load and split documents - this would be done only once\n",
    "def load_documents():\n",
    "    # Load documents from the URLs\n",
    "    docs = [WebBaseLoader(url).load() for url in urls]\n",
    "    docs_list = [item for sublist in docs for item in sublist]\n",
    "\n",
    "    # Initialize a text splitter with specified chunk size and overlap\n",
    "    text_splitter = RecursiveCharacterTextSplitter.from_tiktoken_encoder(\n",
    "        chunk_size=250, chunk_overlap=0\n",
    "    )\n",
    "\n",
    "    # Split the documents into chunks\n",
    "    doc_splits = text_splitter.split_documents(docs_list)\n",
    "    return doc_splits"
   ]
  },
  {
   "cell_type": "markdown",
   "metadata": {},
   "source": [
    "## 2. Process Documents and Store in Pinecone"
   ]
  },
  {
   "cell_type": "code",
   "execution_count": null,
   "metadata": {},
   "outputs": [
    {
     "name": "stdout",
     "output_type": "stream",
     "text": [
      "Processing and storing documents in Pinecone...\n",
      "Documents loaded and processed: 50\n"
     ]
    }
   ],
   "source": [
    "from src.services.recommendation_engine import RecommendationEngine\n",
    "\n",
    "\n",
    "print(\"Processing and storing documents in Pinecone...\")\n",
    "\n",
    "# Create recommendation engine\n",
    "recommendation_engine = RecommendationEngine()\n",
    "\n",
    "# For this example, let's just process a small sample to demonstrate\n",
    "docs = load_documents()[:50]  # Limit to 50 documents for example purposes\n",
    "print(f\"Documents loaded and processed: {len(docs)}\")\n",
    "\n",
    "# Extract content and metadata\n",
    "contents = [doc.page_content for doc in docs]\n",
    "metadatas = []\n",
    "\n",
    "for doc in docs:\n",
    "    metadata = dict(doc.metadata)\n",
    "    # Add document type\n",
    "    metadata[\"document_type\"] = \"nutrition_article\"\n",
    "    metadatas.append(metadata)"
   ]
  },
  {
   "cell_type": "code",
   "execution_count": 5,
   "metadata": {},
   "outputs": [
    {
     "name": "stdout",
     "output_type": "stream",
     "text": [
      "Generating new embedding for: Micronutrients for Health...\n",
      "Generating new embedding for: Information about the amount of vitamins and minerals...\n",
      "Generating new embedding for: Vitamins & Minerals Chart...\n",
      "Using cached embedding for: Micronutrients for Health...\n",
      "All documents stored in Pinecone!\n"
     ]
    }
   ],
   "source": [
    "# Add items to recommendation engine in smaller batches\n",
    "batch_size = 10\n",
    "for i in range(0, len(contents), batch_size):\n",
    "    batch_contents = contents[i:i+batch_size]\n",
    "    batch_metadatas = metadatas[i:i+batch_size]\n",
    "    \n",
    "    # This will use the cache for any existing embeddings\n",
    "    ids = recommendation_engine.bulk_add_items(\n",
    "        contents=batch_contents,\n",
    "        metadatas=batch_metadatas,\n",
    "        item_types=[\"nutrition_document\"] * len(batch_contents)\n",
    "    )\n",
    "\n",
    "print(\"All documents stored in Pinecone!\")"
   ]
  },
  {
   "cell_type": "markdown",
   "metadata": {},
   "source": [
    "## 3. Make Recommendations"
   ]
  },
  {
   "cell_type": "code",
   "execution_count": 6,
   "metadata": {},
   "outputs": [
    {
     "name": "stdout",
     "output_type": "stream",
     "text": [
      "Generating new embedding for: What are the best sources of vitamin C?...\n",
      "Top recommendations for 'What are the best sources of vitamin C?':\n",
      "\n",
      "1. Score: 0.82\n",
      "Content: Information about the amount of vitamins and minerals you should consume based on your personal calorie level. Information about the impact of vitamins and minerals on your health—and the impact your lifestyle may have on your nutritional needs.\n",
      "\n",
      "2. Score: 0.78\n",
      "Content: Micronutrients for Health\n",
      "\n",
      "3. Score: 0.71\n",
      "Content: Vitamins & Minerals Chart\n",
      "\n"
     ]
    }
   ],
   "source": [
    "# Get recommendations for a query\n",
    "query = \"What are the best sources of vitamin C?\"\n",
    "results = recommendation_engine.get_recommendations(query, top_k=3)\n",
    "\n",
    "# Display results\n",
    "print(f\"Top recommendations for '{query}':\\n\")\n",
    "for i, result in enumerate(results, 1):\n",
    "    print(f\"{i}. Score: {result['score']:.2f}\")\n",
    "    print(f\"Content: {result['metadata']['content']}\\n\")"
   ]
  },
  {
   "cell_type": "markdown",
   "metadata": {},
   "source": [
    "## 4. Test Caching Functionality"
   ]
  },
  {
   "cell_type": "code",
   "execution_count": 7,
   "metadata": {},
   "outputs": [
    {
     "name": "stdout",
     "output_type": "stream",
     "text": [
      "Using cached embedding for: What are the best sources of vitamin C?...\n",
      "Same query again demonstrates the caching mechanism!\n",
      "\n",
      "Retrieval times should be much faster now that embeddings are cached\n"
     ]
    }
   ],
   "source": [
    "# Use the same query again to demonstrate caching\n",
    "results = recommendation_engine.get_recommendations(query, top_k=3)\n",
    "print(\"Same query again demonstrates the caching mechanism!\\n\")\n",
    "print(\"Retrieval times should be much faster now that embeddings are cached\")"
   ]
  }
 ],
 "metadata": {
  "kernelspec": {
   "display_name": ".venv",
   "language": "python",
   "name": "python3"
  },
  "language_info": {
   "codemirror_mode": {
    "name": "ipython",
    "version": 3
   },
   "file_extension": ".py",
   "mimetype": "text/x-python",
   "name": "python",
   "nbconvert_exporter": "python",
   "pygments_lexer": "ipython3",
   "version": "3.13.2"
  }
 },
 "nbformat": 4,
 "nbformat_minor": 2
}
